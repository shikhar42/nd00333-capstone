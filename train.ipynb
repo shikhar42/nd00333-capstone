{
 "cells": [
  {
   "cell_type": "code",
   "execution_count": null,
   "metadata": {},
   "outputs": [],
   "source": [
    "from sklearn.linear_model import LogisticRegression\n",
    "import argparse\n",
    "import os\n",
    "import numpy as np\n",
    "from sklearn.metrics import mean_squared_error\n",
    "import joblib\n",
    "from sklearn.model_selection import train_test_split\n",
    "import pandas as pd\n",
    "from azureml.core.run import Run\n",
    "from azureml.data.dataset_factory import TabularDatasetFactory\n",
    "from azureml.core import Dataset\n",
    "from azureml.core import Workspace, Datastore"
   ]
  },
  {
   "cell_type": "code",
   "execution_count": null,
   "metadata": {},
   "outputs": [],
   "source": [
    "run = Run.get_context()\n",
    "ws = run.experiment.workspace\n",
    "data = ws.datasets['HR_Analytics']"
   ]
  },
  {
   "cell_type": "code",
   "execution_count": null,
   "metadata": {},
   "outputs": [],
   "source": [
    "def clean_data(df):\n",
    "    # Clean and one hot encode data\n",
    "    x = df.to_pandas_dataframe().dropna()\n",
    "    x.drop([\"enrollee_id\", \"city\"], axis=1, inplace=True)## to many values in that column\n",
    "    gender = pd.get_dummies(x.gender, prefix=\"gender\")\n",
    "    x.drop(\"gender\", axis=1, inplace=True)\n",
    "    x.join(gender)\n",
    "    \n",
    "    x[\"relevent_experience\"] = x.relevent_experience.apply(lambda s: 1 if s == \"Has relevent experience\" else 0)\n",
    "    \n",
    "    major_discipline = pd.get_dummies(x.major_discipline, prefix=\"major_discipline\")\n",
    "    x.drop(\"major_discipline\", axis=1, inplace=True)\n",
    "    x.join(major_discipline)\n",
    "    \n",
    "\n",
    "    education_level = pd.get_dummies(x.education_level, prefix=\"education_level\")\n",
    "    x.drop(\"education_level\", axis=1, inplace=True)\n",
    "    x.join(education_level)\n",
    "    \n",
    "    last_new_job = pd.get_dummies(x.last_new_job, prefix=\"last_new_job\")\n",
    "    x.drop(\"last_new_job\", axis=1, inplace=True)\n",
    "    x.join(last_new_job)\n",
    "\n",
    "    \n",
    "    company_type = pd.get_dummies(x.company_type, prefix=\"company_type\")\n",
    "    x.drop(\"company_type\", axis=1, inplace=True)\n",
    "    x.join(company_type)\n",
    "    \n",
    "    experience = pd.get_dummies(x.experience, prefix=\"experience\")\n",
    "    x.drop(\"experience\", axis=1, inplace=True)\n",
    "    x.join(experience)\n",
    "    \n",
    "    enrolled_university = pd.get_dummies(x.enrolled_university, prefix=\"enrolled\")\n",
    "    x.drop(\"enrolled_university\", axis=1, inplace=True)\n",
    "    x.join(enrolled_university)\n",
    "\n",
    "    company_size = pd.get_dummies(x.company_size, prefix=\"company_size\")\n",
    "    x.drop(\"company_size\", axis=1, inplace=True)\n",
    "    x.join(company_size)\n",
    "\n",
    "   \n",
    "    y_df = x.pop(\"target\")\n",
    "\n",
    "    return x, y_df"
   ]
  },
  {
   "cell_type": "code",
   "execution_count": null,
   "metadata": {},
   "outputs": [],
   "source": [
    "def main():\n",
    "    # Add arguments to script\n",
    "    parser = argparse.ArgumentParser()\n",
    "\n",
    "    parser.add_argument('--C', type=float, default=1.0, help=\"Inverse of regularization strength. Smaller values cause stronger regularization\")\n",
    "    parser.add_argument('--max_iter', type=int, default=100, help=\"Maximum number of iterations to converge\")\n",
    "\n",
    "    args = parser.parse_args()\n",
    "\n",
    "    run.log(\"Regularization Strength:\", np.float(args.C))\n",
    "    run.log(\"Max iterations:\", np.int(args.max_iter))\n",
    "    \n",
    "    x, y = clean_data(data)\n",
    "  \n",
    "\n",
    "    # Splitting data into train and test sets.\n",
    "    x_train, x_test, y_train, y_test = train_test_split(x, y, test_size=0.33)\n",
    "\n",
    "    model = LogisticRegression(C=args.C, max_iter=args.max_iter).fit(x_train, y_train)\n",
    "\n",
    "    accuracy = model.score(x_test, y_test)\n",
    "    run.log(\"Accuracy\", np.float(accuracy))\n",
    "    \n",
    "    os.makedirs('outputs', exist_ok=True)\n",
    "    joblib.dump(model, 'outputs/hyperdrive_model.joblib')"
   ]
  },
  {
   "cell_type": "code",
   "execution_count": null,
   "metadata": {},
   "outputs": [],
   "source": [
    "if __name__ == '__main__':\n",
    "    main()"
   ]
  }
 ],
 "metadata": {
  "jupytext": {
   "cell_metadata_filter": "-all",
   "notebook_metadata_filter": "-all",
   "text_representation": {
    "extension": ".py",
    "format_name": "light"
   }
  },
  "kernelspec": {
   "display_name": "Python 3.6 - AzureML",
   "language": "python",
   "name": "python3-azureml"
  }
 },
 "nbformat": 4,
 "nbformat_minor": 4
}
