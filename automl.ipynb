{
 "cells": [
  {
   "cell_type": "markdown",
   "metadata": {},
   "source": [
    "# Automated ML\n",
    "\n",
    "TODO: Import Dependencies. In the cell below, import all the dependencies that you will need to complete the project."
   ]
  },
  {
   "cell_type": "code",
   "execution_count": 1,
   "metadata": {
    "gather": {
     "logged": 1598423888013
    },
    "jupyter": {
     "outputs_hidden": false,
     "source_hidden": false
    },
    "nteract": {
     "transient": {
      "deleting": false
     }
    }
   },
   "outputs": [],
   "source": [
    "from azureml.core import Workspace, Experiment, Dataset\n",
    "from azureml.core.compute import ComputeTarget, AmlCompute\n",
    "from azureml.core.compute_target import ComputeTargetException\n",
    "from azureml.train.automl import AutoMLConfig\n",
    "from azureml.pipeline.steps import AutoMLStep\n",
    "from azureml.widgets import RunDetails\n",
    "import joblib \n",
    "from azureml.core.environment import Environment\n",
    "from azureml.core.model import InferenceConfig, Model\n",
    "from azureml.core.webservice.aci import AciWebservice\n",
    "from azureml.core.webservice import Webservice\n",
    "import azureml.core\n"
   ]
  },
  {
   "cell_type": "markdown",
   "metadata": {},
   "source": [
    "## Dataset\n",
    "\n",
    "### Overview\n",
    "TODO: In this markdown cell, give an overview of the dataset you are using. Also mention the task you will be performing.\n",
    "\n",
    "\n",
    "TODO: Get data. In the cell below, write code to access the data you will be using in this project. Remember that the dataset needs to be external."
   ]
  },
  {
   "cell_type": "code",
   "execution_count": 2,
   "metadata": {
    "gather": {
     "logged": 1598423890461
    },
    "jupyter": {
     "outputs_hidden": false,
     "source_hidden": false
    },
    "nteract": {
     "transient": {
      "deleting": false
     }
    }
   },
   "outputs": [],
   "source": [
    "ws = Workspace.from_config()\n",
    "\n",
    "# choose a name for experiment\n",
    "experiment_name = 'auto_ml_hr_analytics'\n",
    "\n",
    "experiment=Experiment(ws, experiment_name)\n"
   ]
  },
  {
   "cell_type": "code",
   "execution_count": 3,
   "metadata": {},
   "outputs": [
    {
     "name": "stdout",
     "output_type": "stream",
     "text": [
      "HR_Analytics\n"
     ]
    }
   ],
   "source": [
    "for ds in ws.datasets:\n",
    "    print(ds)"
   ]
  },
  {
   "cell_type": "code",
   "execution_count": 4,
   "metadata": {},
   "outputs": [
    {
     "data": {
      "text/plain": [
       "{\n",
       "  \"source\": [\n",
       "    \"('workspaceblobstore', 'UI/02-07-2021_122258_UTC/aug_train.csv')\"\n",
       "  ],\n",
       "  \"definition\": [\n",
       "    \"GetDatastoreFiles\",\n",
       "    \"ParseDelimited\",\n",
       "    \"DropColumns\",\n",
       "    \"SetColumnTypes\"\n",
       "  ],\n",
       "  \"registration\": {\n",
       "    \"id\": \"ad8ae88d-b694-45df-a5a0-a40d4349755f\",\n",
       "    \"name\": \"HR_Analytics\",\n",
       "    \"version\": 1,\n",
       "    \"workspace\": \"Workspace.create(name='quick-starts-ws-137675', subscription_id='9e65f93e-bdd8-437b-b1e8-0647cd6098f7', resource_group='aml-quickstarts-137675')\"\n",
       "  }\n",
       "}"
      ]
     },
     "execution_count": 4,
     "metadata": {},
     "output_type": "execute_result"
    }
   ],
   "source": [
    "data = ws.datasets[\"HR_Analytics\"]\n",
    "data"
   ]
  },
  {
   "cell_type": "markdown",
   "metadata": {},
   "source": [
    "## AutoML Configuration\n",
    "\n",
    "TODO: Explain why you chose the automl settings and cofiguration you used below."
   ]
  },
  {
   "cell_type": "code",
   "execution_count": 5,
   "metadata": {},
   "outputs": [
    {
     "name": "stdout",
     "output_type": "stream",
     "text": [
      "Cluster exists\n"
     ]
    }
   ],
   "source": [
    "try:\n",
    "    cluster_project = ComputeTarget(workspace=ws, name=\"aml-compute-capstone\")\n",
    "    print(\"Cluster exists\")\n",
    "except:\n",
    "    config = AmlCompute.provisioning_configuration(vm_size='STANDARD_D2_V2', max_nodes=4)\n",
    "    cluster_project = ComputeTarget.create(ws, \"aml-compute-capstone\", config)\n",
    "\n",
    "cluster_project.wait_for_completion()"
   ]
  },
  {
   "cell_type": "code",
   "execution_count": 6,
   "metadata": {
    "gather": {
     "logged": 1598429217746
    },
    "jupyter": {
     "outputs_hidden": false,
     "source_hidden": false
    },
    "nteract": {
     "transient": {
      "deleting": false
     }
    }
   },
   "outputs": [],
   "source": [
    "# TODO: Put your automl settings here\n",
    "automl_settings = {\n",
    "    \"experiment_timeout_minutes\": 30,\n",
    "    \"task\": \"classification\", \n",
    "    \"primary_metric\": \"accuracy\",\n",
    "    \"training_data\": data,\n",
    "    \"label_column_name\": \"target\",\n",
    "    \"n_cross_validations\": 5,\n",
    "    \"compute_target\": cluster_project\n",
    "}\n",
    "\n",
    "# TODO: Put your automl config here\n",
    "automl_config = AutoMLConfig(**automl_settings)"
   ]
  },
  {
   "cell_type": "code",
   "execution_count": 7,
   "metadata": {
    "gather": {
     "logged": 1598431107951
    },
    "jupyter": {
     "outputs_hidden": false,
     "source_hidden": false
    },
    "nteract": {
     "transient": {
      "deleting": false
     }
    }
   },
   "outputs": [
    {
     "name": "stdout",
     "output_type": "stream",
     "text": [
      "Running on remote.\n",
      "No run_configuration provided, running on aml-compute-capstone with default configuration\n",
      "Running on remote compute: aml-compute-capstone\n",
      "Parent Run ID: AutoML_f0ad48f8-eb49-4ded-ae3f-db5055e453ba\n",
      "\n",
      "Current status: FeaturesGeneration. Generating features for the dataset.\n",
      "Current status: DatasetFeaturization. Beginning to fit featurizers and featurize the dataset.\n",
      "Current status: DatasetCrossValidationSplit. Generating individually featurized CV splits.\n",
      "Current status: ModelSelection. Beginning model selection.\n",
      "\n",
      "****************************************************************************************************\n",
      "DATA GUARDRAILS: \n",
      "\n",
      "TYPE:         Class balancing detection\n",
      "STATUS:       PASSED\n",
      "DESCRIPTION:  Your inputs were analyzed, and all classes are balanced in your training data.\n",
      "              Learn more about imbalanced data: https://aka.ms/AutomatedMLImbalancedData\n",
      "\n",
      "****************************************************************************************************\n",
      "\n",
      "TYPE:         Missing feature values imputation\n",
      "STATUS:       DONE\n",
      "DESCRIPTION:  If the missing values are expected, let the run complete. Otherwise cancel the current run and use a script to customize the handling of missing feature values that may be more appropriate based on the data type and business requirement.\n",
      "              Learn more about missing value imputation: https://aka.ms/AutomatedMLFeaturization\n",
      "DETAILS:      \n",
      "+---------------------------------+---------------------------------+\n",
      "|Column name                      |Missing value count              |\n",
      "+=================================+=================================+\n",
      "|gender                           |4508                             |\n",
      "|enrolled_university              |386                              |\n",
      "|education_level                  |460                              |\n",
      "|major_discipline                 |2813                             |\n",
      "|experience                       |65                               |\n",
      "|company_size                     |5938                             |\n",
      "|company_type                     |6140                             |\n",
      "|last_new_job                     |423                              |\n",
      "+---------------------------------+---------------------------------+\n",
      "\n",
      "****************************************************************************************************\n",
      "\n",
      "TYPE:         High cardinality feature detection\n",
      "STATUS:       PASSED\n",
      "DESCRIPTION:  Your inputs were analyzed, and no high cardinality features were detected.\n",
      "              Learn more about high cardinality feature handling: https://aka.ms/AutomatedMLFeaturization\n",
      "\n",
      "****************************************************************************************************\n",
      "\n",
      "****************************************************************************************************\n",
      "ITERATION: The iteration being evaluated.\n",
      "PIPELINE: A summary description of the pipeline being evaluated.\n",
      "DURATION: Time taken for the current iteration.\n",
      "METRIC: The result of computing score on the fitted pipeline.\n",
      "BEST: The best observed score thus far.\n",
      "****************************************************************************************************\n",
      "\n",
      " ITERATION   PIPELINE                                       DURATION      METRIC      BEST\n",
      "         0   MaxAbsScaler LightGBM                          0:01:08       0.7949    0.7949\n",
      "         1   MaxAbsScaler XGBoostClassifier                 0:01:03       0.7926    0.7949\n",
      "         2   MaxAbsScaler RandomForest                      0:00:59       0.7742    0.7949\n",
      "         3   MaxAbsScaler RandomForest                      0:00:56       0.7659    0.7949\n",
      "         4   MaxAbsScaler RandomForest                      0:00:58       0.7520    0.7949\n",
      "         5   MaxAbsScaler RandomForest                      0:01:53       0.6960    0.7949\n",
      "         6   SparseNormalizer XGBoostClassifier             0:01:04       0.7776    0.7949\n",
      "         7   MaxAbsScaler RandomForest                      0:02:38       0.7563    0.7949\n",
      "         8   SparseNormalizer LightGBM                      0:00:58       0.7683    0.7949\n",
      "         9   MaxAbsScaler LogisticRegression                0:01:00       0.7719    0.7949\n",
      "        10   SparseNormalizer XGBoostClassifier             0:01:37       0.7804    0.7949\n",
      "        11   MaxAbsScaler LightGBM                          0:00:55       0.7704    0.7949\n",
      "        12   MaxAbsScaler ExtremeRandomTrees                0:01:44       0.7547    0.7949\n",
      "        13   StandardScalerWrapper LightGBM                 0:00:59       0.7507    0.7949\n",
      "        14   StandardScalerWrapper RandomForest             0:01:16       0.7798    0.7949\n",
      "        15   SparseNormalizer XGBoostClassifier             0:01:01       0.7759    0.7949\n",
      "        16   StandardScalerWrapper RandomForest             0:00:51       0.7539    0.7949\n",
      "        17   StandardScalerWrapper LightGBM                 0:00:53       0.7507    0.7949\n",
      "        18   MaxAbsScaler LogisticRegression                0:01:05       0.7712    0.7949\n",
      "        19   StandardScalerWrapper LightGBM                 0:01:08       0.7966    0.7966\n",
      "        20   StandardScalerWrapper XGBoostClassifier        0:01:03       0.7791    0.7966\n",
      "        21    VotingEnsemble                                0:01:29       0.8006    0.8006\n",
      "        22    StackEnsemble                                 0:01:51       0.7961    0.8006\n"
     ]
    }
   ],
   "source": [
    "# TODO: Submit your experiment\n",
    "remote_run = experiment.submit(automl_config,show_output=True)"
   ]
  },
  {
   "cell_type": "markdown",
   "metadata": {},
   "source": [
    "## Run Details\n",
    "\n",
    "OPTIONAL: Write about the different models trained and their performance. Why do you think some models did better than others?\n",
    "\n",
    "TODO: In the cell below, use the `RunDetails` widget to show the different experiments."
   ]
  },
  {
   "cell_type": "code",
   "execution_count": 9,
   "metadata": {
    "gather": {
     "logged": 1598431121770
    },
    "jupyter": {
     "outputs_hidden": false,
     "source_hidden": false
    },
    "nteract": {
     "transient": {
      "deleting": false
     }
    }
   },
   "outputs": [
    {
     "data": {
      "application/vnd.jupyter.widget-view+json": {
       "model_id": "fffb2686de2545fb877c8f66554b2d3b",
       "version_major": 2,
       "version_minor": 0
      },
      "text/plain": [
       "_AutoMLWidget(widget_settings={'childWidgetDisplay': 'popup', 'send_telemetry': False, 'log_level': 'INFO', 's…"
      ]
     },
     "metadata": {},
     "output_type": "display_data"
    },
    {
     "data": {
      "application/aml.mini.widget.v1": "{\"status\": \"Completed\", \"workbench_run_details_uri\": \"https://ml.azure.com/experiments/auto_ml_hr_analytics/runs/AutoML_f0ad48f8-eb49-4ded-ae3f-db5055e453ba?wsid=/subscriptions/9e65f93e-bdd8-437b-b1e8-0647cd6098f7/resourcegroups/aml-quickstarts-137675/workspaces/quick-starts-ws-137675\", \"run_id\": \"AutoML_f0ad48f8-eb49-4ded-ae3f-db5055e453ba\", \"run_properties\": {\"run_id\": \"AutoML_f0ad48f8-eb49-4ded-ae3f-db5055e453ba\", \"created_utc\": \"2021-02-07T00:26:07.142155Z\", \"properties\": {\"num_iterations\": \"1000\", \"training_type\": \"TrainFull\", \"acquisition_function\": \"EI\", \"primary_metric\": \"accuracy\", \"train_split\": \"0\", \"acquisition_parameter\": \"0\", \"num_cross_validation\": \"5\", \"target\": \"aml-compute-capstone\", \"AMLSettingsJsonString\": \"{\\\"path\\\":null,\\\"name\\\":\\\"auto_ml_hr_analytics\\\",\\\"subscription_id\\\":\\\"9e65f93e-bdd8-437b-b1e8-0647cd6098f7\\\",\\\"resource_group\\\":\\\"aml-quickstarts-137675\\\",\\\"workspace_name\\\":\\\"quick-starts-ws-137675\\\",\\\"region\\\":\\\"southcentralus\\\",\\\"compute_target\\\":\\\"aml-compute-capstone\\\",\\\"spark_service\\\":null,\\\"azure_service\\\":\\\"remote\\\",\\\"many_models\\\":false,\\\"pipeline_fetch_max_batch_size\\\":1,\\\"iterations\\\":1000,\\\"primary_metric\\\":\\\"accuracy\\\",\\\"task_type\\\":\\\"classification\\\",\\\"data_script\\\":null,\\\"validation_size\\\":0.0,\\\"n_cross_validations\\\":5,\\\"y_min\\\":null,\\\"y_max\\\":null,\\\"num_classes\\\":null,\\\"featurization\\\":\\\"auto\\\",\\\"_ignore_package_version_incompatibilities\\\":false,\\\"is_timeseries\\\":false,\\\"max_cores_per_iteration\\\":1,\\\"max_concurrent_iterations\\\":1,\\\"iteration_timeout_minutes\\\":null,\\\"mem_in_mb\\\":null,\\\"enforce_time_on_windows\\\":false,\\\"experiment_timeout_minutes\\\":30,\\\"experiment_exit_score\\\":null,\\\"whitelist_models\\\":null,\\\"blacklist_algos\\\":[\\\"TensorFlowLinearClassifier\\\",\\\"TensorFlowDNN\\\"],\\\"supported_models\\\":[\\\"ExtremeRandomTrees\\\",\\\"TensorFlowLinearClassifier\\\",\\\"DecisionTree\\\",\\\"SVM\\\",\\\"KNN\\\",\\\"GradientBoosting\\\",\\\"LightGBM\\\",\\\"BernoulliNaiveBayes\\\",\\\"SGD\\\",\\\"MultinomialNaiveBayes\\\",\\\"AveragedPerceptronClassifier\\\",\\\"TensorFlowDNN\\\",\\\"LinearSVM\\\",\\\"LogisticRegression\\\",\\\"XGBoostClassifier\\\",\\\"RandomForest\\\"],\\\"auto_blacklist\\\":true,\\\"blacklist_samples_reached\\\":false,\\\"exclude_nan_labels\\\":true,\\\"verbosity\\\":20,\\\"_debug_log\\\":\\\"azureml_automl.log\\\",\\\"show_warnings\\\":false,\\\"model_explainability\\\":true,\\\"service_url\\\":null,\\\"sdk_url\\\":null,\\\"sdk_packages\\\":null,\\\"enable_onnx_compatible_models\\\":false,\\\"enable_split_onnx_featurizer_estimator_models\\\":false,\\\"vm_type\\\":\\\"STANDARD_D2_V2\\\",\\\"telemetry_verbosity\\\":20,\\\"send_telemetry\\\":true,\\\"enable_dnn\\\":false,\\\"scenario\\\":\\\"SDK-1.13.0\\\",\\\"environment_label\\\":null,\\\"force_text_dnn\\\":false,\\\"enable_feature_sweeping\\\":true,\\\"enable_early_stopping\\\":false,\\\"early_stopping_n_iters\\\":10,\\\"metrics\\\":null,\\\"enable_ensembling\\\":true,\\\"enable_stack_ensembling\\\":true,\\\"ensemble_iterations\\\":15,\\\"enable_tf\\\":false,\\\"enable_subsampling\\\":null,\\\"subsample_seed\\\":null,\\\"enable_nimbusml\\\":false,\\\"enable_streaming\\\":false,\\\"force_streaming\\\":false,\\\"track_child_runs\\\":true,\\\"allowed_private_models\\\":[],\\\"label_column_name\\\":\\\"target\\\",\\\"weight_column_name\\\":null,\\\"cv_split_column_names\\\":null,\\\"enable_local_managed\\\":false,\\\"_local_managed_run_id\\\":null,\\\"cost_mode\\\":1,\\\"lag_length\\\":0,\\\"metric_operation\\\":\\\"maximize\\\",\\\"preprocess\\\":true}\", \"DataPrepJsonString\": \"{\\\\\\\"training_data\\\\\\\": \\\\\\\"{\\\\\\\\\\\\\\\"blocks\\\\\\\\\\\\\\\": [{\\\\\\\\\\\\\\\"id\\\\\\\\\\\\\\\": \\\\\\\\\\\\\\\"8234263d-8a6f-4b75-8ed7-a0e2e091ad7f\\\\\\\\\\\\\\\", \\\\\\\\\\\\\\\"type\\\\\\\\\\\\\\\": \\\\\\\\\\\\\\\"Microsoft.DPrep.GetDatastoreFilesBlock\\\\\\\\\\\\\\\", \\\\\\\\\\\\\\\"arguments\\\\\\\\\\\\\\\": {\\\\\\\\\\\\\\\"datastores\\\\\\\\\\\\\\\": [{\\\\\\\\\\\\\\\"datastoreName\\\\\\\\\\\\\\\": \\\\\\\\\\\\\\\"workspaceblobstore\\\\\\\\\\\\\\\", \\\\\\\\\\\\\\\"path\\\\\\\\\\\\\\\": \\\\\\\\\\\\\\\"UI/02-07-2021_122258_UTC/aug_train.csv\\\\\\\\\\\\\\\", \\\\\\\\\\\\\\\"resourceGroup\\\\\\\\\\\\\\\": \\\\\\\\\\\\\\\"aml-quickstarts-137675\\\\\\\\\\\\\\\", \\\\\\\\\\\\\\\"subscription\\\\\\\\\\\\\\\": \\\\\\\\\\\\\\\"9e65f93e-bdd8-437b-b1e8-0647cd6098f7\\\\\\\\\\\\\\\", \\\\\\\\\\\\\\\"workspaceName\\\\\\\\\\\\\\\": \\\\\\\\\\\\\\\"quick-starts-ws-137675\\\\\\\\\\\\\\\"}]}, \\\\\\\\\\\\\\\"localData\\\\\\\\\\\\\\\": {}, \\\\\\\\\\\\\\\"isEnabled\\\\\\\\\\\\\\\": true, \\\\\\\\\\\\\\\"name\\\\\\\\\\\\\\\": null, \\\\\\\\\\\\\\\"annotation\\\\\\\\\\\\\\\": null}, {\\\\\\\\\\\\\\\"id\\\\\\\\\\\\\\\": \\\\\\\\\\\\\\\"b7b41d9c-671e-4658-967c-d76982f3344e\\\\\\\\\\\\\\\", \\\\\\\\\\\\\\\"type\\\\\\\\\\\\\\\": \\\\\\\\\\\\\\\"Microsoft.DPrep.ParseDelimitedBlock\\\\\\\\\\\\\\\", \\\\\\\\\\\\\\\"arguments\\\\\\\\\\\\\\\": {\\\\\\\\\\\\\\\"columnHeadersMode\\\\\\\\\\\\\\\": 1, \\\\\\\\\\\\\\\"fileEncoding\\\\\\\\\\\\\\\": 0, \\\\\\\\\\\\\\\"handleQuotedLineBreaks\\\\\\\\\\\\\\\": false, \\\\\\\\\\\\\\\"preview\\\\\\\\\\\\\\\": false, \\\\\\\\\\\\\\\"separator\\\\\\\\\\\\\\\": \\\\\\\\\\\\\\\",\\\\\\\\\\\\\\\", \\\\\\\\\\\\\\\"skipRows\\\\\\\\\\\\\\\": 0, \\\\\\\\\\\\\\\"skipRowsMode\\\\\\\\\\\\\\\": 0}, \\\\\\\\\\\\\\\"localData\\\\\\\\\\\\\\\": {}, \\\\\\\\\\\\\\\"isEnabled\\\\\\\\\\\\\\\": true, \\\\\\\\\\\\\\\"name\\\\\\\\\\\\\\\": null, \\\\\\\\\\\\\\\"annotation\\\\\\\\\\\\\\\": null}, {\\\\\\\\\\\\\\\"id\\\\\\\\\\\\\\\": \\\\\\\\\\\\\\\"0c8aac33-207e-494d-b0f4-f3c81593fd6d\\\\\\\\\\\\\\\", \\\\\\\\\\\\\\\"type\\\\\\\\\\\\\\\": \\\\\\\\\\\\\\\"Microsoft.DPrep.DropColumnsBlock\\\\\\\\\\\\\\\", \\\\\\\\\\\\\\\"arguments\\\\\\\\\\\\\\\": {\\\\\\\\\\\\\\\"columns\\\\\\\\\\\\\\\": {\\\\\\\\\\\\\\\"type\\\\\\\\\\\\\\\": 0, \\\\\\\\\\\\\\\"details\\\\\\\\\\\\\\\": {\\\\\\\\\\\\\\\"selectedColumns\\\\\\\\\\\\\\\": [\\\\\\\\\\\\\\\"Path\\\\\\\\\\\\\\\", \\\\\\\\\\\\\\\"enrollee_id\\\\\\\\\\\\\\\", \\\\\\\\\\\\\\\"city\\\\\\\\\\\\\\\"]}}}, \\\\\\\\\\\\\\\"localData\\\\\\\\\\\\\\\": {}, \\\\\\\\\\\\\\\"isEnabled\\\\\\\\\\\\\\\": true, \\\\\\\\\\\\\\\"name\\\\\\\\\\\\\\\": null, \\\\\\\\\\\\\\\"annotation\\\\\\\\\\\\\\\": null}, {\\\\\\\\\\\\\\\"id\\\\\\\\\\\\\\\": \\\\\\\\\\\\\\\"14980d9c-facc-45cc-8a93-75e4a2762f69\\\\\\\\\\\\\\\", \\\\\\\\\\\\\\\"type\\\\\\\\\\\\\\\": \\\\\\\\\\\\\\\"Microsoft.DPrep.SetColumnTypesBlock\\\\\\\\\\\\\\\", \\\\\\\\\\\\\\\"arguments\\\\\\\\\\\\\\\": {\\\\\\\\\\\\\\\"columnConversion\\\\\\\\\\\\\\\": [{\\\\\\\\\\\\\\\"column\\\\\\\\\\\\\\\": {\\\\\\\\\\\\\\\"type\\\\\\\\\\\\\\\": 2, \\\\\\\\\\\\\\\"details\\\\\\\\\\\\\\\": {\\\\\\\\\\\\\\\"selectedColumn\\\\\\\\\\\\\\\": \\\\\\\\\\\\\\\"Path\\\\\\\\\\\\\\\"}}, \\\\\\\\\\\\\\\"typeProperty\\\\\\\\\\\\\\\": 0}, {\\\\\\\\\\\\\\\"column\\\\\\\\\\\\\\\": {\\\\\\\\\\\\\\\"type\\\\\\\\\\\\\\\": 2, \\\\\\\\\\\\\\\"details\\\\\\\\\\\\\\\": {\\\\\\\\\\\\\\\"selectedColumn\\\\\\\\\\\\\\\": \\\\\\\\\\\\\\\"enrollee_id\\\\\\\\\\\\\\\"}}, \\\\\\\\\\\\\\\"typeProperty\\\\\\\\\\\\\\\": 2}, {\\\\\\\\\\\\\\\"column\\\\\\\\\\\\\\\": {\\\\\\\\\\\\\\\"type\\\\\\\\\\\\\\\": 2, \\\\\\\\\\\\\\\"details\\\\\\\\\\\\\\\": {\\\\\\\\\\\\\\\"selectedColumn\\\\\\\\\\\\\\\": \\\\\\\\\\\\\\\"city\\\\\\\\\\\\\\\"}}, \\\\\\\\\\\\\\\"typeProperty\\\\\\\\\\\\\\\": 0}, {\\\\\\\\\\\\\\\"column\\\\\\\\\\\\\\\": {\\\\\\\\\\\\\\\"type\\\\\\\\\\\\\\\": 2, \\\\\\\\\\\\\\\"details\\\\\\\\\\\\\\\": {\\\\\\\\\\\\\\\"selectedColumn\\\\\\\\\\\\\\\": \\\\\\\\\\\\\\\"city_development_index\\\\\\\\\\\\\\\"}}, \\\\\\\\\\\\\\\"typeProperty\\\\\\\\\\\\\\\": 3}, {\\\\\\\\\\\\\\\"column\\\\\\\\\\\\\\\": {\\\\\\\\\\\\\\\"type\\\\\\\\\\\\\\\": 2, \\\\\\\\\\\\\\\"details\\\\\\\\\\\\\\\": {\\\\\\\\\\\\\\\"selectedColumn\\\\\\\\\\\\\\\": \\\\\\\\\\\\\\\"gender\\\\\\\\\\\\\\\"}}, \\\\\\\\\\\\\\\"typeProperty\\\\\\\\\\\\\\\": 0}, {\\\\\\\\\\\\\\\"column\\\\\\\\\\\\\\\": {\\\\\\\\\\\\\\\"type\\\\\\\\\\\\\\\": 2, \\\\\\\\\\\\\\\"details\\\\\\\\\\\\\\\": {\\\\\\\\\\\\\\\"selectedColumn\\\\\\\\\\\\\\\": \\\\\\\\\\\\\\\"relevent_experience\\\\\\\\\\\\\\\"}}, \\\\\\\\\\\\\\\"typeProperty\\\\\\\\\\\\\\\": 0}, {\\\\\\\\\\\\\\\"column\\\\\\\\\\\\\\\": {\\\\\\\\\\\\\\\"type\\\\\\\\\\\\\\\": 2, \\\\\\\\\\\\\\\"details\\\\\\\\\\\\\\\": {\\\\\\\\\\\\\\\"selectedColumn\\\\\\\\\\\\\\\": \\\\\\\\\\\\\\\"enrolled_university\\\\\\\\\\\\\\\"}}, \\\\\\\\\\\\\\\"typeProperty\\\\\\\\\\\\\\\": 0}, {\\\\\\\\\\\\\\\"column\\\\\\\\\\\\\\\": {\\\\\\\\\\\\\\\"type\\\\\\\\\\\\\\\": 2, \\\\\\\\\\\\\\\"details\\\\\\\\\\\\\\\": {\\\\\\\\\\\\\\\"selectedColumn\\\\\\\\\\\\\\\": \\\\\\\\\\\\\\\"education_level\\\\\\\\\\\\\\\"}}, \\\\\\\\\\\\\\\"typeProperty\\\\\\\\\\\\\\\": 0}, {\\\\\\\\\\\\\\\"column\\\\\\\\\\\\\\\": {\\\\\\\\\\\\\\\"type\\\\\\\\\\\\\\\": 2, \\\\\\\\\\\\\\\"details\\\\\\\\\\\\\\\": {\\\\\\\\\\\\\\\"selectedColumn\\\\\\\\\\\\\\\": \\\\\\\\\\\\\\\"major_discipline\\\\\\\\\\\\\\\"}}, \\\\\\\\\\\\\\\"typeProperty\\\\\\\\\\\\\\\": 0}, {\\\\\\\\\\\\\\\"column\\\\\\\\\\\\\\\": {\\\\\\\\\\\\\\\"type\\\\\\\\\\\\\\\": 2, \\\\\\\\\\\\\\\"details\\\\\\\\\\\\\\\": {\\\\\\\\\\\\\\\"selectedColumn\\\\\\\\\\\\\\\": \\\\\\\\\\\\\\\"experience\\\\\\\\\\\\\\\"}}, \\\\\\\\\\\\\\\"typeProperty\\\\\\\\\\\\\\\": 0}, {\\\\\\\\\\\\\\\"column\\\\\\\\\\\\\\\": {\\\\\\\\\\\\\\\"type\\\\\\\\\\\\\\\": 2, \\\\\\\\\\\\\\\"details\\\\\\\\\\\\\\\": {\\\\\\\\\\\\\\\"selectedColumn\\\\\\\\\\\\\\\": \\\\\\\\\\\\\\\"company_size\\\\\\\\\\\\\\\"}}, \\\\\\\\\\\\\\\"typeProperty\\\\\\\\\\\\\\\": 0}, {\\\\\\\\\\\\\\\"column\\\\\\\\\\\\\\\": {\\\\\\\\\\\\\\\"type\\\\\\\\\\\\\\\": 2, \\\\\\\\\\\\\\\"details\\\\\\\\\\\\\\\": {\\\\\\\\\\\\\\\"selectedColumn\\\\\\\\\\\\\\\": \\\\\\\\\\\\\\\"company_type\\\\\\\\\\\\\\\"}}, \\\\\\\\\\\\\\\"typeProperty\\\\\\\\\\\\\\\": 0}, {\\\\\\\\\\\\\\\"column\\\\\\\\\\\\\\\": {\\\\\\\\\\\\\\\"type\\\\\\\\\\\\\\\": 2, \\\\\\\\\\\\\\\"details\\\\\\\\\\\\\\\": {\\\\\\\\\\\\\\\"selectedColumn\\\\\\\\\\\\\\\": \\\\\\\\\\\\\\\"last_new_job\\\\\\\\\\\\\\\"}}, \\\\\\\\\\\\\\\"typeProperty\\\\\\\\\\\\\\\": 0}, {\\\\\\\\\\\\\\\"column\\\\\\\\\\\\\\\": {\\\\\\\\\\\\\\\"type\\\\\\\\\\\\\\\": 2, \\\\\\\\\\\\\\\"details\\\\\\\\\\\\\\\": {\\\\\\\\\\\\\\\"selectedColumn\\\\\\\\\\\\\\\": \\\\\\\\\\\\\\\"training_hours\\\\\\\\\\\\\\\"}}, \\\\\\\\\\\\\\\"typeProperty\\\\\\\\\\\\\\\": 2}, {\\\\\\\\\\\\\\\"column\\\\\\\\\\\\\\\": {\\\\\\\\\\\\\\\"type\\\\\\\\\\\\\\\": 2, \\\\\\\\\\\\\\\"details\\\\\\\\\\\\\\\": {\\\\\\\\\\\\\\\"selectedColumn\\\\\\\\\\\\\\\": \\\\\\\\\\\\\\\"target\\\\\\\\\\\\\\\"}}, \\\\\\\\\\\\\\\"typeProperty\\\\\\\\\\\\\\\": 3}]}, \\\\\\\\\\\\\\\"localData\\\\\\\\\\\\\\\": {}, \\\\\\\\\\\\\\\"isEnabled\\\\\\\\\\\\\\\": true, \\\\\\\\\\\\\\\"name\\\\\\\\\\\\\\\": null, \\\\\\\\\\\\\\\"annotation\\\\\\\\\\\\\\\": null}], \\\\\\\\\\\\\\\"inspectors\\\\\\\\\\\\\\\": [], \\\\\\\\\\\\\\\"meta\\\\\\\\\\\\\\\": {\\\\\\\\\\\\\\\"savedDatasetId\\\\\\\\\\\\\\\": \\\\\\\\\\\\\\\"ad8ae88d-b694-45df-a5a0-a40d4349755f\\\\\\\\\\\\\\\", \\\\\\\\\\\\\\\"datasetType\\\\\\\\\\\\\\\": \\\\\\\\\\\\\\\"tabular\\\\\\\\\\\\\\\", \\\\\\\\\\\\\\\"subscriptionId\\\\\\\\\\\\\\\": \\\\\\\\\\\\\\\"9e65f93e-bdd8-437b-b1e8-0647cd6098f7\\\\\\\\\\\\\\\", \\\\\\\\\\\\\\\"workspaceId\\\\\\\\\\\\\\\": \\\\\\\\\\\\\\\"7b31e78a-8ef7-45b3-8c1a-470f9cfc9191\\\\\\\\\\\\\\\", \\\\\\\\\\\\\\\"workspaceLocation\\\\\\\\\\\\\\\": \\\\\\\\\\\\\\\"southcentralus\\\\\\\\\\\\\\\"}}\\\\\\\", \\\\\\\"activities\\\\\\\": 0}\", \"EnableSubsampling\": null, \"runTemplate\": \"AutoML\", \"azureml.runsource\": \"automl\", \"display_task_type\": \"classification\", \"dependencies_versions\": \"{\\\"azureml-widgets\\\": \\\"1.20.0\\\", \\\"azureml-train\\\": \\\"1.20.0\\\", \\\"azureml-train-restclients-hyperdrive\\\": \\\"1.20.0\\\", \\\"azureml-train-core\\\": \\\"1.20.0\\\", \\\"azureml-train-automl\\\": \\\"1.20.0\\\", \\\"azureml-train-automl-runtime\\\": \\\"1.20.0\\\", \\\"azureml-train-automl-client\\\": \\\"1.20.0\\\", \\\"azureml-tensorboard\\\": \\\"1.20.0\\\", \\\"azureml-telemetry\\\": \\\"1.20.0\\\", \\\"azureml-sdk\\\": \\\"1.20.0\\\", \\\"azureml-samples\\\": \\\"0+unknown\\\", \\\"azureml-pipeline\\\": \\\"1.20.0\\\", \\\"azureml-pipeline-steps\\\": \\\"1.20.0\\\", \\\"azureml-pipeline-core\\\": \\\"1.20.0\\\", \\\"azureml-opendatasets\\\": \\\"1.20.0\\\", \\\"azureml-model-management-sdk\\\": \\\"1.0.1b6.post1\\\", \\\"azureml-mlflow\\\": \\\"1.20.0.post1\\\", \\\"azureml-interpret\\\": \\\"1.20.0\\\", \\\"azureml-explain-model\\\": \\\"1.20.0\\\", \\\"azureml-defaults\\\": \\\"1.20.0\\\", \\\"azureml-dataset-runtime\\\": \\\"1.20.0\\\", \\\"azureml-dataprep\\\": \\\"2.7.3\\\", \\\"azureml-dataprep-rslex\\\": \\\"1.5.0\\\", \\\"azureml-dataprep-native\\\": \\\"27.0.0\\\", \\\"azureml-datadrift\\\": \\\"1.20.0\\\", \\\"azureml-core\\\": \\\"1.20.0\\\", \\\"azureml-contrib-services\\\": \\\"1.20.0\\\", \\\"azureml-contrib-server\\\": \\\"1.20.0\\\", \\\"azureml-contrib-reinforcementlearning\\\": \\\"1.20.0\\\", \\\"azureml-contrib-pipeline-steps\\\": \\\"1.20.0\\\", \\\"azureml-contrib-notebook\\\": \\\"1.20.0\\\", \\\"azureml-contrib-interpret\\\": \\\"1.20.0\\\", \\\"azureml-contrib-gbdt\\\": \\\"1.20.0\\\", \\\"azureml-contrib-fairness\\\": \\\"1.20.0\\\", \\\"azureml-contrib-dataset\\\": \\\"1.20.0\\\", \\\"azureml-cli-common\\\": \\\"1.20.0\\\", \\\"azureml-automl-runtime\\\": \\\"1.20.0\\\", \\\"azureml-automl-core\\\": \\\"1.20.0\\\", \\\"azureml-accel-models\\\": \\\"1.20.0\\\"}\", \"_aml_system_scenario_identification\": \"Remote.Parent\", \"ClientType\": \"SDK\", \"environment_cpu_name\": \"AzureML-AutoML\", \"environment_cpu_label\": \"prod\", \"environment_gpu_name\": \"AzureML-AutoML-GPU\", \"environment_gpu_label\": \"prod\", \"root_attribution\": \"automl\", \"attribution\": \"AutoML\", \"Orchestrator\": \"AutoML\", \"CancelUri\": \"https://southcentralus.experiments.azureml.net/jasmine/v1.0/subscriptions/9e65f93e-bdd8-437b-b1e8-0647cd6098f7/resourceGroups/aml-quickstarts-137675/providers/Microsoft.MachineLearningServices/workspaces/quick-starts-ws-137675/experimentids/fd957220-cbcd-4c3c-9e35-3bbde02aa824/cancel/AutoML_f0ad48f8-eb49-4ded-ae3f-db5055e453ba\", \"ClientSdkVersion\": \"1.21.0\", \"snapshotId\": \"00000000-0000-0000-0000-000000000000\", \"SetupRunId\": \"AutoML_f0ad48f8-eb49-4ded-ae3f-db5055e453ba_setup\", \"SetupRunContainerId\": \"dcid.AutoML_f0ad48f8-eb49-4ded-ae3f-db5055e453ba_setup\", \"FeaturizationRunJsonPath\": \"featurizer_container.json\", \"FeaturizationRunId\": \"AutoML_f0ad48f8-eb49-4ded-ae3f-db5055e453ba_featurize\", \"ProblemInfoJsonString\": \"{\\\"dataset_num_categorical\\\": 0, \\\"is_sparse\\\": true, \\\"subsampling\\\": false, \\\"dataset_classes\\\": 2, \\\"dataset_features\\\": 78, \\\"dataset_samples\\\": 19158, \\\"single_frequency_class_detected\\\": false}\", \"ModelExplainRunId\": \"AutoML_f0ad48f8-eb49-4ded-ae3f-db5055e453ba_ModelExplain\"}, \"tags\": {\"model_explain_run\": \"best_run\", \"_aml_system_azureml.automlComponent\": \"AutoML\", \"pipeline_id\": \"\", \"score\": \"\", \"predicted_cost\": \"\", \"fit_time\": \"\", \"training_percent\": \"\", \"iteration\": \"\", \"run_preprocessor\": \"\", \"run_algorithm\": \"\", \"automl_best_child_run_id\": \"AutoML_f0ad48f8-eb49-4ded-ae3f-db5055e453ba_21\", \"model_explain_best_run_child_id\": \"AutoML_f0ad48f8-eb49-4ded-ae3f-db5055e453ba_21\"}, \"end_time_utc\": \"2021-02-07T01:05:01.62036Z\", \"status\": \"Completed\", \"log_files\": {}, \"log_groups\": [], \"run_duration\": \"0:38:54\"}, \"child_runs\": [{\"run_id\": \"AutoML_f0ad48f8-eb49-4ded-ae3f-db5055e453ba_0\", \"run_number\": 33, \"metric\": null, \"status\": \"Completed\", \"run_type\": \"azureml.scriptrun\", \"training_percent\": \"100\", \"start_time\": \"2021-02-07T00:30:17.014893Z\", \"end_time\": \"2021-02-07T00:31:25.095782Z\", \"created_time\": \"2021-02-07T00:30:01.013916Z\", \"created_time_dt\": \"2021-02-07T00:30:01.013916Z\", \"duration\": \"0:01:24\", \"iteration\": \"0\", \"goal\": \"accuracy_max\", \"run_name\": \"MaxAbsScaler, LightGBM\", \"run_properties\": \"copy=True\", \"primary_metric\": 0.79486362, \"best_metric\": 0.79486362}, {\"run_id\": \"AutoML_f0ad48f8-eb49-4ded-ae3f-db5055e453ba_1\", \"run_number\": 34, \"metric\": null, \"status\": \"Completed\", \"run_type\": \"azureml.scriptrun\", \"training_percent\": \"100\", \"start_time\": \"2021-02-07T00:31:42.211677Z\", \"end_time\": \"2021-02-07T00:32:45.547614Z\", \"created_time\": \"2021-02-07T00:31:26.96592Z\", \"created_time_dt\": \"2021-02-07T00:31:26.96592Z\", \"duration\": \"0:01:18\", \"iteration\": \"1\", \"goal\": \"accuracy_max\", \"run_name\": \"MaxAbsScaler, XGBoostClassifier\", \"run_properties\": \"copy=True\", \"primary_metric\": 0.79256706, \"best_metric\": 0.79486362}, {\"run_id\": \"AutoML_f0ad48f8-eb49-4ded-ae3f-db5055e453ba_2\", \"run_number\": 35, \"metric\": null, \"status\": \"Completed\", \"run_type\": \"azureml.scriptrun\", \"training_percent\": \"100\", \"start_time\": \"2021-02-07T00:32:58.91488Z\", \"end_time\": \"2021-02-07T00:33:57.484802Z\", \"created_time\": \"2021-02-07T00:32:47.370843Z\", \"created_time_dt\": \"2021-02-07T00:32:47.370843Z\", \"duration\": \"0:01:10\", \"iteration\": \"2\", \"goal\": \"accuracy_max\", \"run_name\": \"MaxAbsScaler, RandomForest\", \"run_properties\": \"copy=True\", \"primary_metric\": 0.77419344, \"best_metric\": 0.79486362}, {\"run_id\": \"AutoML_f0ad48f8-eb49-4ded-ae3f-db5055e453ba_3\", \"run_number\": 36, \"metric\": null, \"status\": \"Completed\", \"run_type\": \"azureml.scriptrun\", \"training_percent\": \"100\", \"start_time\": \"2021-02-07T00:34:17.225203Z\", \"end_time\": \"2021-02-07T00:35:13.635497Z\", \"created_time\": \"2021-02-07T00:34:00.360833Z\", \"created_time_dt\": \"2021-02-07T00:34:00.360833Z\", \"duration\": \"0:01:13\", \"iteration\": \"3\", \"goal\": \"accuracy_max\", \"run_name\": \"MaxAbsScaler, RandomForest\", \"run_properties\": \"copy=True\", \"primary_metric\": 0.76594644, \"best_metric\": 0.79486362}, {\"run_id\": \"AutoML_f0ad48f8-eb49-4ded-ae3f-db5055e453ba_4\", \"run_number\": 37, \"metric\": null, \"status\": \"Completed\", \"run_type\": \"azureml.scriptrun\", \"training_percent\": \"100\", \"start_time\": \"2021-02-07T00:35:30.283982Z\", \"end_time\": \"2021-02-07T00:36:28.431695Z\", \"created_time\": \"2021-02-07T00:35:16.509397Z\", \"created_time_dt\": \"2021-02-07T00:35:16.509397Z\", \"duration\": \"0:01:11\", \"iteration\": \"4\", \"goal\": \"accuracy_max\", \"run_name\": \"MaxAbsScaler, RandomForest\", \"run_properties\": \"copy=True\", \"primary_metric\": 0.75200991, \"best_metric\": 0.79486362}, {\"run_id\": \"AutoML_f0ad48f8-eb49-4ded-ae3f-db5055e453ba_5\", \"run_number\": 38, \"metric\": null, \"status\": \"Completed\", \"run_type\": \"azureml.scriptrun\", \"training_percent\": \"100\", \"start_time\": \"2021-02-07T00:36:44.225488Z\", \"end_time\": \"2021-02-07T00:38:37.352641Z\", \"created_time\": \"2021-02-07T00:36:31.101029Z\", \"created_time_dt\": \"2021-02-07T00:36:31.101029Z\", \"duration\": \"0:02:06\", \"iteration\": \"5\", \"goal\": \"accuracy_max\", \"run_name\": \"MaxAbsScaler, RandomForest\", \"run_properties\": \"copy=True\", \"primary_metric\": 0.69600024, \"best_metric\": 0.79486362}, {\"run_id\": \"AutoML_f0ad48f8-eb49-4ded-ae3f-db5055e453ba_6\", \"run_number\": 39, \"metric\": null, \"status\": \"Completed\", \"run_type\": \"azureml.scriptrun\", \"training_percent\": \"100\", \"start_time\": \"2021-02-07T00:38:55.158926Z\", \"end_time\": \"2021-02-07T00:39:58.758642Z\", \"created_time\": \"2021-02-07T00:38:40.732732Z\", \"created_time_dt\": \"2021-02-07T00:38:40.732732Z\", \"duration\": \"0:01:18\", \"iteration\": \"6\", \"goal\": \"accuracy_max\", \"run_name\": \"SparseNormalizer, XGBoostClassifier\", \"run_properties\": \"<azureml.automl.runtime.shared.model_wrappers.SparseNormalizer object at 0x7fc90ab88358\", \"primary_metric\": 0.77763858, \"best_metric\": 0.79486362}, {\"run_id\": \"AutoML_f0ad48f8-eb49-4ded-ae3f-db5055e453ba_7\", \"run_number\": 40, \"metric\": null, \"status\": \"Completed\", \"run_type\": \"azureml.scriptrun\", \"training_percent\": \"100\", \"start_time\": \"2021-02-07T00:40:15.066896Z\", \"end_time\": \"2021-02-07T00:42:53.518672Z\", \"created_time\": \"2021-02-07T00:40:01.428641Z\", \"created_time_dt\": \"2021-02-07T00:40:01.428641Z\", \"duration\": \"0:02:52\", \"iteration\": \"7\", \"goal\": \"accuracy_max\", \"run_name\": \"MaxAbsScaler, RandomForest\", \"run_properties\": \"copy=True\", \"primary_metric\": 0.75634137, \"best_metric\": 0.79486362}, {\"run_id\": \"AutoML_f0ad48f8-eb49-4ded-ae3f-db5055e453ba_8\", \"run_number\": 41, \"metric\": null, \"status\": \"Completed\", \"run_type\": \"azureml.scriptrun\", \"training_percent\": \"100\", \"start_time\": \"2021-02-07T00:43:19.520589Z\", \"end_time\": \"2021-02-07T00:44:17.03548Z\", \"created_time\": \"2021-02-07T00:43:00.874604Z\", \"created_time_dt\": \"2021-02-07T00:43:00.874604Z\", \"duration\": \"0:01:16\", \"iteration\": \"8\", \"goal\": \"accuracy_max\", \"run_name\": \"SparseNormalizer, LightGBM\", \"run_properties\": \"<azureml.automl.runtime.shared.model_wrappers.SparseNormalizer object at 0x7f8c6d6a39b0\", \"primary_metric\": 0.76829484, \"best_metric\": 0.79486362}, {\"run_id\": \"AutoML_f0ad48f8-eb49-4ded-ae3f-db5055e453ba_9\", \"run_number\": 42, \"metric\": null, \"status\": \"Completed\", \"run_type\": \"azureml.scriptrun\", \"training_percent\": \"100\", \"start_time\": \"2021-02-07T00:44:39.227855Z\", \"end_time\": \"2021-02-07T00:45:39.609624Z\", \"created_time\": \"2021-02-07T00:44:19.894091Z\", \"created_time_dt\": \"2021-02-07T00:44:19.894091Z\", \"duration\": \"0:01:19\", \"iteration\": \"9\", \"goal\": \"accuracy_max\", \"run_name\": \"MaxAbsScaler, LogisticRegression\", \"run_properties\": \"copy=True\", \"primary_metric\": 0.77189676, \"best_metric\": 0.79486362}, {\"run_id\": \"AutoML_f0ad48f8-eb49-4ded-ae3f-db5055e453ba_10\", \"run_number\": 43, \"metric\": null, \"status\": \"Completed\", \"run_type\": \"azureml.scriptrun\", \"training_percent\": \"100\", \"start_time\": \"2021-02-07T00:45:53.879978Z\", \"end_time\": \"2021-02-07T00:47:31.378756Z\", \"created_time\": \"2021-02-07T00:45:41.79226Z\", \"created_time_dt\": \"2021-02-07T00:45:41.79226Z\", \"duration\": \"0:01:49\", \"iteration\": \"10\", \"goal\": \"accuracy_max\", \"run_name\": \"SparseNormalizer, XGBoostClassifier\", \"run_properties\": \"<azureml.automl.runtime.shared.model_wrappers.SparseNormalizer object at 0x7f1474999f28\", \"primary_metric\": 0.78040529, \"best_metric\": 0.79486362}, {\"run_id\": \"AutoML_f0ad48f8-eb49-4ded-ae3f-db5055e453ba_11\", \"run_number\": 44, \"metric\": null, \"status\": \"Completed\", \"run_type\": \"azureml.scriptrun\", \"training_percent\": \"100\", \"start_time\": \"2021-02-07T00:47:46.582595Z\", \"end_time\": \"2021-02-07T00:48:41.220538Z\", \"created_time\": \"2021-02-07T00:47:33.762328Z\", \"created_time_dt\": \"2021-02-07T00:47:33.762328Z\", \"duration\": \"0:01:07\", \"iteration\": \"11\", \"goal\": \"accuracy_max\", \"run_name\": \"MaxAbsScaler, LightGBM\", \"run_properties\": \"copy=True\", \"primary_metric\": 0.7703829, \"best_metric\": 0.79486362}, {\"run_id\": \"AutoML_f0ad48f8-eb49-4ded-ae3f-db5055e453ba_12\", \"run_number\": 45, \"metric\": null, \"status\": \"Completed\", \"run_type\": \"azureml.scriptrun\", \"training_percent\": \"100\", \"start_time\": \"2021-02-07T00:48:56.683958Z\", \"end_time\": \"2021-02-07T00:50:40.371678Z\", \"created_time\": \"2021-02-07T00:48:43.264279Z\", \"created_time_dt\": \"2021-02-07T00:48:43.264279Z\", \"duration\": \"0:01:57\", \"iteration\": \"12\", \"goal\": \"accuracy_max\", \"run_name\": \"MaxAbsScaler, ExtremeRandomTrees\", \"run_properties\": \"copy=True\", \"primary_metric\": 0.75467121, \"best_metric\": 0.79486362}, {\"run_id\": \"AutoML_f0ad48f8-eb49-4ded-ae3f-db5055e453ba_13\", \"run_number\": 46, \"metric\": null, \"status\": \"Completed\", \"run_type\": \"azureml.scriptrun\", \"training_percent\": \"100\", \"start_time\": \"2021-02-07T00:50:57.688856Z\", \"end_time\": \"2021-02-07T00:51:56.374664Z\", \"created_time\": \"2021-02-07T00:50:43.536393Z\", \"created_time_dt\": \"2021-02-07T00:50:43.536393Z\", \"duration\": \"0:01:12\", \"iteration\": \"13\", \"goal\": \"accuracy_max\", \"run_name\": \"StandardScalerWrapper, LightGBM\", \"run_properties\": \"<azureml.automl.runtime.shared.model_wrappers.StandardScalerWrapper object at 0x7fe5941930f0\", \"primary_metric\": 0.75065216, \"best_metric\": 0.79486362}, {\"run_id\": \"AutoML_f0ad48f8-eb49-4ded-ae3f-db5055e453ba_14\", \"run_number\": 47, \"metric\": null, \"status\": \"Completed\", \"run_type\": \"azureml.scriptrun\", \"training_percent\": \"100\", \"start_time\": \"2021-02-07T00:52:14.840358Z\", \"end_time\": \"2021-02-07T00:53:30.823836Z\", \"created_time\": \"2021-02-07T00:51:58.762232Z\", \"created_time_dt\": \"2021-02-07T00:51:58.762232Z\", \"duration\": \"0:01:32\", \"iteration\": \"14\", \"goal\": \"accuracy_max\", \"run_name\": \"StandardScalerWrapper, RandomForest\", \"run_properties\": \"<azureml.automl.runtime.shared.model_wrappers.StandardScalerWrapper object at 0x7efea0cfd9e8\", \"primary_metric\": 0.77977882, \"best_metric\": 0.79486362}, {\"run_id\": \"AutoML_f0ad48f8-eb49-4ded-ae3f-db5055e453ba_15\", \"run_number\": 48, \"metric\": null, \"status\": \"Completed\", \"run_type\": \"azureml.scriptrun\", \"training_percent\": \"100\", \"start_time\": \"2021-02-07T00:53:46.203328Z\", \"end_time\": \"2021-02-07T00:54:47.536255Z\", \"created_time\": \"2021-02-07T00:53:32.888317Z\", \"created_time_dt\": \"2021-02-07T00:53:32.888317Z\", \"duration\": \"0:01:14\", \"iteration\": \"15\", \"goal\": \"accuracy_max\", \"run_name\": \"SparseNormalizer, XGBoostClassifier\", \"run_properties\": \"<azureml.automl.runtime.shared.model_wrappers.SparseNormalizer object at 0x7f362e2e2828\", \"primary_metric\": 0.77586356, \"best_metric\": 0.79486362}, {\"run_id\": \"AutoML_f0ad48f8-eb49-4ded-ae3f-db5055e453ba_16\", \"run_number\": 49, \"metric\": null, \"status\": \"Completed\", \"run_type\": \"azureml.scriptrun\", \"training_percent\": \"100\", \"start_time\": \"2021-02-07T00:55:01.218562Z\", \"end_time\": \"2021-02-07T00:55:51.735309Z\", \"created_time\": \"2021-02-07T00:54:50.656095Z\", \"created_time_dt\": \"2021-02-07T00:54:50.656095Z\", \"duration\": \"0:01:01\", \"iteration\": \"16\", \"goal\": \"accuracy_max\", \"run_name\": \"StandardScalerWrapper, RandomForest\", \"run_properties\": \"<azureml.automl.runtime.shared.model_wrappers.StandardScalerWrapper object at 0x7fc0f176df98\", \"primary_metric\": 0.75394036, \"best_metric\": 0.79486362}, {\"run_id\": \"AutoML_f0ad48f8-eb49-4ded-ae3f-db5055e453ba_17\", \"run_number\": 50, \"metric\": null, \"status\": \"Completed\", \"run_type\": \"azureml.scriptrun\", \"training_percent\": \"100\", \"start_time\": \"2021-02-07T00:56:09.731927Z\", \"end_time\": \"2021-02-07T00:57:02.612729Z\", \"created_time\": \"2021-02-07T00:55:54.135915Z\", \"created_time_dt\": \"2021-02-07T00:55:54.135915Z\", \"duration\": \"0:01:08\", \"iteration\": \"17\", \"goal\": \"accuracy_max\", \"run_name\": \"StandardScalerWrapper, LightGBM\", \"run_properties\": \"<azureml.automl.runtime.shared.model_wrappers.StandardScalerWrapper object at 0x7f1cc68220b8\", \"primary_metric\": 0.75065216, \"best_metric\": 0.79486362}, {\"run_id\": \"AutoML_f0ad48f8-eb49-4ded-ae3f-db5055e453ba_18\", \"run_number\": 51, \"metric\": null, \"status\": \"Completed\", \"run_type\": \"azureml.scriptrun\", \"training_percent\": \"100\", \"start_time\": \"2021-02-07T00:57:18.372166Z\", \"end_time\": \"2021-02-07T00:58:23.810898Z\", \"created_time\": \"2021-02-07T00:57:04.92872Z\", \"created_time_dt\": \"2021-02-07T00:57:04.92872Z\", \"duration\": \"0:01:18\", \"iteration\": \"18\", \"goal\": \"accuracy_max\", \"run_name\": \"MaxAbsScaler, LogisticRegression\", \"run_properties\": \"copy=True\", \"primary_metric\": 0.771166, \"best_metric\": 0.79486362}, {\"run_id\": \"AutoML_f0ad48f8-eb49-4ded-ae3f-db5055e453ba_19\", \"run_number\": 52, \"metric\": null, \"status\": \"Completed\", \"run_type\": \"azureml.scriptrun\", \"training_percent\": \"100\", \"start_time\": \"2021-02-07T00:58:38.776213Z\", \"end_time\": \"2021-02-07T00:59:46.276937Z\", \"created_time\": \"2021-02-07T00:58:26.571988Z\", \"created_time_dt\": \"2021-02-07T00:58:26.571988Z\", \"duration\": \"0:01:19\", \"iteration\": \"19\", \"goal\": \"accuracy_max\", \"run_name\": \"StandardScalerWrapper, LightGBM\", \"run_properties\": \"<azureml.automl.runtime.shared.model_wrappers.StandardScalerWrapper object at 0x7fefda6912e8\", \"primary_metric\": 0.79658651, \"best_metric\": 0.79658651}, {\"run_id\": \"AutoML_f0ad48f8-eb49-4ded-ae3f-db5055e453ba_20\", \"run_number\": 53, \"metric\": null, \"status\": \"Completed\", \"run_type\": \"azureml.scriptrun\", \"training_percent\": \"100\", \"start_time\": \"2021-02-07T01:00:00.515535Z\", \"end_time\": \"2021-02-07T01:01:03.163674Z\", \"created_time\": \"2021-02-07T00:59:48.768006Z\", \"created_time_dt\": \"2021-02-07T00:59:48.768006Z\", \"duration\": \"0:01:14\", \"iteration\": \"20\", \"goal\": \"accuracy_max\", \"run_name\": \"StandardScalerWrapper, XGBoostClassifier\", \"run_properties\": \"<azureml.automl.runtime.shared.model_wrappers.StandardScalerWrapper object at 0x7efd2015bbe0\", \"primary_metric\": 0.77910011, \"best_metric\": 0.79658651}, {\"run_id\": \"AutoML_f0ad48f8-eb49-4ded-ae3f-db5055e453ba_21\", \"run_number\": 54, \"metric\": null, \"status\": \"Completed\", \"run_type\": \"azureml.scriptrun\", \"training_percent\": \"100\", \"start_time\": \"2021-02-07T01:01:18.885246Z\", \"end_time\": \"2021-02-07T01:02:47.977175Z\", \"created_time\": \"2021-02-07T01:01:05.429704Z\", \"created_time_dt\": \"2021-02-07T01:01:05.429704Z\", \"duration\": \"0:01:42\", \"iteration\": \"21\", \"goal\": \"accuracy_max\", \"run_name\": \"VotingEnsemble\", \"run_properties\": \"classification_labels=None,\\n                              estimators=[('19',\\n                                           Pipeline(memory=None,\\n                                                    steps=[('standardscalerwrapper',\\n                                                            <azureml.automl.runtime.shared.model_wrappers.StandardScalerWrapper object at 0x7f81e45390f0>\", \"primary_metric\": 0.80055366, \"best_metric\": 0.80055366}, {\"run_id\": \"AutoML_f0ad48f8-eb49-4ded-ae3f-db5055e453ba_22\", \"run_number\": 55, \"metric\": null, \"status\": \"Completed\", \"run_type\": \"azureml.scriptrun\", \"training_percent\": \"100\", \"start_time\": \"2021-02-07T01:03:03.155448Z\", \"end_time\": \"2021-02-07T01:04:54.00104Z\", \"created_time\": \"2021-02-07T01:02:49.639208Z\", \"created_time_dt\": \"2021-02-07T01:02:49.639208Z\", \"duration\": \"0:02:04\", \"iteration\": \"22\", \"goal\": \"accuracy_max\", \"run_name\": \"StackEnsemble\", \"run_properties\": \"base_learners=[('19',\\n                                        Pipeline(memory=None,\\n                                                 steps=[('standardscalerwrapper',\\n                                                         <azureml.automl.runtime.shared.model_wrappers.StandardScalerWrapper object at 0x7f7c3ef88b38>\", \"primary_metric\": 0.79606423, \"best_metric\": 0.80055366}], \"children_metrics\": {\"categories\": [0], \"series\": {\"precision_score_weighted\": [{\"categories\": [\"0\", \"1\", \"2\", \"3\", \"4\", \"5\", \"6\", \"7\", \"8\", \"9\", \"10\", \"11\", \"12\", \"13\", \"14\", \"15\", \"16\", \"17\", \"18\", \"19\", \"20\", \"21\", \"22\"], \"mode\": \"markers\", \"name\": \"precision_score_weighted\", \"stepped\": false, \"type\": \"scatter\", \"data\": [0.792885877784264, 0.786938787953472, 0.7492756140142737, 0.7369103437291494, 0.8041655820135704, 0.78776005803192, 0.7655333278424941, 0.7233526942154209, 0.7389731179281952, 0.7451934295918219, 0.767257326757923, 0.7423497353855606, 0.7219820927336954, 0.5635073887631035, 0.7595731919095325, 0.7611165941674539, 0.6546976572010117, 0.5635073887631035, 0.7439696197542712, 0.794342585804485, 0.7583113174005671, 0.8079323283446799, 0.7946989153117447]}, {\"categories\": [\"0\", \"1\", \"2\", \"3\", \"4\", \"5\", \"6\", \"7\", \"8\", \"9\", \"10\", \"11\", \"12\", \"13\", \"14\", \"15\", \"16\", \"17\", \"18\", \"19\", \"20\", \"21\", \"22\"], \"mode\": \"lines\", \"name\": \"precision_score_weighted_max\", \"stepped\": true, \"type\": \"scatter\", \"data\": [0.792885877784264, 0.792885877784264, 0.792885877784264, 0.792885877784264, 0.8041655820135704, 0.8041655820135704, 0.8041655820135704, 0.8041655820135704, 0.8041655820135704, 0.8041655820135704, 0.8041655820135704, 0.8041655820135704, 0.8041655820135704, 0.8041655820135704, 0.8041655820135704, 0.8041655820135704, 0.8041655820135704, 0.8041655820135704, 0.8041655820135704, 0.8041655820135704, 0.8041655820135704, 0.8079323283446799, 0.8079323283446799]}], \"recall_score_micro\": [{\"categories\": [\"0\", \"1\", \"2\", \"3\", \"4\", \"5\", \"6\", \"7\", \"8\", \"9\", \"10\", \"11\", \"12\", \"13\", \"14\", \"15\", \"16\", \"17\", \"18\", \"19\", \"20\", \"21\", \"22\"], \"mode\": \"markers\", \"name\": \"recall_score_micro\", \"stepped\": false, \"type\": \"scatter\", \"data\": [0.79486362489503, 0.7925670649666576, 0.7741934411560673, 0.7659464406672519, 0.7520099054575654, 0.6960002430452811, 0.7776385807681431, 0.7563413701759463, 0.7682948384484556, 0.771896758615165, 0.7804052916298148, 0.770382902581893, 0.7546712104145448, 0.750652162421821, 0.7797788233447717, 0.7758635600466255, 0.7539403579958901, 0.750652162421821, 0.7711660015618111, 0.7965865080441994, 0.7791001084984652, 0.8005536636896344, 0.7960642331621661]}, {\"categories\": [\"0\", \"1\", \"2\", \"3\", \"4\", \"5\", \"6\", \"7\", \"8\", \"9\", \"10\", \"11\", \"12\", \"13\", \"14\", \"15\", \"16\", \"17\", \"18\", \"19\", \"20\", \"21\", \"22\"], \"mode\": \"lines\", \"name\": \"recall_score_micro_max\", \"stepped\": true, \"type\": \"scatter\", \"data\": [0.79486362489503, 0.79486362489503, 0.79486362489503, 0.79486362489503, 0.79486362489503, 0.79486362489503, 0.79486362489503, 0.79486362489503, 0.79486362489503, 0.79486362489503, 0.79486362489503, 0.79486362489503, 0.79486362489503, 0.79486362489503, 0.79486362489503, 0.79486362489503, 0.79486362489503, 0.79486362489503, 0.79486362489503, 0.7965865080441994, 0.7965865080441994, 0.8005536636896344, 0.8005536636896344]}], \"matthews_correlation\": [{\"categories\": [\"0\", \"1\", \"2\", \"3\", \"4\", \"5\", \"6\", \"7\", \"8\", \"9\", \"10\", \"11\", \"12\", \"13\", \"14\", \"15\", \"16\", \"17\", \"18\", \"19\", \"20\", \"21\", \"22\"], \"mode\": \"markers\", \"name\": \"matthews_correlation\", \"stepped\": false, \"type\": \"scatter\", \"data\": [0.4464392428151588, 0.4298016976545571, 0.2952970479452624, 0.2261381871869561, 0.4554763583941438, 0.39336761722698754, 0.37016496574497304, 0.1357813892739281, 0.26598430505967474, 0.2917633810455494, 0.37387564955994385, 0.2734820673669008, 0.11328656009259559, 0.0, 0.343788025266372, 0.3568523628679932, 0.07395633430613555, 0.0, 0.28773305080393896, 0.45014190733154785, 0.33769269558359954, 0.4855910694763194, 0.4512052308098114]}, {\"categories\": [\"0\", \"1\", \"2\", \"3\", \"4\", \"5\", \"6\", \"7\", \"8\", \"9\", \"10\", \"11\", \"12\", \"13\", \"14\", \"15\", \"16\", \"17\", \"18\", \"19\", \"20\", \"21\", \"22\"], \"mode\": \"lines\", \"name\": \"matthews_correlation_max\", \"stepped\": true, \"type\": \"scatter\", \"data\": [0.4464392428151588, 0.4464392428151588, 0.4464392428151588, 0.4464392428151588, 0.4554763583941438, 0.4554763583941438, 0.4554763583941438, 0.4554763583941438, 0.4554763583941438, 0.4554763583941438, 0.4554763583941438, 0.4554763583941438, 0.4554763583941438, 0.4554763583941438, 0.4554763583941438, 0.4554763583941438, 0.4554763583941438, 0.4554763583941438, 0.4554763583941438, 0.4554763583941438, 0.4554763583941438, 0.4855910694763194, 0.4855910694763194]}], \"precision_score_micro\": [{\"categories\": [\"0\", \"1\", \"2\", \"3\", \"4\", \"5\", \"6\", \"7\", \"8\", \"9\", \"10\", \"11\", \"12\", \"13\", \"14\", \"15\", \"16\", \"17\", \"18\", \"19\", \"20\", \"21\", \"22\"], \"mode\": \"markers\", \"name\": \"precision_score_micro\", \"stepped\": false, \"type\": \"scatter\", \"data\": [0.79486362489503, 0.7925670649666576, 0.7741934411560673, 0.7659464406672519, 0.7520099054575654, 0.6960002430452811, 0.7776385807681431, 0.7563413701759463, 0.7682948384484556, 0.771896758615165, 0.7804052916298148, 0.770382902581893, 0.7546712104145448, 0.750652162421821, 0.7797788233447717, 0.7758635600466255, 0.7539403579958901, 0.750652162421821, 0.7711660015618111, 0.7965865080441994, 0.7791001084984652, 0.8005536636896344, 0.7960642331621661]}, {\"categories\": [\"0\", \"1\", \"2\", \"3\", \"4\", \"5\", \"6\", \"7\", \"8\", \"9\", \"10\", \"11\", \"12\", \"13\", \"14\", \"15\", \"16\", \"17\", \"18\", \"19\", \"20\", \"21\", \"22\"], \"mode\": \"lines\", \"name\": \"precision_score_micro_max\", \"stepped\": true, \"type\": \"scatter\", \"data\": [0.79486362489503, 0.79486362489503, 0.79486362489503, 0.79486362489503, 0.79486362489503, 0.79486362489503, 0.79486362489503, 0.79486362489503, 0.79486362489503, 0.79486362489503, 0.79486362489503, 0.79486362489503, 0.79486362489503, 0.79486362489503, 0.79486362489503, 0.79486362489503, 0.79486362489503, 0.79486362489503, 0.79486362489503, 0.7965865080441994, 0.7965865080441994, 0.8005536636896344, 0.8005536636896344]}], \"balanced_accuracy\": [{\"categories\": [\"0\", \"1\", \"2\", \"3\", \"4\", \"5\", \"6\", \"7\", \"8\", \"9\", \"10\", \"11\", \"12\", \"13\", \"14\", \"15\", \"16\", \"17\", \"18\", \"19\", \"20\", \"21\", \"22\"], \"mode\": \"markers\", \"name\": \"balanced_accuracy\", \"stepped\": false, \"type\": \"scatter\", \"data\": [0.7208282971168896, 0.7080920887009382, 0.609596875825409, 0.5679983772938325, 0.7551625655629136, 0.7257751819816193, 0.6720302578149973, 0.5265185147949076, 0.5946826823529779, 0.6108914389781102, 0.6719784326196481, 0.5970125703031226, 0.5172105273567376, 0.5, 0.6452589581567356, 0.6625651193122426, 0.5169869688543095, 0.5, 0.6086381652851462, 0.722113864555624, 0.6401967938986899, 0.7504708244626048, 0.7236770014305124]}, {\"categories\": [\"0\", \"1\", \"2\", \"3\", \"4\", \"5\", \"6\", \"7\", \"8\", \"9\", \"10\", \"11\", \"12\", \"13\", \"14\", \"15\", \"16\", \"17\", \"18\", \"19\", \"20\", \"21\", \"22\"], \"mode\": \"lines\", \"name\": \"balanced_accuracy_max\", \"stepped\": true, \"type\": \"scatter\", \"data\": [0.7208282971168896, 0.7208282971168896, 0.7208282971168896, 0.7208282971168896, 0.7551625655629136, 0.7551625655629136, 0.7551625655629136, 0.7551625655629136, 0.7551625655629136, 0.7551625655629136, 0.7551625655629136, 0.7551625655629136, 0.7551625655629136, 0.7551625655629136, 0.7551625655629136, 0.7551625655629136, 0.7551625655629136, 0.7551625655629136, 0.7551625655629136, 0.7551625655629136, 0.7551625655629136, 0.7551625655629136, 0.7551625655629136]}], \"recall_score_weighted\": [{\"categories\": [\"0\", \"1\", \"2\", \"3\", \"4\", \"5\", \"6\", \"7\", \"8\", \"9\", \"10\", \"11\", \"12\", \"13\", \"14\", \"15\", \"16\", \"17\", \"18\", \"19\", \"20\", \"21\", \"22\"], \"mode\": \"markers\", \"name\": \"recall_score_weighted\", \"stepped\": false, \"type\": \"scatter\", \"data\": [0.79486362489503, 0.7925670649666576, 0.7741934411560673, 0.7659464406672519, 0.7520099054575654, 0.6960002430452811, 0.7776385807681431, 0.7563413701759463, 0.7682948384484556, 0.771896758615165, 0.7804052916298148, 0.770382902581893, 0.7546712104145448, 0.750652162421821, 0.7797788233447717, 0.7758635600466255, 0.7539403579958901, 0.750652162421821, 0.7711660015618111, 0.7965865080441994, 0.7791001084984652, 0.8005536636896344, 0.7960642331621661]}, {\"categories\": [\"0\", \"1\", \"2\", \"3\", \"4\", \"5\", \"6\", \"7\", \"8\", \"9\", \"10\", \"11\", \"12\", \"13\", \"14\", \"15\", \"16\", \"17\", \"18\", \"19\", \"20\", \"21\", \"22\"], \"mode\": \"lines\", \"name\": \"recall_score_weighted_max\", \"stepped\": true, \"type\": \"scatter\", \"data\": [0.79486362489503, 0.79486362489503, 0.79486362489503, 0.79486362489503, 0.79486362489503, 0.79486362489503, 0.79486362489503, 0.79486362489503, 0.79486362489503, 0.79486362489503, 0.79486362489503, 0.79486362489503, 0.79486362489503, 0.79486362489503, 0.79486362489503, 0.79486362489503, 0.79486362489503, 0.79486362489503, 0.79486362489503, 0.7965865080441994, 0.7965865080441994, 0.8005536636896344, 0.8005536636896344]}], \"weighted_accuracy\": [{\"categories\": [\"0\", \"1\", \"2\", \"3\", \"4\", \"5\", \"6\", \"7\", \"8\", \"9\", \"10\", \"11\", \"12\", \"13\", \"14\", \"15\", \"16\", \"17\", \"18\", \"19\", \"20\", \"21\", \"22\"], \"mode\": \"markers\", \"name\": \"weighted_accuracy\", \"stepped\": false, \"type\": \"scatter\", \"data\": [0.8391854481563662, 0.8431508541714962, 0.87253598850998, 0.8843999147267546, 0.7501740445834468, 0.6781708153829171, 0.8408163240737492, 0.8937278991281119, 0.8722055851940699, 0.8681757403383976, 0.845265577737442, 0.8740832495043792, 0.8966929335981227, 0.9005442636628962, 0.8601837572689354, 0.8436736863963817, 0.895502414987587, 0.9005442636628962, 0.868347827586029, 0.8411537737138731, 0.8622350361965505, 0.8305046166940133, 0.8394380306500789]}, {\"categories\": [\"0\", \"1\", \"2\", \"3\", \"4\", \"5\", \"6\", \"7\", \"8\", \"9\", \"10\", \"11\", \"12\", \"13\", \"14\", \"15\", \"16\", \"17\", \"18\", \"19\", \"20\", \"21\", \"22\"], \"mode\": \"lines\", \"name\": \"weighted_accuracy_max\", \"stepped\": true, \"type\": \"scatter\", \"data\": [0.8391854481563662, 0.8431508541714962, 0.87253598850998, 0.8843999147267546, 0.8843999147267546, 0.8843999147267546, 0.8843999147267546, 0.8937278991281119, 0.8937278991281119, 0.8937278991281119, 0.8937278991281119, 0.8937278991281119, 0.8966929335981227, 0.9005442636628962, 0.9005442636628962, 0.9005442636628962, 0.9005442636628962, 0.9005442636628962, 0.9005442636628962, 0.9005442636628962, 0.9005442636628962, 0.9005442636628962, 0.9005442636628962]}], \"average_precision_score_macro\": [{\"categories\": [\"0\", \"1\", \"2\", \"3\", \"4\", \"5\", \"6\", \"7\", \"8\", \"9\", \"10\", \"11\", \"12\", \"13\", \"14\", \"15\", \"16\", \"17\", \"18\", \"19\", \"20\", \"21\", \"22\"], \"mode\": \"markers\", \"name\": \"average_precision_score_macro\", \"stepped\": false, \"type\": \"scatter\", \"data\": [0.7225614220838033, 0.722374037501532, 0.7141269297407005, 0.7116404162451726, 0.7178218606036475, 0.6991651582072084, 0.707501500834433, 0.7135831697430556, 0.701726941325102, 0.7095065948374278, 0.7093521836142822, 0.716501431245117, 0.7152949632132286, 0.7108012175442753, 0.7183962317581016, 0.7053812434429447, 0.7097237163551613, 0.7149749749895948, 0.7092371688101279, 0.72478652070274, 0.7122087743849947, 0.7224125687899677, 0.7246750706179148]}, {\"categories\": [\"0\", \"1\", \"2\", \"3\", \"4\", \"5\", \"6\", \"7\", \"8\", \"9\", \"10\", \"11\", \"12\", \"13\", \"14\", \"15\", \"16\", \"17\", \"18\", \"19\", \"20\", \"21\", \"22\"], \"mode\": \"lines\", \"name\": \"average_precision_score_macro_max\", \"stepped\": true, \"type\": \"scatter\", \"data\": [0.7225614220838033, 0.7225614220838033, 0.7225614220838033, 0.7225614220838033, 0.7225614220838033, 0.7225614220838033, 0.7225614220838033, 0.7225614220838033, 0.7225614220838033, 0.7225614220838033, 0.7225614220838033, 0.7225614220838033, 0.7225614220838033, 0.7225614220838033, 0.7225614220838033, 0.7225614220838033, 0.7225614220838033, 0.7225614220838033, 0.7225614220838033, 0.72478652070274, 0.72478652070274, 0.72478652070274, 0.72478652070274]}], \"recall_score_macro\": [{\"categories\": [\"0\", \"1\", \"2\", \"3\", \"4\", \"5\", \"6\", \"7\", \"8\", \"9\", \"10\", \"11\", \"12\", \"13\", \"14\", \"15\", \"16\", \"17\", \"18\", \"19\", \"20\", \"21\", \"22\"], \"mode\": \"markers\", \"name\": \"recall_score_macro\", \"stepped\": false, \"type\": \"scatter\", \"data\": [0.7208282971168896, 0.7080920887009382, 0.609596875825409, 0.5679983772938325, 0.7551625655629136, 0.7257751819816193, 0.6720302578149973, 0.5265185147949076, 0.5946826823529779, 0.6108914389781102, 0.6719784326196481, 0.5970125703031226, 0.5172105273567376, 0.5, 0.6452589581567356, 0.6625651193122426, 0.5169869688543095, 0.5, 0.6086381652851462, 0.722113864555624, 0.6401967938986899, 0.7504708244626048, 0.7236770014305124]}, {\"categories\": [\"0\", \"1\", \"2\", \"3\", \"4\", \"5\", \"6\", \"7\", \"8\", \"9\", \"10\", \"11\", \"12\", \"13\", \"14\", \"15\", \"16\", \"17\", \"18\", \"19\", \"20\", \"21\", \"22\"], \"mode\": \"lines\", \"name\": \"recall_score_macro_max\", \"stepped\": true, \"type\": \"scatter\", \"data\": [0.7208282971168896, 0.7208282971168896, 0.7208282971168896, 0.7208282971168896, 0.7551625655629136, 0.7551625655629136, 0.7551625655629136, 0.7551625655629136, 0.7551625655629136, 0.7551625655629136, 0.7551625655629136, 0.7551625655629136, 0.7551625655629136, 0.7551625655629136, 0.7551625655629136, 0.7551625655629136, 0.7551625655629136, 0.7551625655629136, 0.7551625655629136, 0.7551625655629136, 0.7551625655629136, 0.7551625655629136, 0.7551625655629136]}], \"norm_macro_recall\": [{\"categories\": [\"0\", \"1\", \"2\", \"3\", \"4\", \"5\", \"6\", \"7\", \"8\", \"9\", \"10\", \"11\", \"12\", \"13\", \"14\", \"15\", \"16\", \"17\", \"18\", \"19\", \"20\", \"21\", \"22\"], \"mode\": \"markers\", \"name\": \"norm_macro_recall\", \"stepped\": false, \"type\": \"scatter\", \"data\": [0.44165659423377923, 0.41618417740187647, 0.21919375165081814, 0.13599675458766503, 0.5103251311258272, 0.45155036396323867, 0.34406051562999457, 0.05303702958981549, 0.18936536470595602, 0.22178287795622045, 0.34395686523929614, 0.19402514060624512, 0.03442105471347503, 0.0, 0.29051791631347135, 0.3251302386244851, 0.033973937708618826, 0.0, 0.21727633057029241, 0.4442277291112481, 0.28039358779737983, 0.5009416489252099, 0.44735400286102484]}, {\"categories\": [\"0\", \"1\", \"2\", \"3\", \"4\", \"5\", \"6\", \"7\", \"8\", \"9\", \"10\", \"11\", \"12\", \"13\", \"14\", \"15\", \"16\", \"17\", \"18\", \"19\", \"20\", \"21\", \"22\"], \"mode\": \"lines\", \"name\": \"norm_macro_recall_max\", \"stepped\": true, \"type\": \"scatter\", \"data\": [0.44165659423377923, 0.44165659423377923, 0.44165659423377923, 0.44165659423377923, 0.5103251311258272, 0.5103251311258272, 0.5103251311258272, 0.5103251311258272, 0.5103251311258272, 0.5103251311258272, 0.5103251311258272, 0.5103251311258272, 0.5103251311258272, 0.5103251311258272, 0.5103251311258272, 0.5103251311258272, 0.5103251311258272, 0.5103251311258272, 0.5103251311258272, 0.5103251311258272, 0.5103251311258272, 0.5103251311258272, 0.5103251311258272]}], \"f1_score_macro\": [{\"categories\": [\"0\", \"1\", \"2\", \"3\", \"4\", \"5\", \"6\", \"7\", \"8\", \"9\", \"10\", \"11\", \"12\", \"13\", \"14\", \"15\", \"16\", \"17\", \"18\", \"19\", \"20\", \"21\", \"22\"], \"mode\": \"markers\", \"name\": \"f1_score_macro\", \"stepped\": false, \"type\": \"scatter\", \"data\": [0.7230206154017388, 0.7141321136485834, 0.6209369633273096, 0.5616260318699814, 0.7120481581589848, 0.6648274383941377, 0.6823767187579567, 0.48896945475300224, 0.6032435248735954, 0.6236755578773586, 0.6835602455335892, 0.6064533686932476, 0.46978356754112294, 0.42877895948114375, 0.661061670271677, 0.6743466117317896, 0.4653660026321413, 0.42877895948114375, 0.6209659256997533, 0.7248481166124805, 0.6558284000887229, 0.7420014644558002, 0.7253246435011153]}, {\"categories\": [\"0\", \"1\", \"2\", \"3\", \"4\", \"5\", \"6\", \"7\", \"8\", \"9\", \"10\", \"11\", \"12\", \"13\", \"14\", \"15\", \"16\", \"17\", \"18\", \"19\", \"20\", \"21\", \"22\"], \"mode\": \"lines\", \"name\": \"f1_score_macro_max\", \"stepped\": true, \"type\": \"scatter\", \"data\": [0.7230206154017388, 0.7230206154017388, 0.7230206154017388, 0.7230206154017388, 0.7230206154017388, 0.7230206154017388, 0.7230206154017388, 0.7230206154017388, 0.7230206154017388, 0.7230206154017388, 0.7230206154017388, 0.7230206154017388, 0.7230206154017388, 0.7230206154017388, 0.7230206154017388, 0.7230206154017388, 0.7230206154017388, 0.7230206154017388, 0.7230206154017388, 0.7248481166124805, 0.7248481166124805, 0.7420014644558002, 0.7420014644558002]}], \"AUC_weighted\": [{\"categories\": [\"0\", \"1\", \"2\", \"3\", \"4\", \"5\", \"6\", \"7\", \"8\", \"9\", \"10\", \"11\", \"12\", \"13\", \"14\", \"15\", \"16\", \"17\", \"18\", \"19\", \"20\", \"21\", \"22\"], \"mode\": \"markers\", \"name\": \"AUC_weighted\", \"stepped\": false, \"type\": \"scatter\", \"data\": [0.798287312950035, 0.7992396138254672, 0.7876442432055974, 0.7823965922982551, 0.7914805812744329, 0.7736368638651765, 0.7855923711851698, 0.7863711501690729, 0.7732946135567299, 0.7850620365366321, 0.7839085068807998, 0.7917769827398293, 0.7883235972367352, 0.7871923935493246, 0.7932659278412058, 0.7821050397389645, 0.7816492231421088, 0.7910203126010563, 0.7846928411843861, 0.8007617710805419, 0.7867196536259271, 0.7974235140235677, 0.800593061683094]}, {\"categories\": [\"0\", \"1\", \"2\", \"3\", \"4\", \"5\", \"6\", \"7\", \"8\", \"9\", \"10\", \"11\", \"12\", \"13\", \"14\", \"15\", \"16\", \"17\", \"18\", \"19\", \"20\", \"21\", \"22\"], \"mode\": \"lines\", \"name\": \"AUC_weighted_max\", \"stepped\": true, \"type\": \"scatter\", \"data\": [0.798287312950035, 0.7992396138254672, 0.7992396138254672, 0.7992396138254672, 0.7992396138254672, 0.7992396138254672, 0.7992396138254672, 0.7992396138254672, 0.7992396138254672, 0.7992396138254672, 0.7992396138254672, 0.7992396138254672, 0.7992396138254672, 0.7992396138254672, 0.7992396138254672, 0.7992396138254672, 0.7992396138254672, 0.7992396138254672, 0.7992396138254672, 0.8007617710805419, 0.8007617710805419, 0.8007617710805419, 0.8007617710805419]}], \"AUC_micro\": [{\"categories\": [\"0\", \"1\", \"2\", \"3\", \"4\", \"5\", \"6\", \"7\", \"8\", \"9\", \"10\", \"11\", \"12\", \"13\", \"14\", \"15\", \"16\", \"17\", \"18\", \"19\", \"20\", \"21\", \"22\"], \"mode\": \"markers\", \"name\": \"AUC_micro\", \"stepped\": false, \"type\": \"scatter\", \"data\": [0.8752653624154678, 0.875150669033095, 0.8621541009949972, 0.8585956281521723, 0.7950995990517848, 0.772394074442744, 0.8645104354269957, 0.8583631164914294, 0.8564157627059489, 0.8611532898331327, 0.8640076965562269, 0.8632361038311034, 0.8586980254460943, 0.8581425692873209, 0.8677249207181162, 0.8628477924208833, 0.8565300107705249, 0.8595800878774069, 0.8610322825924005, 0.8768013861395527, 0.863856094857969, 0.8722654204922188, 0.876887450162849]}, {\"categories\": [\"0\", \"1\", \"2\", \"3\", \"4\", \"5\", \"6\", \"7\", \"8\", \"9\", \"10\", \"11\", \"12\", \"13\", \"14\", \"15\", \"16\", \"17\", \"18\", \"19\", \"20\", \"21\", \"22\"], \"mode\": \"lines\", \"name\": \"AUC_micro_max\", \"stepped\": true, \"type\": \"scatter\", \"data\": [0.8752653624154678, 0.8752653624154678, 0.8752653624154678, 0.8752653624154678, 0.8752653624154678, 0.8752653624154678, 0.8752653624154678, 0.8752653624154678, 0.8752653624154678, 0.8752653624154678, 0.8752653624154678, 0.8752653624154678, 0.8752653624154678, 0.8752653624154678, 0.8752653624154678, 0.8752653624154678, 0.8752653624154678, 0.8752653624154678, 0.8752653624154678, 0.8768013861395527, 0.8768013861395527, 0.8768013861395527, 0.876887450162849]}], \"f1_score_micro\": [{\"categories\": [\"0\", \"1\", \"2\", \"3\", \"4\", \"5\", \"6\", \"7\", \"8\", \"9\", \"10\", \"11\", \"12\", \"13\", \"14\", \"15\", \"16\", \"17\", \"18\", \"19\", \"20\", \"21\", \"22\"], \"mode\": \"markers\", \"name\": \"f1_score_micro\", \"stepped\": false, \"type\": \"scatter\", \"data\": [0.79486362489503, 0.7925670649666575, 0.7741934411560673, 0.7659464406672519, 0.7520099054575655, 0.6960002430452811, 0.7776385807681431, 0.7563413701759463, 0.7682948384484556, 0.771896758615165, 0.7804052916298148, 0.770382902581893, 0.7546712104145448, 0.750652162421821, 0.7797788233447717, 0.7758635600466255, 0.7539403579958901, 0.750652162421821, 0.7711660015618111, 0.7965865080441994, 0.7791001084984652, 0.8005536636896344, 0.7960642331621661]}, {\"categories\": [\"0\", \"1\", \"2\", \"3\", \"4\", \"5\", \"6\", \"7\", \"8\", \"9\", \"10\", \"11\", \"12\", \"13\", \"14\", \"15\", \"16\", \"17\", \"18\", \"19\", \"20\", \"21\", \"22\"], \"mode\": \"lines\", \"name\": \"f1_score_micro_max\", \"stepped\": true, \"type\": \"scatter\", \"data\": [0.79486362489503, 0.79486362489503, 0.79486362489503, 0.79486362489503, 0.79486362489503, 0.79486362489503, 0.79486362489503, 0.79486362489503, 0.79486362489503, 0.79486362489503, 0.79486362489503, 0.79486362489503, 0.79486362489503, 0.79486362489503, 0.79486362489503, 0.79486362489503, 0.79486362489503, 0.79486362489503, 0.79486362489503, 0.7965865080441994, 0.7965865080441994, 0.8005536636896344, 0.8005536636896344]}], \"log_loss\": [{\"categories\": [\"0\", \"1\", \"2\", \"3\", \"4\", \"5\", \"6\", \"7\", \"8\", \"9\", \"10\", \"11\", \"12\", \"13\", \"14\", \"15\", \"16\", \"17\", \"18\", \"19\", \"20\", \"21\", \"22\"], \"mode\": \"markers\", \"name\": \"log_loss\", \"stepped\": false, \"type\": \"scatter\", \"data\": [0.43998561301201444, 0.4388759069413627, 0.46262233225177374, 0.4715148592692346, 0.5563618800857761, 0.5884728110896426, 0.45625650814283547, 0.4748205392863654, 0.4689849063275334, 0.4648214017060589, 0.46020119019117545, 0.46167605308049386, 0.4660024997271998, 0.4792222843856366, 0.45193152273532977, 0.45875029616835317, 0.4780726698783714, 0.4858457921712388, 0.46515766190494867, 0.43609501097198844, 0.4647237750741418, 0.4714549884727976, 0.43629583831908797]}, {\"categories\": [\"0\", \"1\", \"2\", \"3\", \"4\", \"5\", \"6\", \"7\", \"8\", \"9\", \"10\", \"11\", \"12\", \"13\", \"14\", \"15\", \"16\", \"17\", \"18\", \"19\", \"20\", \"21\", \"22\"], \"mode\": \"lines\", \"name\": \"log_loss_min\", \"stepped\": true, \"type\": \"scatter\", \"data\": [0.43998561301201444, 0.4388759069413627, 0.4388759069413627, 0.4388759069413627, 0.4388759069413627, 0.4388759069413627, 0.4388759069413627, 0.4388759069413627, 0.4388759069413627, 0.4388759069413627, 0.4388759069413627, 0.4388759069413627, 0.4388759069413627, 0.4388759069413627, 0.4388759069413627, 0.4388759069413627, 0.4388759069413627, 0.4388759069413627, 0.4388759069413627, 0.43609501097198844, 0.43609501097198844, 0.43609501097198844, 0.43609501097198844]}], \"AUC_macro\": [{\"categories\": [\"0\", \"1\", \"2\", \"3\", \"4\", \"5\", \"6\", \"7\", \"8\", \"9\", \"10\", \"11\", \"12\", \"13\", \"14\", \"15\", \"16\", \"17\", \"18\", \"19\", \"20\", \"21\", \"22\"], \"mode\": \"markers\", \"name\": \"AUC_macro\", \"stepped\": false, \"type\": \"scatter\", \"data\": [0.798287312950035, 0.7992396138254673, 0.7876442432055974, 0.782396592298255, 0.7914805812744328, 0.7736368638651765, 0.785592389221945, 0.7863711501690729, 0.7732946135567299, 0.7850620365366321, 0.78390849785093, 0.7917769827398293, 0.7883235972367352, 0.7871923935493246, 0.7932659278412058, 0.7821050300201418, 0.7816492231421088, 0.7910203126010563, 0.7846928411843861, 0.8007617710805418, 0.786719653625927, 0.7974234957684494, 0.8005930616830941]}, {\"categories\": [\"0\", \"1\", \"2\", \"3\", \"4\", \"5\", \"6\", \"7\", \"8\", \"9\", \"10\", \"11\", \"12\", \"13\", \"14\", \"15\", \"16\", \"17\", \"18\", \"19\", \"20\", \"21\", \"22\"], \"mode\": \"lines\", \"name\": \"AUC_macro_max\", \"stepped\": true, \"type\": \"scatter\", \"data\": [0.798287312950035, 0.7992396138254673, 0.7992396138254673, 0.7992396138254673, 0.7992396138254673, 0.7992396138254673, 0.7992396138254673, 0.7992396138254673, 0.7992396138254673, 0.7992396138254673, 0.7992396138254673, 0.7992396138254673, 0.7992396138254673, 0.7992396138254673, 0.7992396138254673, 0.7992396138254673, 0.7992396138254673, 0.7992396138254673, 0.7992396138254673, 0.8007617710805418, 0.8007617710805418, 0.8007617710805418, 0.8007617710805418]}], \"average_precision_score_micro\": [{\"categories\": [\"0\", \"1\", \"2\", \"3\", \"4\", \"5\", \"6\", \"7\", \"8\", \"9\", \"10\", \"11\", \"12\", \"13\", \"14\", \"15\", \"16\", \"17\", \"18\", \"19\", \"20\", \"21\", \"22\"], \"mode\": \"markers\", \"name\": \"average_precision_score_micro\", \"stepped\": false, \"type\": \"scatter\", \"data\": [0.8623005833152007, 0.8613124961430298, 0.8505201895461652, 0.8483680329723823, 0.7649028680000738, 0.7596458932776601, 0.8518573486937713, 0.8477684554487706, 0.8458849886844242, 0.848108218695723, 0.8512025146944012, 0.8523033731191948, 0.8492191199798327, 0.8457855955687377, 0.8562860539755895, 0.8502794543179488, 0.84549756364129, 0.84920968339349, 0.8482132250118711, 0.8642929286671353, 0.8499083520369842, 0.8585703208847647, 0.8634459888314957]}, {\"categories\": [\"0\", \"1\", \"2\", \"3\", \"4\", \"5\", \"6\", \"7\", \"8\", \"9\", \"10\", \"11\", \"12\", \"13\", \"14\", \"15\", \"16\", \"17\", \"18\", \"19\", \"20\", \"21\", \"22\"], \"mode\": \"lines\", \"name\": \"average_precision_score_micro_max\", \"stepped\": true, \"type\": \"scatter\", \"data\": [0.8623005833152007, 0.8623005833152007, 0.8623005833152007, 0.8623005833152007, 0.8623005833152007, 0.8623005833152007, 0.8623005833152007, 0.8623005833152007, 0.8623005833152007, 0.8623005833152007, 0.8623005833152007, 0.8623005833152007, 0.8623005833152007, 0.8623005833152007, 0.8623005833152007, 0.8623005833152007, 0.8623005833152007, 0.8623005833152007, 0.8623005833152007, 0.8642929286671353, 0.8642929286671353, 0.8642929286671353, 0.8642929286671353]}], \"accuracy\": [{\"categories\": [\"0\", \"1\", \"2\", \"3\", \"4\", \"5\", \"6\", \"7\", \"8\", \"9\", \"10\", \"11\", \"12\", \"13\", \"14\", \"15\", \"16\", \"17\", \"18\", \"19\", \"20\", \"21\", \"22\"], \"mode\": \"markers\", \"name\": \"accuracy\", \"stepped\": false, \"type\": \"scatter\", \"data\": [0.79486362489503, 0.7925670649666576, 0.7741934411560673, 0.7659464406672519, 0.7520099054575654, 0.6960002430452811, 0.7776385807681431, 0.7563413701759463, 0.7682948384484556, 0.771896758615165, 0.7804052916298148, 0.770382902581893, 0.7546712104145448, 0.750652162421821, 0.7797788233447717, 0.7758635600466255, 0.7539403579958901, 0.750652162421821, 0.7711660015618111, 0.7965865080441994, 0.7791001084984652, 0.8005536636896344, 0.7960642331621661]}, {\"categories\": [\"0\", \"1\", \"2\", \"3\", \"4\", \"5\", \"6\", \"7\", \"8\", \"9\", \"10\", \"11\", \"12\", \"13\", \"14\", \"15\", \"16\", \"17\", \"18\", \"19\", \"20\", \"21\", \"22\"], \"mode\": \"lines\", \"name\": \"accuracy_max\", \"stepped\": true, \"type\": \"scatter\", \"data\": [0.79486362489503, 0.79486362489503, 0.79486362489503, 0.79486362489503, 0.79486362489503, 0.79486362489503, 0.79486362489503, 0.79486362489503, 0.79486362489503, 0.79486362489503, 0.79486362489503, 0.79486362489503, 0.79486362489503, 0.79486362489503, 0.79486362489503, 0.79486362489503, 0.79486362489503, 0.79486362489503, 0.79486362489503, 0.7965865080441994, 0.7965865080441994, 0.8005536636896344, 0.8005536636896344]}], \"f1_score_weighted\": [{\"categories\": [\"0\", \"1\", \"2\", \"3\", \"4\", \"5\", \"6\", \"7\", \"8\", \"9\", \"10\", \"11\", \"12\", \"13\", \"14\", \"15\", \"16\", \"17\", \"18\", \"19\", \"20\", \"21\", \"22\"], \"mode\": \"markers\", \"name\": \"f1_score_weighted\", \"stepped\": false, \"type\": \"scatter\", \"data\": [0.7937249669514224, 0.7891752625784688, 0.7417561259142976, 0.7114477110594815, 0.7658081692378775, 0.7159190352253939, 0.769572019002285, 0.6743180131122586, 0.7314341450107649, 0.7420790346068442, 0.7713195113701264, 0.733761656804907, 0.6645760377554656, 0.6437464058813542, 0.7616613639457055, 0.7654581478855885, 0.6624155485657666, 0.6437464058813542, 0.740590729306404, 0.7952974498300531, 0.7590341512650869, 0.8036472418222923, 0.7951737878548769]}, {\"categories\": [\"0\", \"1\", \"2\", \"3\", \"4\", \"5\", \"6\", \"7\", \"8\", \"9\", \"10\", \"11\", \"12\", \"13\", \"14\", \"15\", \"16\", \"17\", \"18\", \"19\", \"20\", \"21\", \"22\"], \"mode\": \"lines\", \"name\": \"f1_score_weighted_max\", \"stepped\": true, \"type\": \"scatter\", \"data\": [0.7937249669514224, 0.7937249669514224, 0.7937249669514224, 0.7937249669514224, 0.7937249669514224, 0.7937249669514224, 0.7937249669514224, 0.7937249669514224, 0.7937249669514224, 0.7937249669514224, 0.7937249669514224, 0.7937249669514224, 0.7937249669514224, 0.7937249669514224, 0.7937249669514224, 0.7937249669514224, 0.7937249669514224, 0.7937249669514224, 0.7937249669514224, 0.7952974498300531, 0.7952974498300531, 0.8036472418222923, 0.8036472418222923]}], \"precision_score_macro\": [{\"categories\": [\"0\", \"1\", \"2\", \"3\", \"4\", \"5\", \"6\", \"7\", \"8\", \"9\", \"10\", \"11\", \"12\", \"13\", \"14\", \"15\", \"16\", \"17\", \"18\", \"19\", \"20\", \"21\", \"22\"], \"mode\": \"markers\", \"name\": \"precision_score_macro\", \"stepped\": false, \"type\": \"scatter\", \"data\": [0.7256822724079728, 0.7219959233021708, 0.7008306410206023, 0.6952291996163718, 0.7032919716800555, 0.6713499230815481, 0.6991711646716169, 0.6856709691688283, 0.6872330192992331, 0.6920008499661157, 0.7032236834906617, 0.6930664746186229, 0.6870933269636132, 0.3753260812109105, 0.7034244911381984, 0.6958808873826345, 0.5490902780293844, 0.3753260812109105, 0.690618171135227, 0.7281099548123742, 0.7036151451675627, 0.7353756623720054, 0.7276285142052255]}, {\"categories\": [\"0\", \"1\", \"2\", \"3\", \"4\", \"5\", \"6\", \"7\", \"8\", \"9\", \"10\", \"11\", \"12\", \"13\", \"14\", \"15\", \"16\", \"17\", \"18\", \"19\", \"20\", \"21\", \"22\"], \"mode\": \"lines\", \"name\": \"precision_score_macro_max\", \"stepped\": true, \"type\": \"scatter\", \"data\": [0.7256822724079728, 0.7256822724079728, 0.7256822724079728, 0.7256822724079728, 0.7256822724079728, 0.7256822724079728, 0.7256822724079728, 0.7256822724079728, 0.7256822724079728, 0.7256822724079728, 0.7256822724079728, 0.7256822724079728, 0.7256822724079728, 0.7256822724079728, 0.7256822724079728, 0.7256822724079728, 0.7256822724079728, 0.7256822724079728, 0.7256822724079728, 0.7281099548123742, 0.7281099548123742, 0.7353756623720054, 0.7353756623720054]}], \"average_precision_score_weighted\": [{\"categories\": [\"0\", \"1\", \"2\", \"3\", \"4\", \"5\", \"6\", \"7\", \"8\", \"9\", \"10\", \"11\", \"12\", \"13\", \"14\", \"15\", \"16\", \"17\", \"18\", \"19\", \"20\", \"21\", \"22\"], \"mode\": \"markers\", \"name\": \"average_precision_score_weighted\", \"stepped\": false, \"type\": \"scatter\", \"data\": [0.8132167132027867, 0.8126028006443814, 0.806680113390823, 0.8051968030009953, 0.8091211744525018, 0.7955971157895092, 0.8028353069797103, 0.8063573585102551, 0.7985417636656864, 0.8033637485118292, 0.8033113530557572, 0.8090295168853163, 0.8083091639401688, 0.8042482204078223, 0.8104769591255361, 0.8010654189954629, 0.8032778017157349, 0.8080419988614345, 0.8032648117954306, 0.8151369448546761, 0.8047661919537932, 0.812315820090736, 0.8144160121483403]}, {\"categories\": [\"0\", \"1\", \"2\", \"3\", \"4\", \"5\", \"6\", \"7\", \"8\", \"9\", \"10\", \"11\", \"12\", \"13\", \"14\", \"15\", \"16\", \"17\", \"18\", \"19\", \"20\", \"21\", \"22\"], \"mode\": \"lines\", \"name\": \"average_precision_score_weighted_max\", \"stepped\": true, \"type\": \"scatter\", \"data\": [0.8132167132027867, 0.8132167132027867, 0.8132167132027867, 0.8132167132027867, 0.8132167132027867, 0.8132167132027867, 0.8132167132027867, 0.8132167132027867, 0.8132167132027867, 0.8132167132027867, 0.8132167132027867, 0.8132167132027867, 0.8132167132027867, 0.8132167132027867, 0.8132167132027867, 0.8132167132027867, 0.8132167132027867, 0.8132167132027867, 0.8132167132027867, 0.8151369448546761, 0.8151369448546761, 0.8151369448546761, 0.8151369448546761]}]}, \"metricName\": null, \"primaryMetricName\": \"accuracy\", \"showLegend\": false}, \"run_metrics\": [{\"name\": \"experiment_status\", \"run_id\": \"AutoML_f0ad48f8-eb49-4ded-ae3f-db5055e453ba\", \"categories\": [0, 1, 2, 3, 4, 5, 6, 7, 8, 9, 10, 11, 12, 13], \"series\": [{\"data\": [\"DatasetEvaluation\", \"FeaturesGeneration\", \"DatasetFeaturization\", \"DatasetFeaturizationCompleted\", \"DatasetCrossValidationSplit\", \"ModelSelection\", \"BestRunExplainModel\", \"ModelExplanationDataSetSetup\", \"PickSurrogateModel\", \"EngineeredFeatureExplanations\", \"EngineeredFeatureExplanations\", \"RawFeaturesExplanations\", \"RawFeaturesExplanations\", \"BestRunExplainModel\"]}]}, {\"name\": \"experiment_status_description\", \"run_id\": \"AutoML_f0ad48f8-eb49-4ded-ae3f-db5055e453ba\", \"categories\": [0, 1, 2, 3, 4, 5, 6, 7, 8, 9, 10, 11, 12, 13], \"series\": [{\"data\": [\"Gathering dataset statistics.\", \"Generating features for the dataset.\", \"Beginning to fit featurizers and featurize the dataset.\", \"Completed fit featurizers and featurizing the dataset.\", \"Generating individually featurized CV splits.\", \"Beginning model selection.\", \"Best run model explanations started\", \"Model explanations data setup completed\", \"Choosing LightGBM as the surrogate model for explanations\", \"Computation of engineered features started\", \"Computation of engineered features completed\", \"Computation of raw features started\", \"Computation of raw features completed\", \"Best run model explanations completed\"]}]}, {\"name\": \"norm_macro_recall\", \"run_id\": \"AutoML_f0ad48f8-eb49-4ded-ae3f-db5055e453ba\", \"categories\": [0], \"series\": [{\"data\": [0.5009416489252099]}]}, {\"name\": \"AUC_weighted\", \"run_id\": \"AutoML_f0ad48f8-eb49-4ded-ae3f-db5055e453ba\", \"categories\": [0], \"series\": [{\"data\": [0.7974235140235677]}]}, {\"name\": \"log_loss\", \"run_id\": \"AutoML_f0ad48f8-eb49-4ded-ae3f-db5055e453ba\", \"categories\": [0], \"series\": [{\"data\": [0.4714549884727976]}]}, {\"name\": \"recall_score_macro\", \"run_id\": \"AutoML_f0ad48f8-eb49-4ded-ae3f-db5055e453ba\", \"categories\": [0], \"series\": [{\"data\": [0.7504708244626048]}]}, {\"name\": \"f1_score_weighted\", \"run_id\": \"AutoML_f0ad48f8-eb49-4ded-ae3f-db5055e453ba\", \"categories\": [0], \"series\": [{\"data\": [0.8036472418222923]}]}, {\"name\": \"weighted_accuracy\", \"run_id\": \"AutoML_f0ad48f8-eb49-4ded-ae3f-db5055e453ba\", \"categories\": [0], \"series\": [{\"data\": [0.8305046166940133]}]}, {\"name\": \"f1_score_micro\", \"run_id\": \"AutoML_f0ad48f8-eb49-4ded-ae3f-db5055e453ba\", \"categories\": [0], \"series\": [{\"data\": [0.8005536636896344]}]}, {\"name\": \"AUC_micro\", \"run_id\": \"AutoML_f0ad48f8-eb49-4ded-ae3f-db5055e453ba\", \"categories\": [0], \"series\": [{\"data\": [0.8722654204922188]}]}, {\"name\": \"f1_score_macro\", \"run_id\": \"AutoML_f0ad48f8-eb49-4ded-ae3f-db5055e453ba\", \"categories\": [0], \"series\": [{\"data\": [0.7420014644558002]}]}, {\"name\": \"precision_score_macro\", \"run_id\": \"AutoML_f0ad48f8-eb49-4ded-ae3f-db5055e453ba\", \"categories\": [0], \"series\": [{\"data\": [0.7353756623720054]}]}, {\"name\": \"balanced_accuracy\", \"run_id\": \"AutoML_f0ad48f8-eb49-4ded-ae3f-db5055e453ba\", \"categories\": [0], \"series\": [{\"data\": [0.7504708244626048]}]}, {\"name\": \"average_precision_score_micro\", \"run_id\": \"AutoML_f0ad48f8-eb49-4ded-ae3f-db5055e453ba\", \"categories\": [0], \"series\": [{\"data\": [0.8585703208847647]}]}, {\"name\": \"accuracy\", \"run_id\": \"AutoML_f0ad48f8-eb49-4ded-ae3f-db5055e453ba\", \"categories\": [0], \"series\": [{\"data\": [0.8005536636896344]}]}, {\"name\": \"recall_score_micro\", \"run_id\": \"AutoML_f0ad48f8-eb49-4ded-ae3f-db5055e453ba\", \"categories\": [0], \"series\": [{\"data\": [0.8005536636896344]}]}, {\"name\": \"matthews_correlation\", \"run_id\": \"AutoML_f0ad48f8-eb49-4ded-ae3f-db5055e453ba\", \"categories\": [0], \"series\": [{\"data\": [0.4855910694763194]}]}, {\"name\": \"precision_score_weighted\", \"run_id\": \"AutoML_f0ad48f8-eb49-4ded-ae3f-db5055e453ba\", \"categories\": [0], \"series\": [{\"data\": [0.8079323283446799]}]}, {\"name\": \"recall_score_weighted\", \"run_id\": \"AutoML_f0ad48f8-eb49-4ded-ae3f-db5055e453ba\", \"categories\": [0], \"series\": [{\"data\": [0.8005536636896344]}]}, {\"name\": \"AUC_macro\", \"run_id\": \"AutoML_f0ad48f8-eb49-4ded-ae3f-db5055e453ba\", \"categories\": [0], \"series\": [{\"data\": [0.7974234957684494]}]}, {\"name\": \"average_precision_score_weighted\", \"run_id\": \"AutoML_f0ad48f8-eb49-4ded-ae3f-db5055e453ba\", \"categories\": [0], \"series\": [{\"data\": [0.812315820090736]}]}, {\"name\": \"average_precision_score_macro\", \"run_id\": \"AutoML_f0ad48f8-eb49-4ded-ae3f-db5055e453ba\", \"categories\": [0], \"series\": [{\"data\": [0.7224125687899677]}]}, {\"name\": \"precision_score_micro\", \"run_id\": \"AutoML_f0ad48f8-eb49-4ded-ae3f-db5055e453ba\", \"categories\": [0], \"series\": [{\"data\": [0.8005536636896344]}]}], \"run_logs\": \"\\nRun is completed.\", \"graph\": {}, \"widget_settings\": {\"childWidgetDisplay\": \"popup\", \"send_telemetry\": false, \"log_level\": \"INFO\", \"sdk_version\": \"1.20.0\"}, \"loading\": false}"
     },
     "metadata": {},
     "output_type": "display_data"
    }
   ],
   "source": [
    "RunDetails(remote_run).show()"
   ]
  },
  {
   "cell_type": "markdown",
   "metadata": {},
   "source": [
    "## Best Model\n",
    "\n",
    "TODO: In the cell below, get the best model from the automl experiments and display all the properties of the model.\n",
    "\n"
   ]
  },
  {
   "cell_type": "code",
   "execution_count": 11,
   "metadata": {
    "gather": {
     "logged": 1598431425670
    },
    "jupyter": {
     "outputs_hidden": false,
     "source_hidden": false
    },
    "nteract": {
     "transient": {
      "deleting": false
     }
    }
   },
   "outputs": [
    {
     "name": "stderr",
     "output_type": "stream",
     "text": [
      "WARNING:root:The version of the SDK does not match the version the model was trained on.\n",
      "WARNING:root:The consistency in the result may not be guaranteed.\n",
      "WARNING:root:Package:azureml-automl-core, training version:1.21.0, current version:1.20.0\n",
      "Package:azureml-automl-runtime, training version:1.21.0, current version:1.20.0\n",
      "Package:azureml-core, training version:1.21.0.post1, current version:1.20.0\n",
      "Package:azureml-dataprep, training version:2.8.2, current version:2.7.3\n",
      "Package:azureml-dataprep-native, training version:28.0.0, current version:27.0.0\n",
      "Package:azureml-dataprep-rslex, training version:1.6.0, current version:1.5.0\n",
      "Package:azureml-dataset-runtime, training version:1.21.0, current version:1.20.0\n",
      "Package:azureml-defaults, training version:1.21.0, current version:1.20.0\n",
      "Package:azureml-interpret, training version:1.21.0, current version:1.20.0\n",
      "Package:azureml-pipeline-core, training version:1.21.0, current version:1.20.0\n",
      "Package:azureml-telemetry, training version:1.21.0, current version:1.20.0\n",
      "Package:azureml-train-automl-client, training version:1.21.0, current version:1.20.0\n",
      "Package:azureml-train-automl-runtime, training version:1.21.0, current version:1.20.0\n",
      "WARNING:root:Please ensure the version of your local conda dependencies match the version on which your model was trained in order to properly retrieve your model.\n"
     ]
    },
    {
     "name": "stdout",
     "output_type": "stream",
     "text": [
      "Run(Experiment: auto_ml_hr_analytics,\n",
      "Id: AutoML_f0ad48f8-eb49-4ded-ae3f-db5055e453ba_21,\n",
      "Type: azureml.scriptrun,\n",
      "Status: Completed)\n"
     ]
    }
   ],
   "source": [
    "best_auto_run, best_auto_model = remote_run.get_output()\n",
    "print(best_auto_run)"
   ]
  },
  {
   "cell_type": "code",
   "execution_count": 12,
   "metadata": {},
   "outputs": [
    {
     "name": "stdout",
     "output_type": "stream",
     "text": [
      "Run(Experiment: auto_ml_hr_analytics,\n",
      "Id: AutoML_f0ad48f8-eb49-4ded-ae3f-db5055e453ba_21,\n",
      "Type: azureml.scriptrun,\n",
      "Status: Completed)\n"
     ]
    }
   ],
   "source": [
    "print(best_auto_run)"
   ]
  },
  {
   "cell_type": "code",
   "execution_count": 13,
   "metadata": {},
   "outputs": [
    {
     "data": {
      "text/plain": [
       "PreFittedSoftVotingClassifier(classification_labels=None,\n",
       "                              estimators=[('19',\n",
       "                                           Pipeline(memory=None,\n",
       "                                                    steps=[('standardscalerwrapper',\n",
       "                                                            <azureml.automl.runtime.shared.model_wrappers.StandardScalerWrapper object at 0x7facc37f9da0>),\n",
       "                                                           ('lightgbmclassifier',\n",
       "                                                            LightGBMClassifier(boosting_type='gbdt',\n",
       "                                                                               class_weight=None,\n",
       "                                                                               colsample_bytree=0.6933333333333332,\n",
       "                                                                               importance_typ...\n",
       "                                                                                   min_samples_leaf=0.01,\n",
       "                                                                                   min_samples_split=0.2442105263157895,\n",
       "                                                                                   min_weight_fraction_leaf=0.0,\n",
       "                                                                                   n_estimators=10,\n",
       "                                                                                   n_jobs=1,\n",
       "                                                                                   oob_score=False,\n",
       "                                                                                   random_state=None,\n",
       "                                                                                   verbose=0,\n",
       "                                                                                   warm_start=False))],\n",
       "                                                    verbose=False))],\n",
       "                              flatten_transform=None,\n",
       "                              weights=[0.21428571428571427, 0.14285714285714285,\n",
       "                                       0.07142857142857142, 0.07142857142857142,\n",
       "                                       0.07142857142857142, 0.14285714285714285,\n",
       "                                       0.2857142857142857])"
      ]
     },
     "execution_count": 13,
     "metadata": {},
     "output_type": "execute_result"
    }
   ],
   "source": [
    "best_auto_model._final_estimator"
   ]
  },
  {
   "cell_type": "code",
   "execution_count": 14,
   "metadata": {
    "gather": {
     "logged": 1598431426111
    },
    "jupyter": {
     "outputs_hidden": false,
     "source_hidden": false
    },
    "nteract": {
     "transient": {
      "deleting": false
     }
    }
   },
   "outputs": [
    {
     "data": {
      "text/plain": [
       "['./automl_best_model.joblib']"
      ]
     },
     "execution_count": 14,
     "metadata": {},
     "output_type": "execute_result"
    }
   ],
   "source": [
    "\n",
    "joblib.dump(best_auto_model, filename=\"./automl_best_model.joblib\")"
   ]
  },
  {
   "cell_type": "markdown",
   "metadata": {},
   "source": [
    "## Model Deployment\n",
    "\n",
    "Remember you have to deploy only one of the two models you trained.. Perform the steps in the rest of this notebook only if you wish to deploy this model.\n",
    "\n",
    "TODO: In the cell below, register the model, create an inference config and deploy the model as a web service."
   ]
  },
  {
   "cell_type": "code",
   "execution_count": 15,
   "metadata": {},
   "outputs": [],
   "source": [
    "model = best_auto_run.register_model(\"best_model\", model_path=\"outputs/model.pkl\")"
   ]
  },
  {
   "cell_type": "code",
   "execution_count": 16,
   "metadata": {
    "gather": {
     "logged": 1598431435189
    },
    "jupyter": {
     "outputs_hidden": false,
     "source_hidden": false
    },
    "nteract": {
     "transient": {
      "deleting": false
     }
    }
   },
   "outputs": [],
   "source": [
    "best_auto_run.download_file('outputs/scoring_file_v_1_0_0.py', 'automl_inf/score.py')\n",
    "best_auto_run.download_file('outputs/model.pkl', 'automl_inf/model.pkl')"
   ]
  },
  {
   "cell_type": "markdown",
   "metadata": {
    "collapsed": true,
    "gather": {
     "logged": 1598431657736
    },
    "jupyter": {
     "outputs_hidden": false,
     "source_hidden": false
    },
    "nteract": {
     "transient": {
      "deleting": false
     }
    }
   },
   "source": [
    "TODO: In the cell below, send a request to the web service you deployed to test it."
   ]
  },
  {
   "cell_type": "code",
   "execution_count": 17,
   "metadata": {
    "gather": {
     "logged": 1598432707604
    },
    "jupyter": {
     "outputs_hidden": false,
     "source_hidden": false
    },
    "nteract": {
     "transient": {
      "deleting": false
     }
    }
   },
   "outputs": [],
   "source": [
    "inference_config = InferenceConfig(entry_script='automl_inf/score.py')"
   ]
  },
  {
   "cell_type": "markdown",
   "metadata": {
    "collapsed": true,
    "gather": {
     "logged": 1598432765711
    },
    "jupyter": {
     "outputs_hidden": false,
     "source_hidden": false
    },
    "nteract": {
     "transient": {
      "deleting": false
     }
    }
   },
   "source": [
    "TODO: In the cell below, print the logs of the web service and delete the service"
   ]
  },
  {
   "cell_type": "code",
   "execution_count": 18,
   "metadata": {
    "jupyter": {
     "outputs_hidden": false,
     "source_hidden": false
    },
    "nteract": {
     "transient": {
      "deleting": false
     }
    }
   },
   "outputs": [
    {
     "name": "stdout",
     "output_type": "stream",
     "text": [
      "Tips: You can try get_logs(): https://aka.ms/debugimage#dockerlog or local deployment: https://aka.ms/debugimage#debug-locally to debug if deployment takes longer than 10 minutes.\n",
      "Running..............................\n",
      "Succeeded\n",
      "ACI service creation operation finished, operation \"Succeeded\"\n",
      "Healthy\n"
     ]
    }
   ],
   "source": [
    "service = Model.deploy(ws, \"best-model-service\", [model], inference_config, overwrite=True)\n",
    "service.wait_for_deployment(show_output = True)\n",
    "print(service.state)"
   ]
  },
  {
   "cell_type": "code",
   "execution_count": 22,
   "metadata": {},
   "outputs": [],
   "source": [
    "import json\n",
    "data = {\"data\":\n",
    "        [\n",
    "          {\n",
    "            \"city_development_index\": 0.94,\n",
    "            \"gender\": \"Male\",\n",
    "            \"relevent_experience\": \"Has relevent experience\",\n",
    "            \"enrolled_university\": \"Full time course\",\n",
    "            \"education_level\": \"Graduate\",\n",
    "            \"major_discipline\": \"STEM\",\n",
    "            \"experience\": \">20\",\n",
    "            \"company_size\": \"<10\",\n",
    "            \"company_type\": \"Pvt Ltd\",\n",
    "            \"last_new_job\": 4,\n",
    "            \"training_hours\": 30\n",
    "          },\n",
    "          {\n",
    "            \"city_development_index\": 0.559,\n",
    "            \"gender\": \"Female\",\n",
    "            \"relevent_experience\": \"No relevent experience\",\n",
    "            \"enrolled_university\": \"no_enrollment\",\n",
    "            \"education_level\": \"Masters\",\n",
    "            \"major_discipline\": \"No Major\",\n",
    "            \"experience\": 1,\n",
    "            \"company_size\": \"100-500\",\n",
    "            \"company_type\": \"Pvt Ltd\",\n",
    "            \"last_new_job\": \"never\",\n",
    "            \"training_hours\": 7\n",
    "          },\n",
    "      ]\n",
    "    }\n",
    "input_data = json.dumps(data)"
   ]
  },
  {
   "cell_type": "code",
   "execution_count": 24,
   "metadata": {},
   "outputs": [
    {
     "data": {
      "text/plain": [
       "'{\"result\": [0.0, 1.0]}'"
      ]
     },
     "execution_count": 24,
     "metadata": {},
     "output_type": "execute_result"
    }
   ],
   "source": [
    "output = service.run(input_data)\n",
    "output"
   ]
  },
  {
   "cell_type": "code",
   "execution_count": 25,
   "metadata": {},
   "outputs": [],
   "source": [
    "service.delete()"
   ]
  }
 ],
 "metadata": {
  "kernel_info": {
   "name": "python3-azureml"
  },
  "kernelspec": {
   "display_name": "Python 3",
   "language": "python",
   "name": "python3"
  },
  "language_info": {
   "codemirror_mode": {
    "name": "ipython",
    "version": 3
   },
   "file_extension": ".py",
   "mimetype": "text/x-python",
   "name": "python",
   "nbconvert_exporter": "python",
   "pygments_lexer": "ipython3",
   "version": "3.6.9"
  },
  "nteract": {
   "version": "nteract-front-end@1.0.0"
  }
 },
 "nbformat": 4,
 "nbformat_minor": 2
}
