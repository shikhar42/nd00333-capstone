{
 "cells": [
  {
   "cell_type": "markdown",
   "metadata": {},
   "source": [
    "# Automated ML\n",
    "\n",
    "TODO: Import Dependencies. In the cell below, import all the dependencies that you will need to complete the project."
   ]
  },
  {
   "cell_type": "code",
   "execution_count": 19,
   "metadata": {
    "gather": {
     "logged": 1598423888013
    },
    "jupyter": {
     "outputs_hidden": false,
     "source_hidden": false
    },
    "nteract": {
     "transient": {
      "deleting": false
     }
    }
   },
   "outputs": [],
   "source": [
    "from azureml.core import Workspace, Experiment, Dataset\n",
    "from azureml.core.compute import ComputeTarget, AmlCompute\n",
    "from azureml.core.compute_target import ComputeTargetException\n",
    "from azureml.train.automl import AutoMLConfig\n",
    "from azureml.pipeline.steps import AutoMLStep\n",
    "from azureml.widgets import RunDetails\n",
    "import joblib \n",
    "from azureml.core.environment import Environment\n",
    "from azureml.core.model import InferenceConfig, Model\n",
    "from azureml.core.webservice.aci import AciWebservice\n",
    "from azureml.core.webservice import Webservice\n",
    "import azureml.core\n"
   ]
  },
  {
   "cell_type": "markdown",
   "metadata": {},
   "source": [
    "## Dataset\n",
    "\n",
    "### Overview\n",
    "TODO: In this markdown cell, give an overview of the dataset you are using. Also mention the task you will be performing.\n",
    "\n",
    "\n",
    "TODO: Get data. In the cell below, write code to access the data you will be using in this project. Remember that the dataset needs to be external."
   ]
  },
  {
   "cell_type": "code",
   "execution_count": 2,
   "metadata": {
    "gather": {
     "logged": 1598423890461
    },
    "jupyter": {
     "outputs_hidden": false,
     "source_hidden": false
    },
    "nteract": {
     "transient": {
      "deleting": false
     }
    }
   },
   "outputs": [],
   "source": [
    "ws = Workspace.from_config()\n",
    "\n",
    "# choose a name for experiment\n",
    "experiment_name = 'auto_ml_hr_analytics'\n",
    "\n",
    "experiment=Experiment(ws, experiment_name)\n"
   ]
  },
  {
   "cell_type": "code",
   "execution_count": 3,
   "metadata": {},
   "outputs": [
    {
     "name": "stdout",
     "output_type": "stream",
     "text": [
      "HR_Analytics\n"
     ]
    }
   ],
   "source": [
    "for ds in ws.datasets:\n",
    "    print(ds)"
   ]
  },
  {
   "cell_type": "code",
   "execution_count": 4,
   "metadata": {},
   "outputs": [
    {
     "data": {
      "text/plain": [
       "{\n",
       "  \"source\": [\n",
       "    \"('workspaceblobstore', 'UI/02-06-2021_062833_UTC/aug_train.csv.txt')\"\n",
       "  ],\n",
       "  \"definition\": [\n",
       "    \"GetDatastoreFiles\",\n",
       "    \"ParseDelimited\",\n",
       "    \"DropColumns\",\n",
       "    \"SetColumnTypes\"\n",
       "  ],\n",
       "  \"registration\": {\n",
       "    \"id\": \"83b05b95-642d-4be7-88aa-2f60921e85fb\",\n",
       "    \"name\": \"HR_Analytics\",\n",
       "    \"version\": 1,\n",
       "    \"description\": \"Capstone Dataset\",\n",
       "    \"workspace\": \"Workspace.create(name='quick-starts-ws-137656', subscription_id='1b944a9b-fdae-4f97-aeb1-b7eea0beac53', resource_group='aml-quickstarts-137656')\"\n",
       "  }\n",
       "}"
      ]
     },
     "execution_count": 4,
     "metadata": {},
     "output_type": "execute_result"
    }
   ],
   "source": [
    "data = ws.datasets[\"HR_Analytics\"]\n",
    "data"
   ]
  },
  {
   "cell_type": "markdown",
   "metadata": {},
   "source": [
    "## AutoML Configuration\n",
    "\n",
    "TODO: Explain why you chose the automl settings and cofiguration you used below."
   ]
  },
  {
   "cell_type": "code",
   "execution_count": 5,
   "metadata": {},
   "outputs": [
    {
     "name": "stdout",
     "output_type": "stream",
     "text": [
      "Cluster exists\n"
     ]
    }
   ],
   "source": [
    "try:\n",
    "    cluster_project = ComputeTarget(workspace=ws, name=\"aml-compute-capstone\")\n",
    "    print(\"Cluster exists\")\n",
    "except:\n",
    "    config = AmlCompute.provisioning_configuration(vm_size='STANDARD_D2_V2', max_nodes=4)\n",
    "    cluster_project = ComputeTarget.create(ws, \"aml-compute-capstone\", config)\n",
    "\n",
    "cluster_project.wait_for_completion()"
   ]
  },
  {
   "cell_type": "code",
   "execution_count": 6,
   "metadata": {
    "gather": {
     "logged": 1598429217746
    },
    "jupyter": {
     "outputs_hidden": false,
     "source_hidden": false
    },
    "nteract": {
     "transient": {
      "deleting": false
     }
    }
   },
   "outputs": [],
   "source": [
    "# TODO: Put your automl settings here\n",
    "automl_settings = {\n",
    "    \"experiment_timeout_minutes\": 30,\n",
    "    \"task\": \"classification\", \n",
    "    \"primary_metric\": \"accuracy\",\n",
    "    \"training_data\": data,\n",
    "    \"label_column_name\": \"target\",\n",
    "    \"n_cross_validations\": 5,\n",
    "    \"compute_target\": cluster_project\n",
    "}\n",
    "\n",
    "# TODO: Put your automl config here\n",
    "automl_config = AutoMLConfig(**automl_settings)"
   ]
  },
  {
   "cell_type": "code",
   "execution_count": 7,
   "metadata": {
    "gather": {
     "logged": 1598431107951
    },
    "jupyter": {
     "outputs_hidden": false,
     "source_hidden": false
    },
    "nteract": {
     "transient": {
      "deleting": false
     }
    }
   },
   "outputs": [
    {
     "name": "stdout",
     "output_type": "stream",
     "text": [
      "Running on remote.\n",
      "No run_configuration provided, running on aml-compute-capstone with default configuration\n",
      "Running on remote compute: aml-compute-capstone\n",
      "Parent Run ID: AutoML_6012acc0-aa0f-46c7-9f5f-2d289b51c91f\n",
      "\n",
      "Current status: FeaturesGeneration. Generating features for the dataset.\n",
      "Current status: DatasetFeaturization. Beginning to fit featurizers and featurize the dataset.\n",
      "Current status: DatasetCrossValidationSplit. Generating individually featurized CV splits.\n",
      "Current status: ModelSelection. Beginning model selection.\n",
      "\n",
      "****************************************************************************************************\n",
      "DATA GUARDRAILS: \n",
      "\n",
      "TYPE:         Class balancing detection\n",
      "STATUS:       PASSED\n",
      "DESCRIPTION:  Your inputs were analyzed, and all classes are balanced in your training data.\n",
      "              Learn more about imbalanced data: https://aka.ms/AutomatedMLImbalancedData\n",
      "\n",
      "****************************************************************************************************\n",
      "\n",
      "TYPE:         Missing feature values imputation\n",
      "STATUS:       DONE\n",
      "DESCRIPTION:  If the missing values are expected, let the run complete. Otherwise cancel the current run and use a script to customize the handling of missing feature values that may be more appropriate based on the data type and business requirement.\n",
      "              Learn more about missing value imputation: https://aka.ms/AutomatedMLFeaturization\n",
      "DETAILS:      \n",
      "+---------------------------------+---------------------------------+\n",
      "|Column name                      |Missing value count              |\n",
      "+=================================+=================================+\n",
      "|gender                           |4508                             |\n",
      "|enrolled_university              |386                              |\n",
      "|education_level                  |460                              |\n",
      "|major_discipline                 |2813                             |\n",
      "|experience                       |65                               |\n",
      "|company_size                     |5938                             |\n",
      "|company_type                     |6140                             |\n",
      "|last_new_job                     |423                              |\n",
      "+---------------------------------+---------------------------------+\n",
      "\n",
      "****************************************************************************************************\n",
      "\n",
      "TYPE:         High cardinality feature detection\n",
      "STATUS:       PASSED\n",
      "DESCRIPTION:  Your inputs were analyzed, and no high cardinality features were detected.\n",
      "              Learn more about high cardinality feature handling: https://aka.ms/AutomatedMLFeaturization\n",
      "\n",
      "****************************************************************************************************\n",
      "\n",
      "****************************************************************************************************\n",
      "ITERATION: The iteration being evaluated.\n",
      "PIPELINE: A summary description of the pipeline being evaluated.\n",
      "DURATION: Time taken for the current iteration.\n",
      "METRIC: The result of computing score on the fitted pipeline.\n",
      "BEST: The best observed score thus far.\n",
      "****************************************************************************************************\n",
      "\n",
      " ITERATION   PIPELINE                                       DURATION      METRIC      BEST\n",
      "         0   MaxAbsScaler LightGBM                          0:01:05       0.7925    0.7925\n",
      "         1   MaxAbsScaler XGBoostClassifier                 0:01:20       0.7953    0.7953\n",
      "         2   MaxAbsScaler RandomForest                      0:01:11       0.7553    0.7953\n",
      "         3   MaxAbsScaler RandomForest                      0:01:00       0.7514    0.7953\n",
      "         4   MaxAbsScaler RandomForest                      0:00:59       0.7403    0.7953\n",
      "         5   MaxAbsScaler RandomForest                      0:00:59       0.7180    0.7953\n",
      "         6   SparseNormalizer XGBoostClassifier             0:01:59       0.7858    0.7953\n",
      "         7   MaxAbsScaler RandomForest                      0:02:08       0.7515    0.7953\n",
      "         8   SparseNormalizer LightGBM                      0:01:11       0.7763    0.7953\n",
      "         9   MaxAbsScaler LogisticRegression                0:01:13       0.7811    0.7953\n",
      "        10   SparseNormalizer XGBoostClassifier             0:03:11       0.7841    0.7953\n",
      "        11   MaxAbsScaler LightGBM                          0:01:07       0.7630    0.7953\n",
      "        12   StandardScalerWrapper LightGBM                 0:00:58       0.7811    0.7953\n",
      "        13   StandardScalerWrapper RandomForest             0:01:40       0.7777    0.7953\n",
      "        14   StandardScalerWrapper LightGBM                 0:00:54       0.7507    0.7953\n",
      "        15   SparseNormalizer XGBoostClassifier             0:01:10       0.7861    0.7953\n",
      "        16   StandardScalerWrapper ExtremeRandomTrees       0:01:26       0.7762    0.7953\n",
      "        17   StandardScalerWrapper LightGBM                 0:00:58       0.7954    0.7954\n",
      "        18   MaxAbsScaler ExtremeRandomTrees                0:01:51       0.7753    0.7954\n",
      "        19    VotingEnsemble                                0:02:18       0.7996    0.7996\n",
      "        20    StackEnsemble                                 0:01:45       0.7938    0.7996\n"
     ]
    }
   ],
   "source": [
    "# TODO: Submit your experiment\n",
    "remote_run = experiment.submit(automl_config,show_output=True)"
   ]
  },
  {
   "cell_type": "markdown",
   "metadata": {},
   "source": [
    "## Run Details\n",
    "\n",
    "OPTIONAL: Write about the different models trained and their performance. Why do you think some models did better than others?\n",
    "\n",
    "TODO: In the cell below, use the `RunDetails` widget to show the different experiments."
   ]
  },
  {
   "cell_type": "code",
   "execution_count": 8,
   "metadata": {
    "gather": {
     "logged": 1598431121770
    },
    "jupyter": {
     "outputs_hidden": false,
     "source_hidden": false
    },
    "nteract": {
     "transient": {
      "deleting": false
     }
    }
   },
   "outputs": [
    {
     "data": {
      "application/vnd.jupyter.widget-view+json": {
       "model_id": "fd18256e551d46f3b0cf2f50e19f3af5",
       "version_major": 2,
       "version_minor": 0
      },
      "text/plain": [
       "_AutoMLWidget(widget_settings={'childWidgetDisplay': 'popup', 'send_telemetry': False, 'log_level': 'INFO', 's…"
      ]
     },
     "metadata": {},
     "output_type": "display_data"
    },
    {
     "data": {
      "application/aml.mini.widget.v1": "{\"status\": \"Completed\", \"workbench_run_details_uri\": \"https://ml.azure.com/experiments/auto_ml_hr_analytics/runs/AutoML_6012acc0-aa0f-46c7-9f5f-2d289b51c91f?wsid=/subscriptions/1b944a9b-fdae-4f97-aeb1-b7eea0beac53/resourcegroups/aml-quickstarts-137656/workspaces/quick-starts-ws-137656\", \"run_id\": \"AutoML_6012acc0-aa0f-46c7-9f5f-2d289b51c91f\", \"run_properties\": {\"run_id\": \"AutoML_6012acc0-aa0f-46c7-9f5f-2d289b51c91f\", \"created_utc\": \"2021-02-06T18:53:51.462007Z\", \"properties\": {\"num_iterations\": \"1000\", \"training_type\": \"TrainFull\", \"acquisition_function\": \"EI\", \"primary_metric\": \"accuracy\", \"train_split\": \"0\", \"acquisition_parameter\": \"0\", \"num_cross_validation\": \"5\", \"target\": \"aml-compute-capstone\", \"AMLSettingsJsonString\": \"{\\\"path\\\":null,\\\"name\\\":\\\"auto_ml_hr_analytics\\\",\\\"subscription_id\\\":\\\"1b944a9b-fdae-4f97-aeb1-b7eea0beac53\\\",\\\"resource_group\\\":\\\"aml-quickstarts-137656\\\",\\\"workspace_name\\\":\\\"quick-starts-ws-137656\\\",\\\"region\\\":\\\"southcentralus\\\",\\\"compute_target\\\":\\\"aml-compute-capstone\\\",\\\"spark_service\\\":null,\\\"azure_service\\\":\\\"remote\\\",\\\"many_models\\\":false,\\\"pipeline_fetch_max_batch_size\\\":1,\\\"iterations\\\":1000,\\\"primary_metric\\\":\\\"accuracy\\\",\\\"task_type\\\":\\\"classification\\\",\\\"data_script\\\":null,\\\"validation_size\\\":0.0,\\\"n_cross_validations\\\":5,\\\"y_min\\\":null,\\\"y_max\\\":null,\\\"num_classes\\\":null,\\\"featurization\\\":\\\"auto\\\",\\\"_ignore_package_version_incompatibilities\\\":false,\\\"is_timeseries\\\":false,\\\"max_cores_per_iteration\\\":1,\\\"max_concurrent_iterations\\\":1,\\\"iteration_timeout_minutes\\\":null,\\\"mem_in_mb\\\":null,\\\"enforce_time_on_windows\\\":false,\\\"experiment_timeout_minutes\\\":30,\\\"experiment_exit_score\\\":null,\\\"whitelist_models\\\":null,\\\"blacklist_algos\\\":[\\\"TensorFlowLinearClassifier\\\",\\\"TensorFlowDNN\\\"],\\\"supported_models\\\":[\\\"DecisionTree\\\",\\\"SVM\\\",\\\"LinearSVM\\\",\\\"LightGBM\\\",\\\"TensorFlowLinearClassifier\\\",\\\"BernoulliNaiveBayes\\\",\\\"KNN\\\",\\\"RandomForest\\\",\\\"SGD\\\",\\\"TensorFlowDNN\\\",\\\"AveragedPerceptronClassifier\\\",\\\"LogisticRegression\\\",\\\"GradientBoosting\\\",\\\"XGBoostClassifier\\\",\\\"ExtremeRandomTrees\\\",\\\"MultinomialNaiveBayes\\\"],\\\"auto_blacklist\\\":true,\\\"blacklist_samples_reached\\\":false,\\\"exclude_nan_labels\\\":true,\\\"verbosity\\\":20,\\\"_debug_log\\\":\\\"azureml_automl.log\\\",\\\"show_warnings\\\":false,\\\"model_explainability\\\":true,\\\"service_url\\\":null,\\\"sdk_url\\\":null,\\\"sdk_packages\\\":null,\\\"enable_onnx_compatible_models\\\":false,\\\"enable_split_onnx_featurizer_estimator_models\\\":false,\\\"vm_type\\\":\\\"STANDARD_D2_V2\\\",\\\"telemetry_verbosity\\\":20,\\\"send_telemetry\\\":true,\\\"enable_dnn\\\":false,\\\"scenario\\\":\\\"SDK-1.13.0\\\",\\\"environment_label\\\":null,\\\"force_text_dnn\\\":false,\\\"enable_feature_sweeping\\\":true,\\\"enable_early_stopping\\\":false,\\\"early_stopping_n_iters\\\":10,\\\"metrics\\\":null,\\\"enable_ensembling\\\":true,\\\"enable_stack_ensembling\\\":true,\\\"ensemble_iterations\\\":15,\\\"enable_tf\\\":false,\\\"enable_subsampling\\\":null,\\\"subsample_seed\\\":null,\\\"enable_nimbusml\\\":false,\\\"enable_streaming\\\":false,\\\"force_streaming\\\":false,\\\"track_child_runs\\\":true,\\\"allowed_private_models\\\":[],\\\"label_column_name\\\":\\\"target\\\",\\\"weight_column_name\\\":null,\\\"cv_split_column_names\\\":null,\\\"enable_local_managed\\\":false,\\\"_local_managed_run_id\\\":null,\\\"cost_mode\\\":1,\\\"lag_length\\\":0,\\\"metric_operation\\\":\\\"maximize\\\",\\\"preprocess\\\":true}\", \"DataPrepJsonString\": \"{\\\\\\\"training_data\\\\\\\": \\\\\\\"{\\\\\\\\\\\\\\\"blocks\\\\\\\\\\\\\\\": [{\\\\\\\\\\\\\\\"id\\\\\\\\\\\\\\\": \\\\\\\\\\\\\\\"1414b556-4a34-4a68-9230-b4cc98cfda77\\\\\\\\\\\\\\\", \\\\\\\\\\\\\\\"type\\\\\\\\\\\\\\\": \\\\\\\\\\\\\\\"Microsoft.DPrep.GetDatastoreFilesBlock\\\\\\\\\\\\\\\", \\\\\\\\\\\\\\\"arguments\\\\\\\\\\\\\\\": {\\\\\\\\\\\\\\\"datastores\\\\\\\\\\\\\\\": [{\\\\\\\\\\\\\\\"datastoreName\\\\\\\\\\\\\\\": \\\\\\\\\\\\\\\"workspaceblobstore\\\\\\\\\\\\\\\", \\\\\\\\\\\\\\\"path\\\\\\\\\\\\\\\": \\\\\\\\\\\\\\\"UI/02-06-2021_062833_UTC/aug_train.csv.txt\\\\\\\\\\\\\\\", \\\\\\\\\\\\\\\"resourceGroup\\\\\\\\\\\\\\\": \\\\\\\\\\\\\\\"aml-quickstarts-137656\\\\\\\\\\\\\\\", \\\\\\\\\\\\\\\"subscription\\\\\\\\\\\\\\\": \\\\\\\\\\\\\\\"1b944a9b-fdae-4f97-aeb1-b7eea0beac53\\\\\\\\\\\\\\\", \\\\\\\\\\\\\\\"workspaceName\\\\\\\\\\\\\\\": \\\\\\\\\\\\\\\"quick-starts-ws-137656\\\\\\\\\\\\\\\"}]}, \\\\\\\\\\\\\\\"localData\\\\\\\\\\\\\\\": {}, \\\\\\\\\\\\\\\"isEnabled\\\\\\\\\\\\\\\": true, \\\\\\\\\\\\\\\"name\\\\\\\\\\\\\\\": null, \\\\\\\\\\\\\\\"annotation\\\\\\\\\\\\\\\": null}, {\\\\\\\\\\\\\\\"id\\\\\\\\\\\\\\\": \\\\\\\\\\\\\\\"b50a63ed-73ab-41f0-91a4-4235be036106\\\\\\\\\\\\\\\", \\\\\\\\\\\\\\\"type\\\\\\\\\\\\\\\": \\\\\\\\\\\\\\\"Microsoft.DPrep.ParseDelimitedBlock\\\\\\\\\\\\\\\", \\\\\\\\\\\\\\\"arguments\\\\\\\\\\\\\\\": {\\\\\\\\\\\\\\\"columnHeadersMode\\\\\\\\\\\\\\\": 1, \\\\\\\\\\\\\\\"fileEncoding\\\\\\\\\\\\\\\": 0, \\\\\\\\\\\\\\\"handleQuotedLineBreaks\\\\\\\\\\\\\\\": false, \\\\\\\\\\\\\\\"preview\\\\\\\\\\\\\\\": false, \\\\\\\\\\\\\\\"separator\\\\\\\\\\\\\\\": \\\\\\\\\\\\\\\",\\\\\\\\\\\\\\\", \\\\\\\\\\\\\\\"skipRows\\\\\\\\\\\\\\\": 0, \\\\\\\\\\\\\\\"skipRowsMode\\\\\\\\\\\\\\\": 0}, \\\\\\\\\\\\\\\"localData\\\\\\\\\\\\\\\": {}, \\\\\\\\\\\\\\\"isEnabled\\\\\\\\\\\\\\\": true, \\\\\\\\\\\\\\\"name\\\\\\\\\\\\\\\": null, \\\\\\\\\\\\\\\"annotation\\\\\\\\\\\\\\\": null}, {\\\\\\\\\\\\\\\"id\\\\\\\\\\\\\\\": \\\\\\\\\\\\\\\"b8f80c3b-38b3-49fe-b206-8e1012582233\\\\\\\\\\\\\\\", \\\\\\\\\\\\\\\"type\\\\\\\\\\\\\\\": \\\\\\\\\\\\\\\"Microsoft.DPrep.DropColumnsBlock\\\\\\\\\\\\\\\", \\\\\\\\\\\\\\\"arguments\\\\\\\\\\\\\\\": {\\\\\\\\\\\\\\\"columns\\\\\\\\\\\\\\\": {\\\\\\\\\\\\\\\"type\\\\\\\\\\\\\\\": 0, \\\\\\\\\\\\\\\"details\\\\\\\\\\\\\\\": {\\\\\\\\\\\\\\\"selectedColumns\\\\\\\\\\\\\\\": [\\\\\\\\\\\\\\\"Path\\\\\\\\\\\\\\\"]}}}, \\\\\\\\\\\\\\\"localData\\\\\\\\\\\\\\\": {}, \\\\\\\\\\\\\\\"isEnabled\\\\\\\\\\\\\\\": true, \\\\\\\\\\\\\\\"name\\\\\\\\\\\\\\\": null, \\\\\\\\\\\\\\\"annotation\\\\\\\\\\\\\\\": null}, {\\\\\\\\\\\\\\\"id\\\\\\\\\\\\\\\": \\\\\\\\\\\\\\\"db7e48cf-772a-416f-9055-e8eb7a82c852\\\\\\\\\\\\\\\", \\\\\\\\\\\\\\\"type\\\\\\\\\\\\\\\": \\\\\\\\\\\\\\\"Microsoft.DPrep.SetColumnTypesBlock\\\\\\\\\\\\\\\", \\\\\\\\\\\\\\\"arguments\\\\\\\\\\\\\\\": {\\\\\\\\\\\\\\\"columnConversion\\\\\\\\\\\\\\\": [{\\\\\\\\\\\\\\\"column\\\\\\\\\\\\\\\": {\\\\\\\\\\\\\\\"type\\\\\\\\\\\\\\\": 2, \\\\\\\\\\\\\\\"details\\\\\\\\\\\\\\\": {\\\\\\\\\\\\\\\"selectedColumn\\\\\\\\\\\\\\\": \\\\\\\\\\\\\\\"Path\\\\\\\\\\\\\\\"}}, \\\\\\\\\\\\\\\"typeProperty\\\\\\\\\\\\\\\": 0}, {\\\\\\\\\\\\\\\"column\\\\\\\\\\\\\\\": {\\\\\\\\\\\\\\\"type\\\\\\\\\\\\\\\": 2, \\\\\\\\\\\\\\\"details\\\\\\\\\\\\\\\": {\\\\\\\\\\\\\\\"selectedColumn\\\\\\\\\\\\\\\": \\\\\\\\\\\\\\\"enrollee_id\\\\\\\\\\\\\\\"}}, \\\\\\\\\\\\\\\"typeProperty\\\\\\\\\\\\\\\": 2}, {\\\\\\\\\\\\\\\"column\\\\\\\\\\\\\\\": {\\\\\\\\\\\\\\\"type\\\\\\\\\\\\\\\": 2, \\\\\\\\\\\\\\\"details\\\\\\\\\\\\\\\": {\\\\\\\\\\\\\\\"selectedColumn\\\\\\\\\\\\\\\": \\\\\\\\\\\\\\\"city\\\\\\\\\\\\\\\"}}, \\\\\\\\\\\\\\\"typeProperty\\\\\\\\\\\\\\\": 0}, {\\\\\\\\\\\\\\\"column\\\\\\\\\\\\\\\": {\\\\\\\\\\\\\\\"type\\\\\\\\\\\\\\\": 2, \\\\\\\\\\\\\\\"details\\\\\\\\\\\\\\\": {\\\\\\\\\\\\\\\"selectedColumn\\\\\\\\\\\\\\\": \\\\\\\\\\\\\\\"city_development_index\\\\\\\\\\\\\\\"}}, \\\\\\\\\\\\\\\"typeProperty\\\\\\\\\\\\\\\": 3}, {\\\\\\\\\\\\\\\"column\\\\\\\\\\\\\\\": {\\\\\\\\\\\\\\\"type\\\\\\\\\\\\\\\": 2, \\\\\\\\\\\\\\\"details\\\\\\\\\\\\\\\": {\\\\\\\\\\\\\\\"selectedColumn\\\\\\\\\\\\\\\": \\\\\\\\\\\\\\\"gender\\\\\\\\\\\\\\\"}}, \\\\\\\\\\\\\\\"typeProperty\\\\\\\\\\\\\\\": 0}, {\\\\\\\\\\\\\\\"column\\\\\\\\\\\\\\\": {\\\\\\\\\\\\\\\"type\\\\\\\\\\\\\\\": 2, \\\\\\\\\\\\\\\"details\\\\\\\\\\\\\\\": {\\\\\\\\\\\\\\\"selectedColumn\\\\\\\\\\\\\\\": \\\\\\\\\\\\\\\"relevent_experience\\\\\\\\\\\\\\\"}}, \\\\\\\\\\\\\\\"typeProperty\\\\\\\\\\\\\\\": 0}, {\\\\\\\\\\\\\\\"column\\\\\\\\\\\\\\\": {\\\\\\\\\\\\\\\"type\\\\\\\\\\\\\\\": 2, \\\\\\\\\\\\\\\"details\\\\\\\\\\\\\\\": {\\\\\\\\\\\\\\\"selectedColumn\\\\\\\\\\\\\\\": \\\\\\\\\\\\\\\"enrolled_university\\\\\\\\\\\\\\\"}}, \\\\\\\\\\\\\\\"typeProperty\\\\\\\\\\\\\\\": 0}, {\\\\\\\\\\\\\\\"column\\\\\\\\\\\\\\\": {\\\\\\\\\\\\\\\"type\\\\\\\\\\\\\\\": 2, \\\\\\\\\\\\\\\"details\\\\\\\\\\\\\\\": {\\\\\\\\\\\\\\\"selectedColumn\\\\\\\\\\\\\\\": \\\\\\\\\\\\\\\"education_level\\\\\\\\\\\\\\\"}}, \\\\\\\\\\\\\\\"typeProperty\\\\\\\\\\\\\\\": 0}, {\\\\\\\\\\\\\\\"column\\\\\\\\\\\\\\\": {\\\\\\\\\\\\\\\"type\\\\\\\\\\\\\\\": 2, \\\\\\\\\\\\\\\"details\\\\\\\\\\\\\\\": {\\\\\\\\\\\\\\\"selectedColumn\\\\\\\\\\\\\\\": \\\\\\\\\\\\\\\"major_discipline\\\\\\\\\\\\\\\"}}, \\\\\\\\\\\\\\\"typeProperty\\\\\\\\\\\\\\\": 0}, {\\\\\\\\\\\\\\\"column\\\\\\\\\\\\\\\": {\\\\\\\\\\\\\\\"type\\\\\\\\\\\\\\\": 2, \\\\\\\\\\\\\\\"details\\\\\\\\\\\\\\\": {\\\\\\\\\\\\\\\"selectedColumn\\\\\\\\\\\\\\\": \\\\\\\\\\\\\\\"experience\\\\\\\\\\\\\\\"}}, \\\\\\\\\\\\\\\"typeProperty\\\\\\\\\\\\\\\": 0}, {\\\\\\\\\\\\\\\"column\\\\\\\\\\\\\\\": {\\\\\\\\\\\\\\\"type\\\\\\\\\\\\\\\": 2, \\\\\\\\\\\\\\\"details\\\\\\\\\\\\\\\": {\\\\\\\\\\\\\\\"selectedColumn\\\\\\\\\\\\\\\": \\\\\\\\\\\\\\\"company_size\\\\\\\\\\\\\\\"}}, \\\\\\\\\\\\\\\"typeProperty\\\\\\\\\\\\\\\": 0}, {\\\\\\\\\\\\\\\"column\\\\\\\\\\\\\\\": {\\\\\\\\\\\\\\\"type\\\\\\\\\\\\\\\": 2, \\\\\\\\\\\\\\\"details\\\\\\\\\\\\\\\": {\\\\\\\\\\\\\\\"selectedColumn\\\\\\\\\\\\\\\": \\\\\\\\\\\\\\\"company_type\\\\\\\\\\\\\\\"}}, \\\\\\\\\\\\\\\"typeProperty\\\\\\\\\\\\\\\": 0}, {\\\\\\\\\\\\\\\"column\\\\\\\\\\\\\\\": {\\\\\\\\\\\\\\\"type\\\\\\\\\\\\\\\": 2, \\\\\\\\\\\\\\\"details\\\\\\\\\\\\\\\": {\\\\\\\\\\\\\\\"selectedColumn\\\\\\\\\\\\\\\": \\\\\\\\\\\\\\\"last_new_job\\\\\\\\\\\\\\\"}}, \\\\\\\\\\\\\\\"typeProperty\\\\\\\\\\\\\\\": 0}, {\\\\\\\\\\\\\\\"column\\\\\\\\\\\\\\\": {\\\\\\\\\\\\\\\"type\\\\\\\\\\\\\\\": 2, \\\\\\\\\\\\\\\"details\\\\\\\\\\\\\\\": {\\\\\\\\\\\\\\\"selectedColumn\\\\\\\\\\\\\\\": \\\\\\\\\\\\\\\"training_hours\\\\\\\\\\\\\\\"}}, \\\\\\\\\\\\\\\"typeProperty\\\\\\\\\\\\\\\": 2}, {\\\\\\\\\\\\\\\"column\\\\\\\\\\\\\\\": {\\\\\\\\\\\\\\\"type\\\\\\\\\\\\\\\": 2, \\\\\\\\\\\\\\\"details\\\\\\\\\\\\\\\": {\\\\\\\\\\\\\\\"selectedColumn\\\\\\\\\\\\\\\": \\\\\\\\\\\\\\\"target\\\\\\\\\\\\\\\"}}, \\\\\\\\\\\\\\\"typeProperty\\\\\\\\\\\\\\\": 3}]}, \\\\\\\\\\\\\\\"localData\\\\\\\\\\\\\\\": {}, \\\\\\\\\\\\\\\"isEnabled\\\\\\\\\\\\\\\": true, \\\\\\\\\\\\\\\"name\\\\\\\\\\\\\\\": null, \\\\\\\\\\\\\\\"annotation\\\\\\\\\\\\\\\": null}], \\\\\\\\\\\\\\\"inspectors\\\\\\\\\\\\\\\": [], \\\\\\\\\\\\\\\"meta\\\\\\\\\\\\\\\": {\\\\\\\\\\\\\\\"savedDatasetId\\\\\\\\\\\\\\\": \\\\\\\\\\\\\\\"83b05b95-642d-4be7-88aa-2f60921e85fb\\\\\\\\\\\\\\\", \\\\\\\\\\\\\\\"datasetType\\\\\\\\\\\\\\\": \\\\\\\\\\\\\\\"tabular\\\\\\\\\\\\\\\", \\\\\\\\\\\\\\\"subscriptionId\\\\\\\\\\\\\\\": \\\\\\\\\\\\\\\"1b944a9b-fdae-4f97-aeb1-b7eea0beac53\\\\\\\\\\\\\\\", \\\\\\\\\\\\\\\"workspaceId\\\\\\\\\\\\\\\": \\\\\\\\\\\\\\\"8e67c636-db9b-44c4-ae90-0331ccbcfce1\\\\\\\\\\\\\\\", \\\\\\\\\\\\\\\"workspaceLocation\\\\\\\\\\\\\\\": \\\\\\\\\\\\\\\"southcentralus\\\\\\\\\\\\\\\"}}\\\\\\\", \\\\\\\"activities\\\\\\\": 0}\", \"EnableSubsampling\": null, \"runTemplate\": \"AutoML\", \"azureml.runsource\": \"automl\", \"display_task_type\": \"classification\", \"dependencies_versions\": \"{\\\"azureml-widgets\\\": \\\"1.20.0\\\", \\\"azureml-train\\\": \\\"1.20.0\\\", \\\"azureml-train-restclients-hyperdrive\\\": \\\"1.20.0\\\", \\\"azureml-train-core\\\": \\\"1.20.0\\\", \\\"azureml-train-automl\\\": \\\"1.20.0\\\", \\\"azureml-train-automl-runtime\\\": \\\"1.20.0\\\", \\\"azureml-train-automl-client\\\": \\\"1.20.0\\\", \\\"azureml-tensorboard\\\": \\\"1.20.0\\\", \\\"azureml-telemetry\\\": \\\"1.20.0\\\", \\\"azureml-sdk\\\": \\\"1.20.0\\\", \\\"azureml-samples\\\": \\\"0+unknown\\\", \\\"azureml-pipeline\\\": \\\"1.20.0\\\", \\\"azureml-pipeline-steps\\\": \\\"1.20.0\\\", \\\"azureml-pipeline-core\\\": \\\"1.20.0\\\", \\\"azureml-opendatasets\\\": \\\"1.20.0\\\", \\\"azureml-model-management-sdk\\\": \\\"1.0.1b6.post1\\\", \\\"azureml-mlflow\\\": \\\"1.20.0.post1\\\", \\\"azureml-interpret\\\": \\\"1.20.0\\\", \\\"azureml-explain-model\\\": \\\"1.20.0\\\", \\\"azureml-defaults\\\": \\\"1.20.0\\\", \\\"azureml-dataset-runtime\\\": \\\"1.20.0\\\", \\\"azureml-dataprep\\\": \\\"2.7.3\\\", \\\"azureml-dataprep-rslex\\\": \\\"1.5.0\\\", \\\"azureml-dataprep-native\\\": \\\"27.0.0\\\", \\\"azureml-datadrift\\\": \\\"1.20.0\\\", \\\"azureml-core\\\": \\\"1.20.0\\\", \\\"azureml-contrib-services\\\": \\\"1.20.0\\\", \\\"azureml-contrib-server\\\": \\\"1.20.0\\\", \\\"azureml-contrib-reinforcementlearning\\\": \\\"1.20.0\\\", \\\"azureml-contrib-pipeline-steps\\\": \\\"1.20.0\\\", \\\"azureml-contrib-notebook\\\": \\\"1.20.0\\\", \\\"azureml-contrib-interpret\\\": \\\"1.20.0\\\", \\\"azureml-contrib-gbdt\\\": \\\"1.20.0\\\", \\\"azureml-contrib-fairness\\\": \\\"1.20.0\\\", \\\"azureml-contrib-dataset\\\": \\\"1.20.0\\\", \\\"azureml-cli-common\\\": \\\"1.20.0\\\", \\\"azureml-automl-runtime\\\": \\\"1.20.0\\\", \\\"azureml-automl-core\\\": \\\"1.20.0\\\", \\\"azureml-accel-models\\\": \\\"1.20.0\\\"}\", \"_aml_system_scenario_identification\": \"Remote.Parent\", \"ClientType\": \"SDK\", \"environment_cpu_name\": \"AzureML-AutoML\", \"environment_cpu_label\": \"prod\", \"environment_gpu_name\": \"AzureML-AutoML-GPU\", \"environment_gpu_label\": \"prod\", \"root_attribution\": \"automl\", \"attribution\": \"AutoML\", \"Orchestrator\": \"AutoML\", \"CancelUri\": \"https://southcentralus.experiments.azureml.net/jasmine/v1.0/subscriptions/1b944a9b-fdae-4f97-aeb1-b7eea0beac53/resourceGroups/aml-quickstarts-137656/providers/Microsoft.MachineLearningServices/workspaces/quick-starts-ws-137656/experimentids/f717d260-747f-4860-993c-ef77b48c5a76/cancel/AutoML_6012acc0-aa0f-46c7-9f5f-2d289b51c91f\", \"ClientSdkVersion\": \"1.21.0\", \"snapshotId\": \"00000000-0000-0000-0000-000000000000\", \"SetupRunId\": \"AutoML_6012acc0-aa0f-46c7-9f5f-2d289b51c91f_setup\", \"SetupRunContainerId\": \"dcid.AutoML_6012acc0-aa0f-46c7-9f5f-2d289b51c91f_setup\", \"FeaturizationRunJsonPath\": \"featurizer_container.json\", \"FeaturizationRunId\": \"AutoML_6012acc0-aa0f-46c7-9f5f-2d289b51c91f_featurize\", \"ProblemInfoJsonString\": \"{\\\"dataset_num_categorical\\\": 0, \\\"is_sparse\\\": true, \\\"subsampling\\\": false, \\\"dataset_classes\\\": 2, \\\"dataset_features\\\": 202, \\\"dataset_samples\\\": 19158, \\\"single_frequency_class_detected\\\": false}\", \"ModelExplainRunId\": \"AutoML_6012acc0-aa0f-46c7-9f5f-2d289b51c91f_ModelExplain\"}, \"tags\": {\"model_explain_run\": \"best_run\", \"_aml_system_azureml.automlComponent\": \"AutoML\", \"pipeline_id\": \"\", \"score\": \"\", \"predicted_cost\": \"\", \"fit_time\": \"\", \"training_percent\": \"\", \"iteration\": \"\", \"run_preprocessor\": \"\", \"run_algorithm\": \"\", \"automl_best_child_run_id\": \"AutoML_6012acc0-aa0f-46c7-9f5f-2d289b51c91f_19\", \"model_explain_best_run_child_id\": \"AutoML_6012acc0-aa0f-46c7-9f5f-2d289b51c91f_19\"}, \"end_time_utc\": \"2021-02-06T19:35:39.383998Z\", \"status\": \"Completed\", \"log_files\": {}, \"log_groups\": [], \"run_duration\": \"0:41:47\"}, \"child_runs\": [{\"run_id\": \"AutoML_6012acc0-aa0f-46c7-9f5f-2d289b51c91f_0\", \"run_number\": 9, \"metric\": null, \"status\": \"Completed\", \"run_type\": \"azureml.scriptrun\", \"training_percent\": \"100\", \"start_time\": \"2021-02-06T18:59:24.350471Z\", \"end_time\": \"2021-02-06T19:00:29.062018Z\", \"created_time\": \"2021-02-06T18:59:07.424037Z\", \"created_time_dt\": \"2021-02-06T18:59:07.424037Z\", \"duration\": \"0:01:21\", \"iteration\": \"0\", \"goal\": \"accuracy_max\", \"run_name\": \"MaxAbsScaler, LightGBM\", \"run_properties\": \"copy=True\", \"primary_metric\": 0.79251465, \"best_metric\": 0.79251465}, {\"run_id\": \"AutoML_6012acc0-aa0f-46c7-9f5f-2d289b51c91f_1\", \"run_number\": 11, \"metric\": null, \"status\": \"Completed\", \"run_type\": \"azureml.scriptrun\", \"training_percent\": \"100\", \"start_time\": \"2021-02-06T19:00:46.880578Z\", \"end_time\": \"2021-02-06T19:02:07.196049Z\", \"created_time\": \"2021-02-06T19:00:30.589995Z\", \"created_time_dt\": \"2021-02-06T19:00:30.589995Z\", \"duration\": \"0:01:36\", \"iteration\": \"1\", \"goal\": \"accuracy_max\", \"run_name\": \"MaxAbsScaler, XGBoostClassifier\", \"run_properties\": \"copy=True\", \"primary_metric\": 0.79533369, \"best_metric\": 0.79533369}, {\"run_id\": \"AutoML_6012acc0-aa0f-46c7-9f5f-2d289b51c91f_2\", \"run_number\": 13, \"metric\": null, \"status\": \"Completed\", \"run_type\": \"azureml.scriptrun\", \"training_percent\": \"100\", \"start_time\": \"2021-02-06T19:02:23.229017Z\", \"end_time\": \"2021-02-06T19:03:34.456391Z\", \"created_time\": \"2021-02-06T19:02:10.225886Z\", \"created_time_dt\": \"2021-02-06T19:02:10.225886Z\", \"duration\": \"0:01:24\", \"iteration\": \"2\", \"goal\": \"accuracy_max\", \"run_name\": \"MaxAbsScaler, RandomForest\", \"run_properties\": \"copy=True\", \"primary_metric\": 0.75534957, \"best_metric\": 0.79533369}, {\"run_id\": \"AutoML_6012acc0-aa0f-46c7-9f5f-2d289b51c91f_3\", \"run_number\": 15, \"metric\": null, \"status\": \"Completed\", \"run_type\": \"azureml.scriptrun\", \"training_percent\": \"100\", \"start_time\": \"2021-02-06T19:03:49.306101Z\", \"end_time\": \"2021-02-06T19:04:49.664302Z\", \"created_time\": \"2021-02-06T19:03:37.168828Z\", \"created_time_dt\": \"2021-02-06T19:03:37.168828Z\", \"duration\": \"0:01:12\", \"iteration\": \"3\", \"goal\": \"accuracy_max\", \"run_name\": \"MaxAbsScaler, RandomForest\", \"run_properties\": \"copy=True\", \"primary_metric\": 0.75143504, \"best_metric\": 0.79533369}, {\"run_id\": \"AutoML_6012acc0-aa0f-46c7-9f5f-2d289b51c91f_4\", \"run_number\": 17, \"metric\": null, \"status\": \"Completed\", \"run_type\": \"azureml.scriptrun\", \"training_percent\": \"100\", \"start_time\": \"2021-02-06T19:05:03.473986Z\", \"end_time\": \"2021-02-06T19:06:02.873152Z\", \"created_time\": \"2021-02-06T19:04:52.849924Z\", \"created_time_dt\": \"2021-02-06T19:04:52.849924Z\", \"duration\": \"0:01:10\", \"iteration\": \"4\", \"goal\": \"accuracy_max\", \"run_name\": \"MaxAbsScaler, RandomForest\", \"run_properties\": \"copy=True\", \"primary_metric\": 0.74026564, \"best_metric\": 0.79533369}, {\"run_id\": \"AutoML_6012acc0-aa0f-46c7-9f5f-2d289b51c91f_5\", \"run_number\": 19, \"metric\": null, \"status\": \"Completed\", \"run_type\": \"azureml.scriptrun\", \"training_percent\": \"100\", \"start_time\": \"2021-02-06T19:06:23.526774Z\", \"end_time\": \"2021-02-06T19:07:22.869359Z\", \"created_time\": \"2021-02-06T19:06:06.621868Z\", \"created_time_dt\": \"2021-02-06T19:06:06.621868Z\", \"duration\": \"0:01:16\", \"iteration\": \"5\", \"goal\": \"accuracy_max\", \"run_name\": \"MaxAbsScaler, RandomForest\", \"run_properties\": \"copy=True\", \"primary_metric\": 0.7179781, \"best_metric\": 0.79533369}, {\"run_id\": \"AutoML_6012acc0-aa0f-46c7-9f5f-2d289b51c91f_6\", \"run_number\": 21, \"metric\": null, \"status\": \"Completed\", \"run_type\": \"azureml.scriptrun\", \"training_percent\": \"100\", \"start_time\": \"2021-02-06T19:07:41.956484Z\", \"end_time\": \"2021-02-06T19:09:41.322005Z\", \"created_time\": \"2021-02-06T19:07:26.377752Z\", \"created_time_dt\": \"2021-02-06T19:07:26.377752Z\", \"duration\": \"0:02:14\", \"iteration\": \"6\", \"goal\": \"accuracy_max\", \"run_name\": \"SparseNormalizer, XGBoostClassifier\", \"run_properties\": \"<azureml.automl.runtime.shared.model_wrappers.SparseNormalizer object at 0x7ff6d52a0630\", \"primary_metric\": 0.78583372, \"best_metric\": 0.79533369}, {\"run_id\": \"AutoML_6012acc0-aa0f-46c7-9f5f-2d289b51c91f_7\", \"run_number\": 23, \"metric\": null, \"status\": \"Completed\", \"run_type\": \"azureml.scriptrun\", \"training_percent\": \"100\", \"start_time\": \"2021-02-06T19:09:56.940429Z\", \"end_time\": \"2021-02-06T19:12:04.630931Z\", \"created_time\": \"2021-02-06T19:09:43.857879Z\", \"created_time_dt\": \"2021-02-06T19:09:43.857879Z\", \"duration\": \"0:02:20\", \"iteration\": \"7\", \"goal\": \"accuracy_max\", \"run_name\": \"MaxAbsScaler, RandomForest\", \"run_properties\": \"copy=True\", \"primary_metric\": 0.75153943, \"best_metric\": 0.79533369}, {\"run_id\": \"AutoML_6012acc0-aa0f-46c7-9f5f-2d289b51c91f_8\", \"run_number\": 25, \"metric\": null, \"status\": \"Completed\", \"run_type\": \"azureml.scriptrun\", \"training_percent\": \"100\", \"start_time\": \"2021-02-06T19:12:22.725503Z\", \"end_time\": \"2021-02-06T19:13:33.701474Z\", \"created_time\": \"2021-02-06T19:12:07.573106Z\", \"created_time_dt\": \"2021-02-06T19:12:07.573106Z\", \"duration\": \"0:01:26\", \"iteration\": \"8\", \"goal\": \"accuracy_max\", \"run_name\": \"SparseNormalizer, LightGBM\", \"run_properties\": \"<azureml.automl.runtime.shared.model_wrappers.SparseNormalizer object at 0x7f63aa4a3940\", \"primary_metric\": 0.77628133, \"best_metric\": 0.79533369}, {\"run_id\": \"AutoML_6012acc0-aa0f-46c7-9f5f-2d289b51c91f_9\", \"run_number\": 28, \"metric\": null, \"status\": \"Completed\", \"run_type\": \"azureml.scriptrun\", \"training_percent\": \"100\", \"start_time\": \"2021-02-06T19:13:55.985213Z\", \"end_time\": \"2021-02-06T19:15:09.337503Z\", \"created_time\": \"2021-02-06T19:13:36.987161Z\", \"created_time_dt\": \"2021-02-06T19:13:36.987161Z\", \"duration\": \"0:01:32\", \"iteration\": \"9\", \"goal\": \"accuracy_max\", \"run_name\": \"MaxAbsScaler, LogisticRegression\", \"run_properties\": \"copy=True\", \"primary_metric\": 0.78113572, \"best_metric\": 0.79533369}, {\"run_id\": \"AutoML_6012acc0-aa0f-46c7-9f5f-2d289b51c91f_10\", \"run_number\": 30, \"metric\": null, \"status\": \"Completed\", \"run_type\": \"azureml.scriptrun\", \"training_percent\": \"100\", \"start_time\": \"2021-02-06T19:15:23.591591Z\", \"end_time\": \"2021-02-06T19:18:34.686662Z\", \"created_time\": \"2021-02-06T19:15:11.698077Z\", \"created_time_dt\": \"2021-02-06T19:15:11.698077Z\", \"duration\": \"0:03:22\", \"iteration\": \"10\", \"goal\": \"accuracy_max\", \"run_name\": \"SparseNormalizer, XGBoostClassifier\", \"run_properties\": \"<azureml.automl.runtime.shared.model_wrappers.SparseNormalizer object at 0x7f0124ff2b70\", \"primary_metric\": 0.78411119, \"best_metric\": 0.79533369}, {\"run_id\": \"AutoML_6012acc0-aa0f-46c7-9f5f-2d289b51c91f_11\", \"run_number\": 32, \"metric\": null, \"status\": \"Completed\", \"run_type\": \"azureml.scriptrun\", \"training_percent\": \"100\", \"start_time\": \"2021-02-06T19:18:50.439415Z\", \"end_time\": \"2021-02-06T19:19:57.891602Z\", \"created_time\": \"2021-02-06T19:18:36.553471Z\", \"created_time_dt\": \"2021-02-06T19:18:36.553471Z\", \"duration\": \"0:01:21\", \"iteration\": \"11\", \"goal\": \"accuracy_max\", \"run_name\": \"MaxAbsScaler, LightGBM\", \"run_properties\": \"copy=True\", \"primary_metric\": 0.7630228, \"best_metric\": 0.79533369}, {\"run_id\": \"AutoML_6012acc0-aa0f-46c7-9f5f-2d289b51c91f_12\", \"run_number\": 34, \"metric\": null, \"status\": \"Completed\", \"run_type\": \"azureml.scriptrun\", \"training_percent\": \"100\", \"start_time\": \"2021-02-06T19:20:14.855175Z\", \"end_time\": \"2021-02-06T19:21:13.222446Z\", \"created_time\": \"2021-02-06T19:20:00.203954Z\", \"created_time_dt\": \"2021-02-06T19:20:00.203954Z\", \"duration\": \"0:01:13\", \"iteration\": \"12\", \"goal\": \"accuracy_max\", \"run_name\": \"StandardScalerWrapper, LightGBM\", \"run_properties\": \"<azureml.automl.runtime.shared.model_wrappers.StandardScalerWrapper object at 0x7f143e100f28\", \"primary_metric\": 0.78108372, \"best_metric\": 0.79533369}, {\"run_id\": \"AutoML_6012acc0-aa0f-46c7-9f5f-2d289b51c91f_13\", \"run_number\": 36, \"metric\": null, \"status\": \"Completed\", \"run_type\": \"azureml.scriptrun\", \"training_percent\": \"100\", \"start_time\": \"2021-02-06T19:21:32.11552Z\", \"end_time\": \"2021-02-06T19:23:12.194228Z\", \"created_time\": \"2021-02-06T19:21:16.813808Z\", \"created_time_dt\": \"2021-02-06T19:21:16.813808Z\", \"duration\": \"0:01:55\", \"iteration\": \"13\", \"goal\": \"accuracy_max\", \"run_name\": \"StandardScalerWrapper, RandomForest\", \"run_properties\": \"<azureml.automl.runtime.shared.model_wrappers.StandardScalerWrapper object at 0x7f3aea08fc88\", \"primary_metric\": 0.77774317, \"best_metric\": 0.79533369}, {\"run_id\": \"AutoML_6012acc0-aa0f-46c7-9f5f-2d289b51c91f_14\", \"run_number\": 38, \"metric\": null, \"status\": \"Completed\", \"run_type\": \"azureml.scriptrun\", \"training_percent\": \"100\", \"start_time\": \"2021-02-06T19:23:26.709581Z\", \"end_time\": \"2021-02-06T19:24:20.438547Z\", \"created_time\": \"2021-02-06T19:23:15.603626Z\", \"created_time_dt\": \"2021-02-06T19:23:15.603626Z\", \"duration\": \"0:01:04\", \"iteration\": \"14\", \"goal\": \"accuracy_max\", \"run_name\": \"StandardScalerWrapper, LightGBM\", \"run_properties\": \"<azureml.automl.runtime.shared.model_wrappers.StandardScalerWrapper object at 0x7f2728112320\", \"primary_metric\": 0.75065216, \"best_metric\": 0.79533369}, {\"run_id\": \"AutoML_6012acc0-aa0f-46c7-9f5f-2d289b51c91f_15\", \"run_number\": 39, \"metric\": null, \"status\": \"Completed\", \"run_type\": \"azureml.scriptrun\", \"training_percent\": \"100\", \"start_time\": \"2021-02-06T19:24:40.639127Z\", \"end_time\": \"2021-02-06T19:25:50.595938Z\", \"created_time\": \"2021-02-06T19:24:22.722297Z\", \"created_time_dt\": \"2021-02-06T19:24:22.722297Z\", \"duration\": \"0:01:27\", \"iteration\": \"15\", \"goal\": \"accuracy_max\", \"run_name\": \"SparseNormalizer, XGBoostClassifier\", \"run_properties\": \"<azureml.automl.runtime.shared.model_wrappers.SparseNormalizer object at 0x7f01dfb74748\", \"primary_metric\": 0.78609462, \"best_metric\": 0.79533369}, {\"run_id\": \"AutoML_6012acc0-aa0f-46c7-9f5f-2d289b51c91f_16\", \"run_number\": 41, \"metric\": null, \"status\": \"Completed\", \"run_type\": \"azureml.scriptrun\", \"training_percent\": \"100\", \"start_time\": \"2021-02-06T19:26:04.980185Z\", \"end_time\": \"2021-02-06T19:27:30.951116Z\", \"created_time\": \"2021-02-06T19:25:52.909003Z\", \"created_time_dt\": \"2021-02-06T19:25:52.909003Z\", \"duration\": \"0:01:38\", \"iteration\": \"16\", \"goal\": \"accuracy_max\", \"run_name\": \"StandardScalerWrapper, ExtremeRandomTrees\", \"run_properties\": \"<azureml.automl.runtime.shared.model_wrappers.StandardScalerWrapper object at 0x7f871882bda0\", \"primary_metric\": 0.77617709, \"best_metric\": 0.79533369}, {\"run_id\": \"AutoML_6012acc0-aa0f-46c7-9f5f-2d289b51c91f_17\", \"run_number\": 44, \"metric\": null, \"status\": \"Completed\", \"run_type\": \"azureml.scriptrun\", \"training_percent\": \"100\", \"start_time\": \"2021-02-06T19:27:46.275552Z\", \"end_time\": \"2021-02-06T19:28:44.694924Z\", \"created_time\": \"2021-02-06T19:27:33.089322Z\", \"created_time_dt\": \"2021-02-06T19:27:33.089322Z\", \"duration\": \"0:01:11\", \"iteration\": \"17\", \"goal\": \"accuracy_max\", \"run_name\": \"StandardScalerWrapper, LightGBM\", \"run_properties\": \"<azureml.automl.runtime.shared.model_wrappers.StandardScalerWrapper object at 0x7f113c1e3208\", \"primary_metric\": 0.79538568, \"best_metric\": 0.79538568}, {\"run_id\": \"AutoML_6012acc0-aa0f-46c7-9f5f-2d289b51c91f_18\", \"run_number\": 46, \"metric\": null, \"status\": \"Completed\", \"run_type\": \"azureml.scriptrun\", \"training_percent\": \"100\", \"start_time\": \"2021-02-06T19:28:59.601213Z\", \"end_time\": \"2021-02-06T19:30:50.555587Z\", \"created_time\": \"2021-02-06T19:28:46.622026Z\", \"created_time_dt\": \"2021-02-06T19:28:46.622026Z\", \"duration\": \"0:02:03\", \"iteration\": \"18\", \"goal\": \"accuracy_max\", \"run_name\": \"MaxAbsScaler, ExtremeRandomTrees\", \"run_properties\": \"copy=True\", \"primary_metric\": 0.77534199, \"best_metric\": 0.79538568}, {\"run_id\": \"AutoML_6012acc0-aa0f-46c7-9f5f-2d289b51c91f_19\", \"run_number\": 48, \"metric\": null, \"status\": \"Completed\", \"run_type\": \"azureml.scriptrun\", \"training_percent\": \"100\", \"start_time\": \"2021-02-06T19:31:07.486786Z\", \"end_time\": \"2021-02-06T19:33:25.925372Z\", \"created_time\": \"2021-02-06T19:30:52.101195Z\", \"created_time_dt\": \"2021-02-06T19:30:52.101195Z\", \"duration\": \"0:02:33\", \"iteration\": \"19\", \"goal\": \"accuracy_max\", \"run_name\": \"VotingEnsemble\", \"run_properties\": \"classification_labels=None,\\n                              estimators=[('17',\\n                                           Pipeline(memory=None,\\n                                                    steps=[('standardscalerwrapper',\\n                                                            <azureml.automl.runtime.shared.model_wrappers.StandardScalerWrapper object at 0x7f19e4e52160>\", \"primary_metric\": 0.799562, \"best_metric\": 0.799562}, {\"run_id\": \"AutoML_6012acc0-aa0f-46c7-9f5f-2d289b51c91f_20\", \"run_number\": 51, \"metric\": null, \"status\": \"Completed\", \"run_type\": \"azureml.scriptrun\", \"training_percent\": \"100\", \"start_time\": \"2021-02-06T19:33:43.472081Z\", \"end_time\": \"2021-02-06T19:35:28.547343Z\", \"created_time\": \"2021-02-06T19:33:28.287367Z\", \"created_time_dt\": \"2021-02-06T19:33:28.287367Z\", \"duration\": \"0:02:00\", \"iteration\": \"20\", \"goal\": \"accuracy_max\", \"run_name\": \"StackEnsemble\", \"run_properties\": \"base_learners=[('17',\\n                                        Pipeline(memory=None,\\n                                                 steps=[('standardscalerwrapper',\\n                                                         <azureml.automl.runtime.shared.model_wrappers.StandardScalerWrapper object at 0x7f7fb57f16a0>\", \"primary_metric\": 0.79376767, \"best_metric\": 0.799562}], \"children_metrics\": {\"categories\": [0], \"series\": {\"recall_score_micro\": [{\"categories\": [\"0\", \"1\", \"2\", \"3\", \"4\", \"5\", \"6\", \"7\", \"8\", \"9\", \"10\", \"11\", \"12\", \"13\", \"14\", \"15\", \"16\", \"17\", \"18\", \"19\", \"20\"], \"mode\": \"markers\", \"name\": \"recall_score_micro\", \"stepped\": false, \"type\": \"scatter\", \"data\": [0.7925146549220212, 0.7953336940866429, 0.7553495710468766, 0.7514350434239087, 0.7402656414079406, 0.7179781030370307, 0.7858337161568982, 0.7515394275575202, 0.7762813281825173, 0.7811357217164228, 0.7841111872217037, 0.7630227993911879, 0.7810837203802187, 0.7777431692559709, 0.750652162421821, 0.7860946219964698, 0.7761770939086641, 0.7953856817992326, 0.7753419935925416, 0.799562000796709, 0.7937676732337938]}, {\"categories\": [\"0\", \"1\", \"2\", \"3\", \"4\", \"5\", \"6\", \"7\", \"8\", \"9\", \"10\", \"11\", \"12\", \"13\", \"14\", \"15\", \"16\", \"17\", \"18\", \"19\", \"20\"], \"mode\": \"lines\", \"name\": \"recall_score_micro_max\", \"stepped\": true, \"type\": \"scatter\", \"data\": [0.7925146549220212, 0.7953336940866429, 0.7953336940866429, 0.7953336940866429, 0.7953336940866429, 0.7953336940866429, 0.7953336940866429, 0.7953336940866429, 0.7953336940866429, 0.7953336940866429, 0.7953336940866429, 0.7953336940866429, 0.7953336940866429, 0.7953336940866429, 0.7953336940866429, 0.7953336940866429, 0.7953336940866429, 0.7953856817992326, 0.7953856817992326, 0.799562000796709, 0.799562000796709]}], \"AUC_macro\": [{\"categories\": [\"0\", \"1\", \"2\", \"3\", \"4\", \"5\", \"6\", \"7\", \"8\", \"9\", \"10\", \"11\", \"12\", \"13\", \"14\", \"15\", \"16\", \"17\", \"18\", \"19\", \"20\"], \"mode\": \"markers\", \"name\": \"AUC_macro\", \"stepped\": false, \"type\": \"scatter\", \"data\": [0.7997494560662937, 0.800288302163238, 0.7889013564396775, 0.7753187627053568, 0.7881561915121474, 0.7724488458149358, 0.794037126788807, 0.7908700087679215, 0.7829698909155812, 0.7963110961424591, 0.7935147659147436, 0.7920966326936318, 0.7965132526437306, 0.7947366337042248, 0.7876540527260454, 0.794625030461796, 0.7877477216154094, 0.8007613935935012, 0.7869132556358981, 0.7998846307178802, 0.8021133583468807]}, {\"categories\": [\"0\", \"1\", \"2\", \"3\", \"4\", \"5\", \"6\", \"7\", \"8\", \"9\", \"10\", \"11\", \"12\", \"13\", \"14\", \"15\", \"16\", \"17\", \"18\", \"19\", \"20\"], \"mode\": \"lines\", \"name\": \"AUC_macro_max\", \"stepped\": true, \"type\": \"scatter\", \"data\": [0.7997494560662937, 0.800288302163238, 0.800288302163238, 0.800288302163238, 0.800288302163238, 0.800288302163238, 0.800288302163238, 0.800288302163238, 0.800288302163238, 0.800288302163238, 0.800288302163238, 0.800288302163238, 0.800288302163238, 0.800288302163238, 0.800288302163238, 0.800288302163238, 0.800288302163238, 0.8007613935935012, 0.8007613935935012, 0.8007613935935012, 0.8021133583468807]}], \"f1_score_micro\": [{\"categories\": [\"0\", \"1\", \"2\", \"3\", \"4\", \"5\", \"6\", \"7\", \"8\", \"9\", \"10\", \"11\", \"12\", \"13\", \"14\", \"15\", \"16\", \"17\", \"18\", \"19\", \"20\"], \"mode\": \"markers\", \"name\": \"f1_score_micro\", \"stepped\": false, \"type\": \"scatter\", \"data\": [0.7925146549220212, 0.7953336940866429, 0.7553495710468766, 0.7514350434239087, 0.7402656414079407, 0.7179781030370307, 0.7858337161568982, 0.7515394275575202, 0.7762813281825173, 0.7811357217164228, 0.7841111872217037, 0.7630227993911879, 0.7810837203802187, 0.7777431692559709, 0.750652162421821, 0.78609462199647, 0.776177093908664, 0.7953856817992326, 0.7753419935925417, 0.799562000796709, 0.7937676732337938]}, {\"categories\": [\"0\", \"1\", \"2\", \"3\", \"4\", \"5\", \"6\", \"7\", \"8\", \"9\", \"10\", \"11\", \"12\", \"13\", \"14\", \"15\", \"16\", \"17\", \"18\", \"19\", \"20\"], \"mode\": \"lines\", \"name\": \"f1_score_micro_max\", \"stepped\": true, \"type\": \"scatter\", \"data\": [0.7925146549220212, 0.7953336940866429, 0.7953336940866429, 0.7953336940866429, 0.7953336940866429, 0.7953336940866429, 0.7953336940866429, 0.7953336940866429, 0.7953336940866429, 0.7953336940866429, 0.7953336940866429, 0.7953336940866429, 0.7953336940866429, 0.7953336940866429, 0.7953336940866429, 0.7953336940866429, 0.7953336940866429, 0.7953856817992326, 0.7953856817992326, 0.799562000796709, 0.799562000796709]}], \"precision_score_weighted\": [{\"categories\": [\"0\", \"1\", \"2\", \"3\", \"4\", \"5\", \"6\", \"7\", \"8\", \"9\", \"10\", \"11\", \"12\", \"13\", \"14\", \"15\", \"16\", \"17\", \"18\", \"19\", \"20\"], \"mode\": \"markers\", \"name\": \"precision_score_weighted\", \"stepped\": false, \"type\": \"scatter\", \"data\": [0.7897666215364162, 0.7892558868195282, 0.7107939870452056, 0.6423201482748413, 0.7951031101791115, 0.7899717365905338, 0.7769595969419628, 0.713544228847171, 0.7538444766219472, 0.7611208482901712, 0.7731446791572341, 0.7313251152140846, 0.7607161009139183, 0.7559711051209521, 0.5635073887631035, 0.7746680808065328, 0.7533421853658082, 0.7908948152760409, 0.7506150896737964, 0.8027101928604907, 0.7902646093064909]}, {\"categories\": [\"0\", \"1\", \"2\", \"3\", \"4\", \"5\", \"6\", \"7\", \"8\", \"9\", \"10\", \"11\", \"12\", \"13\", \"14\", \"15\", \"16\", \"17\", \"18\", \"19\", \"20\"], \"mode\": \"lines\", \"name\": \"precision_score_weighted_max\", \"stepped\": true, \"type\": \"scatter\", \"data\": [0.7897666215364162, 0.7897666215364162, 0.7897666215364162, 0.7897666215364162, 0.7951031101791115, 0.7951031101791115, 0.7951031101791115, 0.7951031101791115, 0.7951031101791115, 0.7951031101791115, 0.7951031101791115, 0.7951031101791115, 0.7951031101791115, 0.7951031101791115, 0.7951031101791115, 0.7951031101791115, 0.7951031101791115, 0.7951031101791115, 0.7951031101791115, 0.8027101928604907, 0.8027101928604907]}], \"AUC_micro\": [{\"categories\": [\"0\", \"1\", \"2\", \"3\", \"4\", \"5\", \"6\", \"7\", \"8\", \"9\", \"10\", \"11\", \"12\", \"13\", \"14\", \"15\", \"16\", \"17\", \"18\", \"19\", \"20\"], \"mode\": \"markers\", \"name\": \"AUC_micro\", \"stepped\": false, \"type\": \"scatter\", \"data\": [0.8755157914800862, 0.8753770514067467, 0.8592281789323565, 0.8537967617328475, 0.7931541567200975, 0.7765741233061195, 0.8707027608009895, 0.8595357827866833, 0.862849913826427, 0.8678135088045277, 0.8701804628923213, 0.8616968712470303, 0.8702200473133681, 0.8680358330734507, 0.8583250119908741, 0.8704788760636882, 0.864350564541185, 0.8761582991262147, 0.8633633624372102, 0.8753234819814487, 0.8769683233595357]}, {\"categories\": [\"0\", \"1\", \"2\", \"3\", \"4\", \"5\", \"6\", \"7\", \"8\", \"9\", \"10\", \"11\", \"12\", \"13\", \"14\", \"15\", \"16\", \"17\", \"18\", \"19\", \"20\"], \"mode\": \"lines\", \"name\": \"AUC_micro_max\", \"stepped\": true, \"type\": \"scatter\", \"data\": [0.8755157914800862, 0.8755157914800862, 0.8755157914800862, 0.8755157914800862, 0.8755157914800862, 0.8755157914800862, 0.8755157914800862, 0.8755157914800862, 0.8755157914800862, 0.8755157914800862, 0.8755157914800862, 0.8755157914800862, 0.8755157914800862, 0.8755157914800862, 0.8755157914800862, 0.8755157914800862, 0.8755157914800862, 0.8761582991262147, 0.8761582991262147, 0.8761582991262147, 0.8769683233595357]}], \"norm_macro_recall\": [{\"categories\": [\"0\", \"1\", \"2\", \"3\", \"4\", \"5\", \"6\", \"7\", \"8\", \"9\", \"10\", \"11\", \"12\", \"13\", \"14\", \"15\", \"16\", \"17\", \"18\", \"19\", \"20\"], \"mode\": \"markers\", \"name\": \"norm_macro_recall\", \"stepped\": false, \"type\": \"scatter\", \"data\": [0.4312085005458183, 0.4201587736507899, 0.05213677348026478, 0.012787062929268034, 0.48423551379012053, 0.46591301835794835, 0.3816794515124677, 0.008534835257020302, 0.2660810756934632, 0.2933826417515851, 0.3653831893914513, 0.11460723754913235, 0.2883453772485921, 0.27226434621360307, 0.0, 0.36684217658002505, 0.26131291705783904, 0.4289944605850722, 0.23776027383132306, 0.4791938400190542, 0.4303124829267354]}, {\"categories\": [\"0\", \"1\", \"2\", \"3\", \"4\", \"5\", \"6\", \"7\", \"8\", \"9\", \"10\", \"11\", \"12\", \"13\", \"14\", \"15\", \"16\", \"17\", \"18\", \"19\", \"20\"], \"mode\": \"lines\", \"name\": \"norm_macro_recall_max\", \"stepped\": true, \"type\": \"scatter\", \"data\": [0.4312085005458183, 0.4312085005458183, 0.4312085005458183, 0.4312085005458183, 0.48423551379012053, 0.48423551379012053, 0.48423551379012053, 0.48423551379012053, 0.48423551379012053, 0.48423551379012053, 0.48423551379012053, 0.48423551379012053, 0.48423551379012053, 0.48423551379012053, 0.48423551379012053, 0.48423551379012053, 0.48423551379012053, 0.48423551379012053, 0.48423551379012053, 0.48423551379012053, 0.48423551379012053]}], \"weighted_accuracy\": [{\"categories\": [\"0\", \"1\", \"2\", \"3\", \"4\", \"5\", \"6\", \"7\", \"8\", \"9\", \"10\", \"11\", \"12\", \"13\", \"14\", \"15\", \"16\", \"17\", \"18\", \"19\", \"20\"], \"mode\": \"markers\", \"name\": \"weighted_accuracy\", \"stepped\": false, \"type\": \"scatter\", \"data\": [0.8385526936320986, 0.8463649445455982, 0.8925921160802345, 0.8981057349698005, 0.7391523982922015, 0.7090679797121616, 0.8427415897682475, 0.8994241534535424, 0.8619928364661922, 0.8615548639376334, 0.8448323015600678, 0.8860863871823625, 0.8629961859568251, 0.8623816603833692, 0.9005442636628962, 0.8475791214719136, 0.8632746541381605, 0.8438232427635812, 0.8689449965051222, 0.8354449025329254, 0.8408392160990203]}, {\"categories\": [\"0\", \"1\", \"2\", \"3\", \"4\", \"5\", \"6\", \"7\", \"8\", \"9\", \"10\", \"11\", \"12\", \"13\", \"14\", \"15\", \"16\", \"17\", \"18\", \"19\", \"20\"], \"mode\": \"lines\", \"name\": \"weighted_accuracy_max\", \"stepped\": true, \"type\": \"scatter\", \"data\": [0.8385526936320986, 0.8463649445455982, 0.8925921160802345, 0.8981057349698005, 0.8981057349698005, 0.8981057349698005, 0.8981057349698005, 0.8994241534535424, 0.8994241534535424, 0.8994241534535424, 0.8994241534535424, 0.8994241534535424, 0.8994241534535424, 0.8994241534535424, 0.9005442636628962, 0.9005442636628962, 0.9005442636628962, 0.9005442636628962, 0.9005442636628962, 0.9005442636628962, 0.9005442636628962]}], \"AUC_weighted\": [{\"categories\": [\"0\", \"1\", \"2\", \"3\", \"4\", \"5\", \"6\", \"7\", \"8\", \"9\", \"10\", \"11\", \"12\", \"13\", \"14\", \"15\", \"16\", \"17\", \"18\", \"19\", \"20\"], \"mode\": \"markers\", \"name\": \"AUC_weighted\", \"stepped\": false, \"type\": \"scatter\", \"data\": [0.7997494560662937, 0.8002883112907971, 0.7889013564396775, 0.7753187627053568, 0.7881561915121476, 0.7724488458149357, 0.794037135933074, 0.7908700087679215, 0.7829698909155812, 0.7963110961424591, 0.7935147748072517, 0.7920966326936318, 0.7965132526437306, 0.7947366337042246, 0.7876540527260454, 0.794625040180619, 0.7877477216154094, 0.8007613935935012, 0.7869132556358982, 0.7998846307178802, 0.8021133583468807]}, {\"categories\": [\"0\", \"1\", \"2\", \"3\", \"4\", \"5\", \"6\", \"7\", \"8\", \"9\", \"10\", \"11\", \"12\", \"13\", \"14\", \"15\", \"16\", \"17\", \"18\", \"19\", \"20\"], \"mode\": \"lines\", \"name\": \"AUC_weighted_max\", \"stepped\": true, \"type\": \"scatter\", \"data\": [0.7997494560662937, 0.8002883112907971, 0.8002883112907971, 0.8002883112907971, 0.8002883112907971, 0.8002883112907971, 0.8002883112907971, 0.8002883112907971, 0.8002883112907971, 0.8002883112907971, 0.8002883112907971, 0.8002883112907971, 0.8002883112907971, 0.8002883112907971, 0.8002883112907971, 0.8002883112907971, 0.8002883112907971, 0.8007613935935012, 0.8007613935935012, 0.8007613935935012, 0.8021133583468807]}], \"precision_score_micro\": [{\"categories\": [\"0\", \"1\", \"2\", \"3\", \"4\", \"5\", \"6\", \"7\", \"8\", \"9\", \"10\", \"11\", \"12\", \"13\", \"14\", \"15\", \"16\", \"17\", \"18\", \"19\", \"20\"], \"mode\": \"markers\", \"name\": \"precision_score_micro\", \"stepped\": false, \"type\": \"scatter\", \"data\": [0.7925146549220212, 0.7953336940866429, 0.7553495710468766, 0.7514350434239087, 0.7402656414079406, 0.7179781030370307, 0.7858337161568982, 0.7515394275575202, 0.7762813281825173, 0.7811357217164228, 0.7841111872217037, 0.7630227993911879, 0.7810837203802187, 0.7777431692559709, 0.750652162421821, 0.7860946219964698, 0.7761770939086641, 0.7953856817992326, 0.7753419935925416, 0.799562000796709, 0.7937676732337938]}, {\"categories\": [\"0\", \"1\", \"2\", \"3\", \"4\", \"5\", \"6\", \"7\", \"8\", \"9\", \"10\", \"11\", \"12\", \"13\", \"14\", \"15\", \"16\", \"17\", \"18\", \"19\", \"20\"], \"mode\": \"lines\", \"name\": \"precision_score_micro_max\", \"stepped\": true, \"type\": \"scatter\", \"data\": [0.7925146549220212, 0.7953336940866429, 0.7953336940866429, 0.7953336940866429, 0.7953336940866429, 0.7953336940866429, 0.7953336940866429, 0.7953336940866429, 0.7953336940866429, 0.7953336940866429, 0.7953336940866429, 0.7953336940866429, 0.7953336940866429, 0.7953336940866429, 0.7953336940866429, 0.7953336940866429, 0.7953336940866429, 0.7953856817992326, 0.7953856817992326, 0.799562000796709, 0.799562000796709]}], \"balanced_accuracy\": [{\"categories\": [\"0\", \"1\", \"2\", \"3\", \"4\", \"5\", \"6\", \"7\", \"8\", \"9\", \"10\", \"11\", \"12\", \"13\", \"14\", \"15\", \"16\", \"17\", \"18\", \"19\", \"20\"], \"mode\": \"markers\", \"name\": \"balanced_accuracy\", \"stepped\": false, \"type\": \"scatter\", \"data\": [0.7156042502729092, 0.710079386825395, 0.5260683867401325, 0.506393531464634, 0.7421177568950602, 0.7329565091789741, 0.6908397257562339, 0.5042674176285102, 0.6330405378467316, 0.6466913208757926, 0.6826915946957257, 0.5573036187745662, 0.6441726886242961, 0.6361321731068015, 0.5, 0.6834210882900125, 0.6306564585289195, 0.7144972302925361, 0.6188801369156616, 0.7395969200095271, 0.7151562414633676]}, {\"categories\": [\"0\", \"1\", \"2\", \"3\", \"4\", \"5\", \"6\", \"7\", \"8\", \"9\", \"10\", \"11\", \"12\", \"13\", \"14\", \"15\", \"16\", \"17\", \"18\", \"19\", \"20\"], \"mode\": \"lines\", \"name\": \"balanced_accuracy_max\", \"stepped\": true, \"type\": \"scatter\", \"data\": [0.7156042502729092, 0.7156042502729092, 0.7156042502729092, 0.7156042502729092, 0.7421177568950602, 0.7421177568950602, 0.7421177568950602, 0.7421177568950602, 0.7421177568950602, 0.7421177568950602, 0.7421177568950602, 0.7421177568950602, 0.7421177568950602, 0.7421177568950602, 0.7421177568950602, 0.7421177568950602, 0.7421177568950602, 0.7421177568950602, 0.7421177568950602, 0.7421177568950602, 0.7421177568950602]}], \"f1_score_macro\": [{\"categories\": [\"0\", \"1\", \"2\", \"3\", \"4\", \"5\", \"6\", \"7\", \"8\", \"9\", \"10\", \"11\", \"12\", \"13\", \"14\", \"15\", \"16\", \"17\", \"18\", \"19\", \"20\"], \"mode\": \"markers\", \"name\": \"f1_score_macro\", \"stepped\": false, \"type\": \"scatter\", \"data\": [0.7186048653549356, 0.7169500512764393, 0.48845285705346975, 0.4436198350018958, 0.6994540909314307, 0.6817157946749608, 0.6993223327263556, 0.43958861764055, 0.6481957385600488, 0.6627636998007873, 0.6929518504500198, 0.5471807105487088, 0.6603529314385556, 0.6515994314904026, 0.42877895948114375, 0.6943711747855794, 0.6456335603719603, 0.7195776371652494, 0.6331602667558375, 0.7360585932704272, 0.7190954460743276]}, {\"categories\": [\"0\", \"1\", \"2\", \"3\", \"4\", \"5\", \"6\", \"7\", \"8\", \"9\", \"10\", \"11\", \"12\", \"13\", \"14\", \"15\", \"16\", \"17\", \"18\", \"19\", \"20\"], \"mode\": \"lines\", \"name\": \"f1_score_macro_max\", \"stepped\": true, \"type\": \"scatter\", \"data\": [0.7186048653549356, 0.7186048653549356, 0.7186048653549356, 0.7186048653549356, 0.7186048653549356, 0.7186048653549356, 0.7186048653549356, 0.7186048653549356, 0.7186048653549356, 0.7186048653549356, 0.7186048653549356, 0.7186048653549356, 0.7186048653549356, 0.7186048653549356, 0.7186048653549356, 0.7186048653549356, 0.7186048653549356, 0.7195776371652494, 0.7195776371652494, 0.7360585932704272, 0.7360585932704272]}], \"accuracy\": [{\"categories\": [\"0\", \"1\", \"2\", \"3\", \"4\", \"5\", \"6\", \"7\", \"8\", \"9\", \"10\", \"11\", \"12\", \"13\", \"14\", \"15\", \"16\", \"17\", \"18\", \"19\", \"20\"], \"mode\": \"markers\", \"name\": \"accuracy\", \"stepped\": false, \"type\": \"scatter\", \"data\": [0.7925146549220212, 0.7953336940866429, 0.7553495710468766, 0.7514350434239087, 0.7402656414079406, 0.7179781030370307, 0.7858337161568982, 0.7515394275575202, 0.7762813281825173, 0.7811357217164228, 0.7841111872217037, 0.7630227993911879, 0.7810837203802187, 0.7777431692559709, 0.750652162421821, 0.7860946219964698, 0.7761770939086641, 0.7953856817992326, 0.7753419935925416, 0.799562000796709, 0.7937676732337938]}, {\"categories\": [\"0\", \"1\", \"2\", \"3\", \"4\", \"5\", \"6\", \"7\", \"8\", \"9\", \"10\", \"11\", \"12\", \"13\", \"14\", \"15\", \"16\", \"17\", \"18\", \"19\", \"20\"], \"mode\": \"lines\", \"name\": \"accuracy_max\", \"stepped\": true, \"type\": \"scatter\", \"data\": [0.7925146549220212, 0.7953336940866429, 0.7953336940866429, 0.7953336940866429, 0.7953336940866429, 0.7953336940866429, 0.7953336940866429, 0.7953336940866429, 0.7953336940866429, 0.7953336940866429, 0.7953336940866429, 0.7953336940866429, 0.7953336940866429, 0.7953336940866429, 0.7953336940866429, 0.7953336940866429, 0.7953336940866429, 0.7953856817992326, 0.7953856817992326, 0.799562000796709, 0.799562000796709]}], \"average_precision_score_macro\": [{\"categories\": [\"0\", \"1\", \"2\", \"3\", \"4\", \"5\", \"6\", \"7\", \"8\", \"9\", \"10\", \"11\", \"12\", \"13\", \"14\", \"15\", \"16\", \"17\", \"18\", \"19\", \"20\"], \"mode\": \"markers\", \"name\": \"average_precision_score_macro\", \"stepped\": false, \"type\": \"scatter\", \"data\": [0.725034303485027, 0.7227916873646296, 0.7134617433748, 0.7044731612802753, 0.71298731458627, 0.6992363634426769, 0.7171821500627976, 0.7173838963704495, 0.7110672650860488, 0.7203366008298004, 0.7179576239415423, 0.7192464318627543, 0.7219443326831844, 0.7206089348103732, 0.7109075196301458, 0.7187466465701497, 0.711362369632629, 0.7260241027827418, 0.7108681781985837, 0.7235294150681781, 0.7265112159590172]}, {\"categories\": [\"0\", \"1\", \"2\", \"3\", \"4\", \"5\", \"6\", \"7\", \"8\", \"9\", \"10\", \"11\", \"12\", \"13\", \"14\", \"15\", \"16\", \"17\", \"18\", \"19\", \"20\"], \"mode\": \"lines\", \"name\": \"average_precision_score_macro_max\", \"stepped\": true, \"type\": \"scatter\", \"data\": [0.725034303485027, 0.725034303485027, 0.725034303485027, 0.725034303485027, 0.725034303485027, 0.725034303485027, 0.725034303485027, 0.725034303485027, 0.725034303485027, 0.725034303485027, 0.725034303485027, 0.725034303485027, 0.725034303485027, 0.725034303485027, 0.725034303485027, 0.725034303485027, 0.725034303485027, 0.7260241027827418, 0.7260241027827418, 0.7260241027827418, 0.7265112159590172]}], \"recall_score_macro\": [{\"categories\": [\"0\", \"1\", \"2\", \"3\", \"4\", \"5\", \"6\", \"7\", \"8\", \"9\", \"10\", \"11\", \"12\", \"13\", \"14\", \"15\", \"16\", \"17\", \"18\", \"19\", \"20\"], \"mode\": \"markers\", \"name\": \"recall_score_macro\", \"stepped\": false, \"type\": \"scatter\", \"data\": [0.7156042502729092, 0.710079386825395, 0.5260683867401325, 0.506393531464634, 0.7421177568950602, 0.7329565091789741, 0.6908397257562339, 0.5042674176285102, 0.6330405378467316, 0.6466913208757926, 0.6826915946957257, 0.5573036187745662, 0.6441726886242961, 0.6361321731068015, 0.5, 0.6834210882900125, 0.6306564585289195, 0.7144972302925361, 0.6188801369156616, 0.7395969200095271, 0.7151562414633676]}, {\"categories\": [\"0\", \"1\", \"2\", \"3\", \"4\", \"5\", \"6\", \"7\", \"8\", \"9\", \"10\", \"11\", \"12\", \"13\", \"14\", \"15\", \"16\", \"17\", \"18\", \"19\", \"20\"], \"mode\": \"lines\", \"name\": \"recall_score_macro_max\", \"stepped\": true, \"type\": \"scatter\", \"data\": [0.7156042502729092, 0.7156042502729092, 0.7156042502729092, 0.7156042502729092, 0.7421177568950602, 0.7421177568950602, 0.7421177568950602, 0.7421177568950602, 0.7421177568950602, 0.7421177568950602, 0.7421177568950602, 0.7421177568950602, 0.7421177568950602, 0.7421177568950602, 0.7421177568950602, 0.7421177568950602, 0.7421177568950602, 0.7421177568950602, 0.7421177568950602, 0.7421177568950602, 0.7421177568950602]}], \"log_loss\": [{\"categories\": [\"0\", \"1\", \"2\", \"3\", \"4\", \"5\", \"6\", \"7\", \"8\", \"9\", \"10\", \"11\", \"12\", \"13\", \"14\", \"15\", \"16\", \"17\", \"18\", \"19\", \"20\"], \"mode\": \"markers\", \"name\": \"log_loss\", \"stepped\": false, \"type\": \"scatter\", \"data\": [0.43923897196368367, 0.43869627055950006, 0.4741094371846228, 0.497917795036129, 0.5981667543865294, 0.6030409719989367, 0.44928218192406727, 0.4758280077236304, 0.4597311779026243, 0.45462866221140497, 0.4509173031528381, 0.4642277311685573, 0.4474752120470152, 0.4513355297488847, 0.4796742660510665, 0.4501546706974101, 0.457898820713481, 0.4368426360759079, 0.4595449641927491, 0.4812592255868253, 0.4366621581093358]}, {\"categories\": [\"0\", \"1\", \"2\", \"3\", \"4\", \"5\", \"6\", \"7\", \"8\", \"9\", \"10\", \"11\", \"12\", \"13\", \"14\", \"15\", \"16\", \"17\", \"18\", \"19\", \"20\"], \"mode\": \"lines\", \"name\": \"log_loss_min\", \"stepped\": true, \"type\": \"scatter\", \"data\": [0.43923897196368367, 0.43869627055950006, 0.43869627055950006, 0.43869627055950006, 0.43869627055950006, 0.43869627055950006, 0.43869627055950006, 0.43869627055950006, 0.43869627055950006, 0.43869627055950006, 0.43869627055950006, 0.43869627055950006, 0.43869627055950006, 0.43869627055950006, 0.43869627055950006, 0.43869627055950006, 0.43869627055950006, 0.4368426360759079, 0.4368426360759079, 0.4368426360759079, 0.4366621581093358]}], \"recall_score_weighted\": [{\"categories\": [\"0\", \"1\", \"2\", \"3\", \"4\", \"5\", \"6\", \"7\", \"8\", \"9\", \"10\", \"11\", \"12\", \"13\", \"14\", \"15\", \"16\", \"17\", \"18\", \"19\", \"20\"], \"mode\": \"markers\", \"name\": \"recall_score_weighted\", \"stepped\": false, \"type\": \"scatter\", \"data\": [0.7925146549220212, 0.7953336940866429, 0.7553495710468766, 0.7514350434239087, 0.7402656414079406, 0.7179781030370307, 0.7858337161568982, 0.7515394275575202, 0.7762813281825173, 0.7811357217164228, 0.7841111872217037, 0.7630227993911879, 0.7810837203802187, 0.7777431692559709, 0.750652162421821, 0.7860946219964698, 0.7761770939086641, 0.7953856817992326, 0.7753419935925416, 0.799562000796709, 0.7937676732337938]}, {\"categories\": [\"0\", \"1\", \"2\", \"3\", \"4\", \"5\", \"6\", \"7\", \"8\", \"9\", \"10\", \"11\", \"12\", \"13\", \"14\", \"15\", \"16\", \"17\", \"18\", \"19\", \"20\"], \"mode\": \"lines\", \"name\": \"recall_score_weighted_max\", \"stepped\": true, \"type\": \"scatter\", \"data\": [0.7925146549220212, 0.7953336940866429, 0.7953336940866429, 0.7953336940866429, 0.7953336940866429, 0.7953336940866429, 0.7953336940866429, 0.7953336940866429, 0.7953336940866429, 0.7953336940866429, 0.7953336940866429, 0.7953336940866429, 0.7953336940866429, 0.7953336940866429, 0.7953336940866429, 0.7953336940866429, 0.7953336940866429, 0.7953856817992326, 0.7953856817992326, 0.799562000796709, 0.799562000796709]}], \"f1_score_weighted\": [{\"categories\": [\"0\", \"1\", \"2\", \"3\", \"4\", \"5\", \"6\", \"7\", \"8\", \"9\", \"10\", \"11\", \"12\", \"13\", \"14\", \"15\", \"16\", \"17\", \"18\", \"19\", \"20\"], \"mode\": \"markers\", \"name\": \"f1_score_weighted\", \"stepped\": false, \"type\": \"scatter\", \"data\": [0.7908966952833612, 0.791621111397486, 0.6734171191937037, 0.6507989168210361, 0.7549523610103663, 0.7355772893943905, 0.7801237524801834, 0.6491690065266209, 0.7545728735820673, 0.7629044129498627, 0.7767929336775279, 0.7038050036881116, 0.761845682854697, 0.7567138908530817, 0.6437464058813542, 0.7782660588668662, 0.753390386277637, 0.7926492866206146, 0.7476273677243184, 0.8009819486616314, 0.7916857844250191]}, {\"categories\": [\"0\", \"1\", \"2\", \"3\", \"4\", \"5\", \"6\", \"7\", \"8\", \"9\", \"10\", \"11\", \"12\", \"13\", \"14\", \"15\", \"16\", \"17\", \"18\", \"19\", \"20\"], \"mode\": \"lines\", \"name\": \"f1_score_weighted_max\", \"stepped\": true, \"type\": \"scatter\", \"data\": [0.7908966952833612, 0.791621111397486, 0.791621111397486, 0.791621111397486, 0.791621111397486, 0.791621111397486, 0.791621111397486, 0.791621111397486, 0.791621111397486, 0.791621111397486, 0.791621111397486, 0.791621111397486, 0.791621111397486, 0.791621111397486, 0.791621111397486, 0.791621111397486, 0.791621111397486, 0.7926492866206146, 0.7926492866206146, 0.8009819486616314, 0.8009819486616314]}], \"matthews_correlation\": [{\"categories\": [\"0\", \"1\", \"2\", \"3\", \"4\", \"5\", \"6\", \"7\", \"8\", \"9\", \"10\", \"11\", \"12\", \"13\", \"14\", \"15\", \"16\", \"17\", \"18\", \"19\", \"20\"], \"mode\": \"markers\", \"name\": \"matthews_correlation\", \"stepped\": false, \"type\": \"scatter\", \"data\": [0.4378576909047099, 0.43569624737566864, 0.12608530442945698, 0.03398723744378509, 0.4313138774452317, 0.40955586657312326, 0.4020437890080693, 0.05343107938374704, 0.3246730668891621, 0.3477221960717792, 0.39081791088908113, 0.2071380453245287, 0.34510759197292096, 0.3306083669505909, 0.0, 0.39440778755301487, 0.32189103926833806, 0.44046550248317784, 0.307639575843254, 0.4725325721072656, 0.43907163858397935]}, {\"categories\": [\"0\", \"1\", \"2\", \"3\", \"4\", \"5\", \"6\", \"7\", \"8\", \"9\", \"10\", \"11\", \"12\", \"13\", \"14\", \"15\", \"16\", \"17\", \"18\", \"19\", \"20\"], \"mode\": \"lines\", \"name\": \"matthews_correlation_max\", \"stepped\": true, \"type\": \"scatter\", \"data\": [0.4378576909047099, 0.4378576909047099, 0.4378576909047099, 0.4378576909047099, 0.4378576909047099, 0.4378576909047099, 0.4378576909047099, 0.4378576909047099, 0.4378576909047099, 0.4378576909047099, 0.4378576909047099, 0.4378576909047099, 0.4378576909047099, 0.4378576909047099, 0.4378576909047099, 0.4378576909047099, 0.4378576909047099, 0.44046550248317784, 0.44046550248317784, 0.4725325721072656, 0.4725325721072656]}], \"average_precision_score_weighted\": [{\"categories\": [\"0\", \"1\", \"2\", \"3\", \"4\", \"5\", \"6\", \"7\", \"8\", \"9\", \"10\", \"11\", \"12\", \"13\", \"14\", \"15\", \"16\", \"17\", \"18\", \"19\", \"20\"], \"mode\": \"markers\", \"name\": \"average_precision_score_weighted\", \"stepped\": false, \"type\": \"scatter\", \"data\": [0.8154527875342721, 0.8135660953156961, 0.8069975584435054, 0.7998681690283472, 0.8064803145297124, 0.7974064335440676, 0.8105578333954273, 0.8095208440925902, 0.8037472144424285, 0.810684871861216, 0.810814650129044, 0.8107226745356051, 0.8126887567679839, 0.8128612468250995, 0.8049644357683607, 0.8118659580183316, 0.8060579364740079, 0.8159069568423494, 0.8059111491573014, 0.8145947461036862, 0.8167244785261317]}, {\"categories\": [\"0\", \"1\", \"2\", \"3\", \"4\", \"5\", \"6\", \"7\", \"8\", \"9\", \"10\", \"11\", \"12\", \"13\", \"14\", \"15\", \"16\", \"17\", \"18\", \"19\", \"20\"], \"mode\": \"lines\", \"name\": \"average_precision_score_weighted_max\", \"stepped\": true, \"type\": \"scatter\", \"data\": [0.8154527875342721, 0.8154527875342721, 0.8154527875342721, 0.8154527875342721, 0.8154527875342721, 0.8154527875342721, 0.8154527875342721, 0.8154527875342721, 0.8154527875342721, 0.8154527875342721, 0.8154527875342721, 0.8154527875342721, 0.8154527875342721, 0.8154527875342721, 0.8154527875342721, 0.8154527875342721, 0.8154527875342721, 0.8159069568423494, 0.8159069568423494, 0.8159069568423494, 0.8167244785261317]}], \"precision_score_macro\": [{\"categories\": [\"0\", \"1\", \"2\", \"3\", \"4\", \"5\", \"6\", \"7\", \"8\", \"9\", \"10\", \"11\", \"12\", \"13\", \"14\", \"15\", \"16\", \"17\", \"18\", \"19\", \"20\"], \"mode\": \"markers\", \"name\": \"precision_score_macro\", \"stepped\": false, \"type\": \"scatter\", \"data\": [0.7223713480959935, 0.7259588740126773, 0.6610257255802994, 0.5314660808519271, 0.6921060044068075, 0.6800252393909917, 0.7118447628250695, 0.675270816272038, 0.698223469598091, 0.7060731986271688, 0.7090738032820274, 0.6890520131219459, 0.7065816928172468, 0.7009488630328163, 0.3753260812109105, 0.7120980951804909, 0.6984911542386628, 0.7262171610362753, 0.6991362519597207, 0.7330060717767142, 0.7240790206975948]}, {\"categories\": [\"0\", \"1\", \"2\", \"3\", \"4\", \"5\", \"6\", \"7\", \"8\", \"9\", \"10\", \"11\", \"12\", \"13\", \"14\", \"15\", \"16\", \"17\", \"18\", \"19\", \"20\"], \"mode\": \"lines\", \"name\": \"precision_score_macro_max\", \"stepped\": true, \"type\": \"scatter\", \"data\": [0.7223713480959935, 0.7259588740126773, 0.7259588740126773, 0.7259588740126773, 0.7259588740126773, 0.7259588740126773, 0.7259588740126773, 0.7259588740126773, 0.7259588740126773, 0.7259588740126773, 0.7259588740126773, 0.7259588740126773, 0.7259588740126773, 0.7259588740126773, 0.7259588740126773, 0.7259588740126773, 0.7259588740126773, 0.7262171610362753, 0.7262171610362753, 0.7330060717767142, 0.7330060717767142]}], \"average_precision_score_micro\": [{\"categories\": [\"0\", \"1\", \"2\", \"3\", \"4\", \"5\", \"6\", \"7\", \"8\", \"9\", \"10\", \"11\", \"12\", \"13\", \"14\", \"15\", \"16\", \"17\", \"18\", \"19\", \"20\"], \"mode\": \"markers\", \"name\": \"average_precision_score_micro\", \"stepped\": false, \"type\": \"scatter\", \"data\": [0.8636781870796556, 0.862301863463552, 0.8489983046651968, 0.8434674218725864, 0.754634100421909, 0.7519254671014483, 0.859481301120935, 0.8496795090850584, 0.850003036035527, 0.8540491789082323, 0.8589431883137214, 0.8515141228675036, 0.8583629587887696, 0.8581518331581718, 0.8470394982084418, 0.8599567200149728, 0.853233744159495, 0.8640210910070838, 0.8527525579906792, 0.8632401638076633, 0.865202803910778]}, {\"categories\": [\"0\", \"1\", \"2\", \"3\", \"4\", \"5\", \"6\", \"7\", \"8\", \"9\", \"10\", \"11\", \"12\", \"13\", \"14\", \"15\", \"16\", \"17\", \"18\", \"19\", \"20\"], \"mode\": \"lines\", \"name\": \"average_precision_score_micro_max\", \"stepped\": true, \"type\": \"scatter\", \"data\": [0.8636781870796556, 0.8636781870796556, 0.8636781870796556, 0.8636781870796556, 0.8636781870796556, 0.8636781870796556, 0.8636781870796556, 0.8636781870796556, 0.8636781870796556, 0.8636781870796556, 0.8636781870796556, 0.8636781870796556, 0.8636781870796556, 0.8636781870796556, 0.8636781870796556, 0.8636781870796556, 0.8636781870796556, 0.8640210910070838, 0.8640210910070838, 0.8640210910070838, 0.865202803910778]}]}, \"metricName\": null, \"primaryMetricName\": \"accuracy\", \"showLegend\": false}, \"run_metrics\": [{\"name\": \"experiment_status\", \"run_id\": \"AutoML_6012acc0-aa0f-46c7-9f5f-2d289b51c91f\", \"categories\": [0, 1, 2, 3, 4, 5, 6, 7, 8, 9, 10, 11, 12, 13], \"series\": [{\"data\": [\"DatasetEvaluation\", \"FeaturesGeneration\", \"DatasetFeaturization\", \"DatasetFeaturizationCompleted\", \"DatasetCrossValidationSplit\", \"ModelSelection\", \"BestRunExplainModel\", \"ModelExplanationDataSetSetup\", \"PickSurrogateModel\", \"EngineeredFeatureExplanations\", \"EngineeredFeatureExplanations\", \"RawFeaturesExplanations\", \"RawFeaturesExplanations\", \"BestRunExplainModel\"]}]}, {\"name\": \"experiment_status_description\", \"run_id\": \"AutoML_6012acc0-aa0f-46c7-9f5f-2d289b51c91f\", \"categories\": [0, 1, 2, 3, 4, 5, 6, 7, 8, 9, 10, 11, 12, 13], \"series\": [{\"data\": [\"Gathering dataset statistics.\", \"Generating features for the dataset.\", \"Beginning to fit featurizers and featurize the dataset.\", \"Completed fit featurizers and featurizing the dataset.\", \"Generating individually featurized CV splits.\", \"Beginning model selection.\", \"Best run model explanations started\", \"Model explanations data setup completed\", \"Choosing LightGBM as the surrogate model for explanations\", \"Computation of engineered features started\", \"Computation of engineered features completed\", \"Computation of raw features started\", \"Computation of raw features completed\", \"Best run model explanations completed\"]}]}, {\"name\": \"AUC_weighted\", \"run_id\": \"AutoML_6012acc0-aa0f-46c7-9f5f-2d289b51c91f\", \"categories\": [0], \"series\": [{\"data\": [0.7998846307178802]}]}, {\"name\": \"balanced_accuracy\", \"run_id\": \"AutoML_6012acc0-aa0f-46c7-9f5f-2d289b51c91f\", \"categories\": [0], \"series\": [{\"data\": [0.7395969200095271]}]}, {\"name\": \"accuracy\", \"run_id\": \"AutoML_6012acc0-aa0f-46c7-9f5f-2d289b51c91f\", \"categories\": [0], \"series\": [{\"data\": [0.799562000796709]}]}, {\"name\": \"f1_score_weighted\", \"run_id\": \"AutoML_6012acc0-aa0f-46c7-9f5f-2d289b51c91f\", \"categories\": [0], \"series\": [{\"data\": [0.8009819486616314]}]}, {\"name\": \"norm_macro_recall\", \"run_id\": \"AutoML_6012acc0-aa0f-46c7-9f5f-2d289b51c91f\", \"categories\": [0], \"series\": [{\"data\": [0.4791938400190542]}]}, {\"name\": \"precision_score_macro\", \"run_id\": \"AutoML_6012acc0-aa0f-46c7-9f5f-2d289b51c91f\", \"categories\": [0], \"series\": [{\"data\": [0.7330060717767142]}]}, {\"name\": \"precision_score_weighted\", \"run_id\": \"AutoML_6012acc0-aa0f-46c7-9f5f-2d289b51c91f\", \"categories\": [0], \"series\": [{\"data\": [0.8027101928604907]}]}, {\"name\": \"average_precision_score_weighted\", \"run_id\": \"AutoML_6012acc0-aa0f-46c7-9f5f-2d289b51c91f\", \"categories\": [0], \"series\": [{\"data\": [0.8145947461036862]}]}, {\"name\": \"f1_score_micro\", \"run_id\": \"AutoML_6012acc0-aa0f-46c7-9f5f-2d289b51c91f\", \"categories\": [0], \"series\": [{\"data\": [0.799562000796709]}]}, {\"name\": \"f1_score_macro\", \"run_id\": \"AutoML_6012acc0-aa0f-46c7-9f5f-2d289b51c91f\", \"categories\": [0], \"series\": [{\"data\": [0.7360585932704272]}]}, {\"name\": \"matthews_correlation\", \"run_id\": \"AutoML_6012acc0-aa0f-46c7-9f5f-2d289b51c91f\", \"categories\": [0], \"series\": [{\"data\": [0.4725325721072656]}]}, {\"name\": \"recall_score_micro\", \"run_id\": \"AutoML_6012acc0-aa0f-46c7-9f5f-2d289b51c91f\", \"categories\": [0], \"series\": [{\"data\": [0.799562000796709]}]}, {\"name\": \"recall_score_macro\", \"run_id\": \"AutoML_6012acc0-aa0f-46c7-9f5f-2d289b51c91f\", \"categories\": [0], \"series\": [{\"data\": [0.7395969200095271]}]}, {\"name\": \"recall_score_weighted\", \"run_id\": \"AutoML_6012acc0-aa0f-46c7-9f5f-2d289b51c91f\", \"categories\": [0], \"series\": [{\"data\": [0.799562000796709]}]}, {\"name\": \"AUC_macro\", \"run_id\": \"AutoML_6012acc0-aa0f-46c7-9f5f-2d289b51c91f\", \"categories\": [0], \"series\": [{\"data\": [0.7998846307178802]}]}, {\"name\": \"log_loss\", \"run_id\": \"AutoML_6012acc0-aa0f-46c7-9f5f-2d289b51c91f\", \"categories\": [0], \"series\": [{\"data\": [0.4812592255868253]}]}, {\"name\": \"weighted_accuracy\", \"run_id\": \"AutoML_6012acc0-aa0f-46c7-9f5f-2d289b51c91f\", \"categories\": [0], \"series\": [{\"data\": [0.8354449025329254]}]}, {\"name\": \"precision_score_micro\", \"run_id\": \"AutoML_6012acc0-aa0f-46c7-9f5f-2d289b51c91f\", \"categories\": [0], \"series\": [{\"data\": [0.799562000796709]}]}, {\"name\": \"average_precision_score_macro\", \"run_id\": \"AutoML_6012acc0-aa0f-46c7-9f5f-2d289b51c91f\", \"categories\": [0], \"series\": [{\"data\": [0.7235294150681781]}]}, {\"name\": \"average_precision_score_micro\", \"run_id\": \"AutoML_6012acc0-aa0f-46c7-9f5f-2d289b51c91f\", \"categories\": [0], \"series\": [{\"data\": [0.8632401638076633]}]}, {\"name\": \"AUC_micro\", \"run_id\": \"AutoML_6012acc0-aa0f-46c7-9f5f-2d289b51c91f\", \"categories\": [0], \"series\": [{\"data\": [0.8753234819814487]}]}], \"run_logs\": \"\\nRun is completed.\", \"graph\": {}, \"widget_settings\": {\"childWidgetDisplay\": \"popup\", \"send_telemetry\": false, \"log_level\": \"INFO\", \"sdk_version\": \"1.20.0\"}, \"loading\": false}"
     },
     "metadata": {},
     "output_type": "display_data"
    }
   ],
   "source": [
    "RunDetails(remote_run).show()"
   ]
  },
  {
   "cell_type": "markdown",
   "metadata": {},
   "source": [
    "## Best Model\n",
    "\n",
    "TODO: In the cell below, get the best model from the automl experiments and display all the properties of the model.\n",
    "\n"
   ]
  },
  {
   "cell_type": "code",
   "execution_count": 23,
   "metadata": {
    "gather": {
     "logged": 1598431425670
    },
    "jupyter": {
     "outputs_hidden": false,
     "source_hidden": false
    },
    "nteract": {
     "transient": {
      "deleting": false
     }
    }
   },
   "outputs": [
    {
     "name": "stderr",
     "output_type": "stream",
     "text": [
      "WARNING:root:The version of the SDK does not match the version the model was trained on.\n",
      "WARNING:root:The consistency in the result may not be guaranteed.\n",
      "WARNING:root:Package:azureml-automl-core, training version:1.21.0, current version:1.20.0\n",
      "Package:azureml-automl-runtime, training version:1.21.0, current version:1.20.0\n",
      "Package:azureml-core, training version:1.21.0.post1, current version:1.20.0\n",
      "Package:azureml-dataprep, training version:2.8.2, current version:2.7.3\n",
      "Package:azureml-dataprep-native, training version:28.0.0, current version:27.0.0\n",
      "Package:azureml-dataprep-rslex, training version:1.6.0, current version:1.5.0\n",
      "Package:azureml-dataset-runtime, training version:1.21.0, current version:1.20.0\n",
      "Package:azureml-defaults, training version:1.21.0, current version:1.20.0\n",
      "Package:azureml-interpret, training version:1.21.0, current version:1.20.0\n",
      "Package:azureml-pipeline-core, training version:1.21.0, current version:1.20.0\n",
      "Package:azureml-telemetry, training version:1.21.0, current version:1.20.0\n",
      "Package:azureml-train-automl-client, training version:1.21.0, current version:1.20.0\n",
      "Package:azureml-train-automl-runtime, training version:1.21.0, current version:1.20.0\n",
      "WARNING:root:Please ensure the version of your local conda dependencies match the version on which your model was trained in order to properly retrieve your model.\n"
     ]
    }
   ],
   "source": [
    "best_auto_run, best_auto_model = remote_run.get_output()\n",
    "print(best_automl_run)"
   ]
  },
  {
   "cell_type": "code",
   "execution_count": 37,
   "metadata": {},
   "outputs": [
    {
     "name": "stdout",
     "output_type": "stream",
     "text": [
      "Run(Experiment: auto_ml_hr_analytics,\n",
      "Id: AutoML_6012acc0-aa0f-46c7-9f5f-2d289b51c91f_19,\n",
      "Type: azureml.scriptrun,\n",
      "Status: Completed)\n"
     ]
    }
   ],
   "source": [
    "print(best_auto_run)"
   ]
  },
  {
   "cell_type": "code",
   "execution_count": 25,
   "metadata": {},
   "outputs": [
    {
     "data": {
      "text/plain": [
       "PreFittedSoftVotingClassifier(classification_labels=None,\n",
       "                              estimators=[('17',\n",
       "                                           Pipeline(memory=None,\n",
       "                                                    steps=[('standardscalerwrapper',\n",
       "                                                            <azureml.automl.runtime.shared.model_wrappers.StandardScalerWrapper object at 0x7f5881beb4e0>),\n",
       "                                                           ('lightgbmclassifier',\n",
       "                                                            LightGBMClassifier(boosting_type='gbdt',\n",
       "                                                                               class_weight=None,\n",
       "                                                                               colsample_bytree=0.6933333333333332,\n",
       "                                                                               importance_typ...\n",
       "                                                                                   min_samples_split=0.2442105263157895,\n",
       "                                                                                   min_weight_fraction_leaf=0.0,\n",
       "                                                                                   n_estimators=10,\n",
       "                                                                                   n_jobs=1,\n",
       "                                                                                   oob_score=False,\n",
       "                                                                                   random_state=None,\n",
       "                                                                                   verbose=0,\n",
       "                                                                                   warm_start=False))],\n",
       "                                                    verbose=False))],\n",
       "                              flatten_transform=None,\n",
       "                              weights=[0.14285714285714285, 0.14285714285714285,\n",
       "                                       0.07142857142857142, 0.07142857142857142,\n",
       "                                       0.07142857142857142, 0.07142857142857142,\n",
       "                                       0.21428571428571427,\n",
       "                                       0.21428571428571427])"
      ]
     },
     "execution_count": 25,
     "metadata": {},
     "output_type": "execute_result"
    }
   ],
   "source": [
    "best_auto_model._final_estimator"
   ]
  },
  {
   "cell_type": "code",
   "execution_count": 27,
   "metadata": {
    "gather": {
     "logged": 1598431426111
    },
    "jupyter": {
     "outputs_hidden": false,
     "source_hidden": false
    },
    "nteract": {
     "transient": {
      "deleting": false
     }
    }
   },
   "outputs": [
    {
     "data": {
      "text/plain": [
       "['./automl_best_model.joblib']"
      ]
     },
     "execution_count": 27,
     "metadata": {},
     "output_type": "execute_result"
    }
   ],
   "source": [
    "\n",
    "joblib.dump(best_auto_model, filename=\"./automl_best_model.joblib\")"
   ]
  },
  {
   "cell_type": "markdown",
   "metadata": {},
   "source": [
    "## Model Deployment\n",
    "\n",
    "Remember you have to deploy only one of the two models you trained.. Perform the steps in the rest of this notebook only if you wish to deploy this model.\n",
    "\n",
    "TODO: In the cell below, register the model, create an inference config and deploy the model as a web service."
   ]
  },
  {
   "cell_type": "code",
   "execution_count": 29,
   "metadata": {},
   "outputs": [],
   "source": [
    "model = best_auto_run.register_model(\"best_model\", model_path=\"outputs/model.pkl\")"
   ]
  },
  {
   "cell_type": "code",
   "execution_count": 31,
   "metadata": {
    "gather": {
     "logged": 1598431435189
    },
    "jupyter": {
     "outputs_hidden": false,
     "source_hidden": false
    },
    "nteract": {
     "transient": {
      "deleting": false
     }
    }
   },
   "outputs": [],
   "source": [
    "best_auto_run.download_file('outputs/scoring_file_v_1_0_0.py', 'automl_inf/score.py')\n",
    "best_auto_run.download_file('outputs/model.pkl', 'automl_inf/model.pkl')"
   ]
  },
  {
   "cell_type": "markdown",
   "metadata": {
    "collapsed": true,
    "gather": {
     "logged": 1598431657736
    },
    "jupyter": {
     "outputs_hidden": false,
     "source_hidden": false
    },
    "nteract": {
     "transient": {
      "deleting": false
     }
    }
   },
   "source": [
    "TODO: In the cell below, send a request to the web service you deployed to test it."
   ]
  },
  {
   "cell_type": "code",
   "execution_count": 32,
   "metadata": {
    "gather": {
     "logged": 1598432707604
    },
    "jupyter": {
     "outputs_hidden": false,
     "source_hidden": false
    },
    "nteract": {
     "transient": {
      "deleting": false
     }
    }
   },
   "outputs": [],
   "source": [
    "inference_config = InferenceConfig(entry_script='automl_inf/score.py')"
   ]
  },
  {
   "cell_type": "markdown",
   "metadata": {
    "collapsed": true,
    "gather": {
     "logged": 1598432765711
    },
    "jupyter": {
     "outputs_hidden": false,
     "source_hidden": false
    },
    "nteract": {
     "transient": {
      "deleting": false
     }
    }
   },
   "source": [
    "TODO: In the cell below, print the logs of the web service and delete the service"
   ]
  },
  {
   "cell_type": "code",
   "execution_count": 35,
   "metadata": {
    "jupyter": {
     "outputs_hidden": false,
     "source_hidden": false
    },
    "nteract": {
     "transient": {
      "deleting": false
     }
    }
   },
   "outputs": [
    {
     "name": "stdout",
     "output_type": "stream",
     "text": [
      "Tips: You can try get_logs(): https://aka.ms/debugimage#dockerlog or local deployment: https://aka.ms/debugimage#debug-locally to debug if deployment takes longer than 10 minutes.\n",
      "Running.............................\n",
      "Succeeded\n",
      "ACI service creation operation finished, operation \"Succeeded\"\n",
      "Healthy\n"
     ]
    }
   ],
   "source": [
    "service = Model.deploy(ws, \"best-model-service\", [model], inference_config, overwrite=True)\n",
    "service.wait_for_deployment(show_output = True)\n",
    "print(service.state)"
   ]
  },
  {
   "cell_type": "code",
   "execution_count": 39,
   "metadata": {},
   "outputs": [
    {
     "ename": "Exception",
     "evalue": "File `'endpoint.py'` not found.",
     "output_type": "error",
     "traceback": [
      "\u001b[0;31m---------------------------------------------------------------------------\u001b[0m",
      "\u001b[0;31mOSError\u001b[0m                                   Traceback (most recent call last)",
      "\u001b[0;32m/anaconda/envs/azureml_py36/lib/python3.6/site-packages/IPython/core/magics/execution.py\u001b[0m in \u001b[0;36mrun\u001b[0;34m(self, parameter_s, runner, file_finder)\u001b[0m\n\u001b[1;32m    696\u001b[0m             \u001b[0mfpath\u001b[0m \u001b[0;34m=\u001b[0m \u001b[0marg_lst\u001b[0m\u001b[0;34m[\u001b[0m\u001b[0;36m0\u001b[0m\u001b[0;34m]\u001b[0m\u001b[0;34m\u001b[0m\u001b[0;34m\u001b[0m\u001b[0m\n\u001b[0;32m--> 697\u001b[0;31m             \u001b[0mfilename\u001b[0m \u001b[0;34m=\u001b[0m \u001b[0mfile_finder\u001b[0m\u001b[0;34m(\u001b[0m\u001b[0mfpath\u001b[0m\u001b[0;34m)\u001b[0m\u001b[0;34m\u001b[0m\u001b[0;34m\u001b[0m\u001b[0m\n\u001b[0m\u001b[1;32m    698\u001b[0m         \u001b[0;32mexcept\u001b[0m \u001b[0mIndexError\u001b[0m\u001b[0;34m:\u001b[0m\u001b[0;34m\u001b[0m\u001b[0;34m\u001b[0m\u001b[0m\n",
      "\u001b[0;32m/anaconda/envs/azureml_py36/lib/python3.6/site-packages/IPython/utils/path.py\u001b[0m in \u001b[0;36mget_py_filename\u001b[0;34m(name, force_win32)\u001b[0m\n\u001b[1;32m    108\u001b[0m     \u001b[0;32melse\u001b[0m\u001b[0;34m:\u001b[0m\u001b[0;34m\u001b[0m\u001b[0;34m\u001b[0m\u001b[0m\n\u001b[0;32m--> 109\u001b[0;31m         \u001b[0;32mraise\u001b[0m \u001b[0mIOError\u001b[0m\u001b[0;34m(\u001b[0m\u001b[0;34m'File `%r` not found.'\u001b[0m \u001b[0;34m%\u001b[0m \u001b[0mname\u001b[0m\u001b[0;34m)\u001b[0m\u001b[0;34m\u001b[0m\u001b[0;34m\u001b[0m\u001b[0m\n\u001b[0m\u001b[1;32m    110\u001b[0m \u001b[0;34m\u001b[0m\u001b[0m\n",
      "\u001b[0;31mOSError\u001b[0m: File `'endpoint.py'` not found.",
      "\nDuring handling of the above exception, another exception occurred:\n",
      "\u001b[0;31mException\u001b[0m                                 Traceback (most recent call last)",
      "\u001b[0;32m<ipython-input-39-3c41c31fdf61>\u001b[0m in \u001b[0;36m<module>\u001b[0;34m\u001b[0m\n\u001b[0;32m----> 1\u001b[0;31m \u001b[0mget_ipython\u001b[0m\u001b[0;34m(\u001b[0m\u001b[0;34m)\u001b[0m\u001b[0;34m.\u001b[0m\u001b[0mrun_line_magic\u001b[0m\u001b[0;34m(\u001b[0m\u001b[0;34m'run'\u001b[0m\u001b[0;34m,\u001b[0m \u001b[0;34m'endpoint.py'\u001b[0m\u001b[0;34m)\u001b[0m\u001b[0;34m\u001b[0m\u001b[0;34m\u001b[0m\u001b[0m\n\u001b[0m",
      "\u001b[0;32m/anaconda/envs/azureml_py36/lib/python3.6/site-packages/IPython/core/interactiveshell.py\u001b[0m in \u001b[0;36mrun_line_magic\u001b[0;34m(self, magic_name, line, _stack_depth)\u001b[0m\n\u001b[1;32m   2324\u001b[0m                 \u001b[0mkwargs\u001b[0m\u001b[0;34m[\u001b[0m\u001b[0;34m'local_ns'\u001b[0m\u001b[0;34m]\u001b[0m \u001b[0;34m=\u001b[0m \u001b[0msys\u001b[0m\u001b[0;34m.\u001b[0m\u001b[0m_getframe\u001b[0m\u001b[0;34m(\u001b[0m\u001b[0mstack_depth\u001b[0m\u001b[0;34m)\u001b[0m\u001b[0;34m.\u001b[0m\u001b[0mf_locals\u001b[0m\u001b[0;34m\u001b[0m\u001b[0;34m\u001b[0m\u001b[0m\n\u001b[1;32m   2325\u001b[0m             \u001b[0;32mwith\u001b[0m \u001b[0mself\u001b[0m\u001b[0;34m.\u001b[0m\u001b[0mbuiltin_trap\u001b[0m\u001b[0;34m:\u001b[0m\u001b[0;34m\u001b[0m\u001b[0;34m\u001b[0m\u001b[0m\n\u001b[0;32m-> 2326\u001b[0;31m                 \u001b[0mresult\u001b[0m \u001b[0;34m=\u001b[0m \u001b[0mfn\u001b[0m\u001b[0;34m(\u001b[0m\u001b[0;34m*\u001b[0m\u001b[0margs\u001b[0m\u001b[0;34m,\u001b[0m \u001b[0;34m**\u001b[0m\u001b[0mkwargs\u001b[0m\u001b[0;34m)\u001b[0m\u001b[0;34m\u001b[0m\u001b[0;34m\u001b[0m\u001b[0m\n\u001b[0m\u001b[1;32m   2327\u001b[0m             \u001b[0;32mreturn\u001b[0m \u001b[0mresult\u001b[0m\u001b[0;34m\u001b[0m\u001b[0;34m\u001b[0m\u001b[0m\n\u001b[1;32m   2328\u001b[0m \u001b[0;34m\u001b[0m\u001b[0m\n",
      "\u001b[0;32m<decorator-gen-59>\u001b[0m in \u001b[0;36mrun\u001b[0;34m(self, parameter_s, runner, file_finder)\u001b[0m\n",
      "\u001b[0;32m/anaconda/envs/azureml_py36/lib/python3.6/site-packages/IPython/core/magic.py\u001b[0m in \u001b[0;36m<lambda>\u001b[0;34m(f, *a, **k)\u001b[0m\n\u001b[1;32m    185\u001b[0m     \u001b[0;31m# but it's overkill for just that one bit of state.\u001b[0m\u001b[0;34m\u001b[0m\u001b[0;34m\u001b[0m\u001b[0;34m\u001b[0m\u001b[0m\n\u001b[1;32m    186\u001b[0m     \u001b[0;32mdef\u001b[0m \u001b[0mmagic_deco\u001b[0m\u001b[0;34m(\u001b[0m\u001b[0marg\u001b[0m\u001b[0;34m)\u001b[0m\u001b[0;34m:\u001b[0m\u001b[0;34m\u001b[0m\u001b[0;34m\u001b[0m\u001b[0m\n\u001b[0;32m--> 187\u001b[0;31m         \u001b[0mcall\u001b[0m \u001b[0;34m=\u001b[0m \u001b[0;32mlambda\u001b[0m \u001b[0mf\u001b[0m\u001b[0;34m,\u001b[0m \u001b[0;34m*\u001b[0m\u001b[0ma\u001b[0m\u001b[0;34m,\u001b[0m \u001b[0;34m**\u001b[0m\u001b[0mk\u001b[0m\u001b[0;34m:\u001b[0m \u001b[0mf\u001b[0m\u001b[0;34m(\u001b[0m\u001b[0;34m*\u001b[0m\u001b[0ma\u001b[0m\u001b[0;34m,\u001b[0m \u001b[0;34m**\u001b[0m\u001b[0mk\u001b[0m\u001b[0;34m)\u001b[0m\u001b[0;34m\u001b[0m\u001b[0;34m\u001b[0m\u001b[0m\n\u001b[0m\u001b[1;32m    188\u001b[0m \u001b[0;34m\u001b[0m\u001b[0m\n\u001b[1;32m    189\u001b[0m         \u001b[0;32mif\u001b[0m \u001b[0mcallable\u001b[0m\u001b[0;34m(\u001b[0m\u001b[0marg\u001b[0m\u001b[0;34m)\u001b[0m\u001b[0;34m:\u001b[0m\u001b[0;34m\u001b[0m\u001b[0;34m\u001b[0m\u001b[0m\n",
      "\u001b[0;32m/anaconda/envs/azureml_py36/lib/python3.6/site-packages/IPython/core/magics/execution.py\u001b[0m in \u001b[0;36mrun\u001b[0;34m(self, parameter_s, runner, file_finder)\u001b[0m\n\u001b[1;32m    706\u001b[0m             \u001b[0;32mif\u001b[0m \u001b[0mos\u001b[0m\u001b[0;34m.\u001b[0m\u001b[0mname\u001b[0m \u001b[0;34m==\u001b[0m \u001b[0;34m'nt'\u001b[0m \u001b[0;32mand\u001b[0m \u001b[0mre\u001b[0m\u001b[0;34m.\u001b[0m\u001b[0mmatch\u001b[0m\u001b[0;34m(\u001b[0m\u001b[0;34mr\"^'.*'$\"\u001b[0m\u001b[0;34m,\u001b[0m\u001b[0mfpath\u001b[0m\u001b[0;34m)\u001b[0m\u001b[0;34m:\u001b[0m\u001b[0;34m\u001b[0m\u001b[0;34m\u001b[0m\u001b[0m\n\u001b[1;32m    707\u001b[0m                 \u001b[0mwarn\u001b[0m\u001b[0;34m(\u001b[0m\u001b[0;34m'For Windows, use double quotes to wrap a filename: %run \"mypath\\\\myfile.py\"'\u001b[0m\u001b[0;34m)\u001b[0m\u001b[0;34m\u001b[0m\u001b[0;34m\u001b[0m\u001b[0m\n\u001b[0;32m--> 708\u001b[0;31m             \u001b[0;32mraise\u001b[0m \u001b[0mException\u001b[0m\u001b[0;34m(\u001b[0m\u001b[0mmsg\u001b[0m\u001b[0;34m)\u001b[0m\u001b[0;34m\u001b[0m\u001b[0;34m\u001b[0m\u001b[0m\n\u001b[0m\u001b[1;32m    709\u001b[0m         \u001b[0;32mexcept\u001b[0m \u001b[0mTypeError\u001b[0m\u001b[0;34m:\u001b[0m\u001b[0;34m\u001b[0m\u001b[0;34m\u001b[0m\u001b[0m\n\u001b[1;32m    710\u001b[0m             \u001b[0;32mif\u001b[0m \u001b[0mfpath\u001b[0m \u001b[0;32min\u001b[0m \u001b[0msys\u001b[0m\u001b[0;34m.\u001b[0m\u001b[0mmeta_path\u001b[0m\u001b[0;34m:\u001b[0m\u001b[0;34m\u001b[0m\u001b[0;34m\u001b[0m\u001b[0m\n",
      "\u001b[0;31mException\u001b[0m: File `'endpoint.py'` not found."
     ]
    }
   ],
   "source": [
    "%run endpoint.py"
   ]
  }
 ],
 "metadata": {
  "kernel_info": {
   "name": "python3-azureml"
  },
  "kernelspec": {
   "display_name": "Python 3",
   "language": "python",
   "name": "python3"
  },
  "language_info": {
   "codemirror_mode": {
    "name": "ipython",
    "version": 3
   },
   "file_extension": ".py",
   "mimetype": "text/x-python",
   "name": "python",
   "nbconvert_exporter": "python",
   "pygments_lexer": "ipython3",
   "version": "3.6.9"
  },
  "nteract": {
   "version": "nteract-front-end@1.0.0"
  }
 },
 "nbformat": 4,
 "nbformat_minor": 2
}
