{
 "cells": [
  {
   "cell_type": "markdown",
   "metadata": {},
   "source": [
    "# Automated ML\n",
    "\n",
    "TODO: Import Dependencies. In the cell below, import all the dependencies that you will need to complete the project."
   ]
  },
  {
   "cell_type": "code",
   "execution_count": 1,
   "metadata": {
    "gather": {
     "logged": 1598423888013
    },
    "jupyter": {
     "outputs_hidden": false,
     "source_hidden": false
    },
    "nteract": {
     "transient": {
      "deleting": false
     }
    }
   },
   "outputs": [],
   "source": [
    "from azureml.core.model import InferenceConfig, Model\n",
    "from azureml.core.webservice.aci import AciWebservice\n",
    "from azureml.core import Workspace, Experiment, Dataset\n",
    "from azureml.train.automl import AutoMLConfig\n",
    "from azureml.core.webservice import Webservice\n",
    "import azureml.core\n",
    "from azureml.pipeline.steps import AutoMLStep\n",
    "from azureml.widgets import RunDetails\n",
    "import joblib \n",
    "from azureml.core.environment import Environment\n",
    "from azureml.core.compute import ComputeTarget, AmlCompute\n",
    "from azureml.core.compute_target import ComputeTargetException\n"
   ]
  },
  {
   "cell_type": "markdown",
   "metadata": {},
   "source": [
    "## Dataset\n",
    "\n",
    "### Overview\n",
    "TODO: In this markdown cell, give an overview of the dataset you are using. Also mention the task you will be performing.\n",
    "\n",
    "\n",
    "TODO: Get data. In the cell below, write code to access the data you will be using in this project. Remember that the dataset needs to be external."
   ]
  },
  {
   "cell_type": "code",
   "execution_count": 2,
   "metadata": {
    "gather": {
     "logged": 1598423890461
    },
    "jupyter": {
     "outputs_hidden": false,
     "source_hidden": false
    },
    "nteract": {
     "transient": {
      "deleting": false
     }
    }
   },
   "outputs": [],
   "source": [
    "ws = Workspace.from_config()\n",
    "\n",
    "experiment_name = 'auto_ml_hr_analytics'\n",
    "\n",
    "experiment=Experiment(ws, experiment_name)\n"
   ]
  },
  {
   "cell_type": "code",
   "execution_count": 3,
   "metadata": {},
   "outputs": [
    {
     "name": "stdout",
     "output_type": "stream",
     "text": [
      "HR_Analytics\n"
     ]
    }
   ],
   "source": [
    "for ds in ws.datasets:\n",
    "    print(ds)"
   ]
  },
  {
   "cell_type": "code",
   "execution_count": 4,
   "metadata": {},
   "outputs": [
    {
     "data": {
      "text/plain": [
       "{\n",
       "  \"source\": [\n",
       "    \"('workspaceblobstore', 'UI/02-07-2021_055345_UTC/aug_train.csv')\"\n",
       "  ],\n",
       "  \"definition\": [\n",
       "    \"GetDatastoreFiles\",\n",
       "    \"ParseDelimited\",\n",
       "    \"DropColumns\",\n",
       "    \"SetColumnTypes\"\n",
       "  ],\n",
       "  \"registration\": {\n",
       "    \"id\": \"2116a5e3-6534-4f0f-8308-12c22102d1cd\",\n",
       "    \"name\": \"HR_Analytics\",\n",
       "    \"version\": 1,\n",
       "    \"workspace\": \"Workspace.create(name='quick-starts-ws-137947', subscription_id='d7f39349-a66b-446e-aba6-0053c2cf1c11', resource_group='aml-quickstarts-137947')\"\n",
       "  }\n",
       "}"
      ]
     },
     "execution_count": 4,
     "metadata": {},
     "output_type": "execute_result"
    }
   ],
   "source": [
    "data = ws.datasets[\"HR_Analytics\"]\n",
    "data"
   ]
  },
  {
   "cell_type": "markdown",
   "metadata": {},
   "source": [
    "## AutoML Configuration\n",
    "\n",
    "TODO: Explain why you chose the automl settings and cofiguration you used below."
   ]
  },
  {
   "cell_type": "code",
   "execution_count": 5,
   "metadata": {},
   "outputs": [
    {
     "name": "stdout",
     "output_type": "stream",
     "text": [
      "Cluster exists\n"
     ]
    }
   ],
   "source": [
    "try:\n",
    "    cluster_project = ComputeTarget(workspace=ws, name=\"aml-compute-capstone\")\n",
    "    print(\"Cluster exists\")\n",
    "except:\n",
    "    config = AmlCompute.provisioning_configuration(vm_size='STANDARD_D2_V2', max_nodes=4)\n",
    "    cluster_project = ComputeTarget.create(ws, \"aml-compute-capstone\", config)\n",
    "\n",
    "cluster_project.wait_for_completion()"
   ]
  },
  {
   "cell_type": "code",
   "execution_count": 6,
   "metadata": {
    "gather": {
     "logged": 1598429217746
    },
    "jupyter": {
     "outputs_hidden": false,
     "source_hidden": false
    },
    "nteract": {
     "transient": {
      "deleting": false
     }
    }
   },
   "outputs": [],
   "source": [
    "# TODO: Put your automl settings here\n",
    "automl_settings = {\n",
    "    \"experiment_timeout_minutes\": 30,\n",
    "    \"task\": \"classification\", \n",
    "    \"primary_metric\": \"accuracy\",\n",
    "    \"training_data\": data,\n",
    "    \"label_column_name\": \"target\",\n",
    "    \"n_cross_validations\": 5,\n",
    "    \"compute_target\": cluster_project\n",
    "}\n",
    "\n",
    "# TODO: Put your automl config here\n",
    "automl_config = AutoMLConfig(**automl_settings)"
   ]
  },
  {
   "cell_type": "code",
   "execution_count": 7,
   "metadata": {
    "gather": {
     "logged": 1598431107951
    },
    "jupyter": {
     "outputs_hidden": false,
     "source_hidden": false
    },
    "nteract": {
     "transient": {
      "deleting": false
     }
    }
   },
   "outputs": [
    {
     "name": "stdout",
     "output_type": "stream",
     "text": [
      "Running on remote.\n",
      "No run_configuration provided, running on aml-compute-capstone with default configuration\n",
      "Running on remote compute: aml-compute-capstone\n",
      "Parent Run ID: AutoML_fce72d34-aac2-4bcd-b750-d3c4e785655d\n",
      "\n",
      "Current status: FeaturesGeneration. Generating features for the dataset.\n",
      "Current status: DatasetCrossValidationSplit. Generating individually featurized CV splits.\n",
      "Current status: ModelSelection. Beginning model selection.\n",
      "\n",
      "****************************************************************************************************\n",
      "DATA GUARDRAILS: \n",
      "\n",
      "TYPE:         Class balancing detection\n",
      "STATUS:       PASSED\n",
      "DESCRIPTION:  Your inputs were analyzed, and all classes are balanced in your training data.\n",
      "              Learn more about imbalanced data: https://aka.ms/AutomatedMLImbalancedData\n",
      "\n",
      "****************************************************************************************************\n",
      "\n",
      "TYPE:         Missing feature values imputation\n",
      "STATUS:       DONE\n",
      "DESCRIPTION:  If the missing values are expected, let the run complete. Otherwise cancel the current run and use a script to customize the handling of missing feature values that may be more appropriate based on the data type and business requirement.\n",
      "              Learn more about missing value imputation: https://aka.ms/AutomatedMLFeaturization\n",
      "DETAILS:      \n",
      "+---------------------------------+---------------------------------+\n",
      "|Column name                      |Missing value count              |\n",
      "+=================================+=================================+\n",
      "|gender                           |4508                             |\n",
      "|enrolled_university              |386                              |\n",
      "|education_level                  |460                              |\n",
      "|major_discipline                 |2813                             |\n",
      "|experience                       |65                               |\n",
      "|company_size                     |5938                             |\n",
      "|company_type                     |6140                             |\n",
      "|last_new_job                     |423                              |\n",
      "+---------------------------------+---------------------------------+\n",
      "\n",
      "****************************************************************************************************\n",
      "\n",
      "TYPE:         High cardinality feature detection\n",
      "STATUS:       PASSED\n",
      "DESCRIPTION:  Your inputs were analyzed, and no high cardinality features were detected.\n",
      "              Learn more about high cardinality feature handling: https://aka.ms/AutomatedMLFeaturization\n",
      "\n",
      "****************************************************************************************************\n",
      "\n",
      "****************************************************************************************************\n",
      "ITERATION: The iteration being evaluated.\n",
      "PIPELINE: A summary description of the pipeline being evaluated.\n",
      "DURATION: Time taken for the current iteration.\n",
      "METRIC: The result of computing score on the fitted pipeline.\n",
      "BEST: The best observed score thus far.\n",
      "****************************************************************************************************\n",
      "\n",
      " ITERATION   PIPELINE                                       DURATION      METRIC      BEST\n",
      "         0   MaxAbsScaler LightGBM                          0:01:11       0.7949    0.7949\n",
      "         1   MaxAbsScaler XGBoostClassifier                 0:01:16       0.7926    0.7949\n",
      "         2   MaxAbsScaler RandomForest                      0:01:08       0.7755    0.7949\n",
      "         3   MaxAbsScaler RandomForest                      0:00:56       0.7665    0.7949\n",
      "         4   MaxAbsScaler RandomForest                      0:00:59       0.7542    0.7949\n",
      "         5   MaxAbsScaler RandomForest                      0:00:55       0.6982    0.7949\n",
      "         6   SparseNormalizer XGBoostClassifier             0:01:08       0.7776    0.7949\n",
      "         7   MaxAbsScaler RandomForest                      0:01:26       0.7578    0.7949\n",
      "         8   SparseNormalizer LightGBM                      0:00:54       0.7683    0.7949\n",
      "         9   MaxAbsScaler LogisticRegression                0:00:59       0.7719    0.7949\n",
      "        10   SparseNormalizer XGBoostClassifier             0:01:48       0.7804    0.7949\n",
      "        11   MaxAbsScaler LightGBM                          0:00:53       0.7704    0.7949\n",
      "        12   MaxAbsScaler ExtremeRandomTrees                0:01:43       0.7552    0.7949\n",
      "        13   StandardScalerWrapper LightGBM                 0:00:56       0.7507    0.7949\n",
      "        14   StandardScalerWrapper RandomForest             0:00:54       0.7779    0.7949\n",
      "        15   SparseNormalizer XGBoostClassifier             0:01:02       0.7759    0.7949\n",
      "        16   StandardScalerWrapper RandomForest             0:00:47       0.7514    0.7949\n",
      "        17   StandardScalerWrapper LightGBM                 0:00:54       0.7507    0.7949\n",
      "        18   MaxAbsScaler LogisticRegression                0:00:56       0.7712    0.7949\n",
      "        19   StandardScalerWrapper LightGBM                 0:00:48       0.7966    0.7966\n",
      "        20   StandardScalerWrapper XGBoostClassifier        0:00:58       0.7791    0.7966\n",
      "        21   StandardScalerWrapper ExtremeRandomTrees       0:00:53       0.7605    0.7966\n",
      "        22    VotingEnsemble                                0:01:26       0.8002    0.8002\n",
      "        23    StackEnsemble                                 0:01:38       0.7958    0.8002\n"
     ]
    }
   ],
   "source": [
    "# TODO: Submit your experiment\n",
    "remote_run = experiment.submit(automl_config,show_output=True)"
   ]
  },
  {
   "cell_type": "markdown",
   "metadata": {},
   "source": [
    "## Run Details\n",
    "\n",
    "OPTIONAL: Write about the different models trained and their performance. Why do you think some models did better than others?\n",
    "\n",
    "TODO: In the cell below, use the `RunDetails` widget to show the different experiments."
   ]
  },
  {
   "cell_type": "code",
   "execution_count": 8,
   "metadata": {
    "gather": {
     "logged": 1598431121770
    },
    "jupyter": {
     "outputs_hidden": false,
     "source_hidden": false
    },
    "nteract": {
     "transient": {
      "deleting": false
     }
    }
   },
   "outputs": [
    {
     "data": {
      "application/vnd.jupyter.widget-view+json": {
       "model_id": "89b642fccdf44058becf32b1ea5e2533",
       "version_major": 2,
       "version_minor": 0
      },
      "text/plain": [
       "_AutoMLWidget(widget_settings={'childWidgetDisplay': 'popup', 'send_telemetry': False, 'log_level': 'INFO', 's…"
      ]
     },
     "metadata": {},
     "output_type": "display_data"
    },
    {
     "data": {
      "application/aml.mini.widget.v1": "{\"status\": \"Completed\", \"workbench_run_details_uri\": \"https://ml.azure.com/experiments/auto_ml_hr_analytics/runs/AutoML_fce72d34-aac2-4bcd-b750-d3c4e785655d?wsid=/subscriptions/d7f39349-a66b-446e-aba6-0053c2cf1c11/resourcegroups/aml-quickstarts-137947/workspaces/quick-starts-ws-137947\", \"run_id\": \"AutoML_fce72d34-aac2-4bcd-b750-d3c4e785655d\", \"run_properties\": {\"run_id\": \"AutoML_fce72d34-aac2-4bcd-b750-d3c4e785655d\", \"created_utc\": \"2021-02-07T18:07:53.755709Z\", \"properties\": {\"num_iterations\": \"1000\", \"training_type\": \"TrainFull\", \"acquisition_function\": \"EI\", \"primary_metric\": \"accuracy\", \"train_split\": \"0\", \"acquisition_parameter\": \"0\", \"num_cross_validation\": \"5\", \"target\": \"aml-compute-capstone\", \"AMLSettingsJsonString\": \"{\\\"path\\\":null,\\\"name\\\":\\\"auto_ml_hr_analytics\\\",\\\"subscription_id\\\":\\\"d7f39349-a66b-446e-aba6-0053c2cf1c11\\\",\\\"resource_group\\\":\\\"aml-quickstarts-137947\\\",\\\"workspace_name\\\":\\\"quick-starts-ws-137947\\\",\\\"region\\\":\\\"southcentralus\\\",\\\"compute_target\\\":\\\"aml-compute-capstone\\\",\\\"spark_service\\\":null,\\\"azure_service\\\":\\\"remote\\\",\\\"many_models\\\":false,\\\"pipeline_fetch_max_batch_size\\\":1,\\\"iterations\\\":1000,\\\"primary_metric\\\":\\\"accuracy\\\",\\\"task_type\\\":\\\"classification\\\",\\\"data_script\\\":null,\\\"validation_size\\\":0.0,\\\"n_cross_validations\\\":5,\\\"y_min\\\":null,\\\"y_max\\\":null,\\\"num_classes\\\":null,\\\"featurization\\\":\\\"auto\\\",\\\"_ignore_package_version_incompatibilities\\\":false,\\\"is_timeseries\\\":false,\\\"max_cores_per_iteration\\\":1,\\\"max_concurrent_iterations\\\":1,\\\"iteration_timeout_minutes\\\":null,\\\"mem_in_mb\\\":null,\\\"enforce_time_on_windows\\\":false,\\\"experiment_timeout_minutes\\\":30,\\\"experiment_exit_score\\\":null,\\\"whitelist_models\\\":null,\\\"blacklist_algos\\\":[\\\"TensorFlowLinearClassifier\\\",\\\"TensorFlowDNN\\\"],\\\"supported_models\\\":[\\\"LogisticRegression\\\",\\\"SGD\\\",\\\"TensorFlowDNN\\\",\\\"LinearSVM\\\",\\\"XGBoostClassifier\\\",\\\"AveragedPerceptronClassifier\\\",\\\"ExtremeRandomTrees\\\",\\\"DecisionTree\\\",\\\"GradientBoosting\\\",\\\"RandomForest\\\",\\\"TensorFlowLinearClassifier\\\",\\\"SVM\\\",\\\"BernoulliNaiveBayes\\\",\\\"MultinomialNaiveBayes\\\",\\\"LightGBM\\\",\\\"KNN\\\"],\\\"auto_blacklist\\\":true,\\\"blacklist_samples_reached\\\":false,\\\"exclude_nan_labels\\\":true,\\\"verbosity\\\":20,\\\"_debug_log\\\":\\\"azureml_automl.log\\\",\\\"show_warnings\\\":false,\\\"model_explainability\\\":true,\\\"service_url\\\":null,\\\"sdk_url\\\":null,\\\"sdk_packages\\\":null,\\\"enable_onnx_compatible_models\\\":false,\\\"enable_split_onnx_featurizer_estimator_models\\\":false,\\\"vm_type\\\":\\\"STANDARD_D2_V2\\\",\\\"telemetry_verbosity\\\":20,\\\"send_telemetry\\\":true,\\\"enable_dnn\\\":false,\\\"scenario\\\":\\\"SDK-1.13.0\\\",\\\"environment_label\\\":null,\\\"force_text_dnn\\\":false,\\\"enable_feature_sweeping\\\":true,\\\"enable_early_stopping\\\":false,\\\"early_stopping_n_iters\\\":10,\\\"metrics\\\":null,\\\"enable_ensembling\\\":true,\\\"enable_stack_ensembling\\\":true,\\\"ensemble_iterations\\\":15,\\\"enable_tf\\\":false,\\\"enable_subsampling\\\":null,\\\"subsample_seed\\\":null,\\\"enable_nimbusml\\\":false,\\\"enable_streaming\\\":false,\\\"force_streaming\\\":false,\\\"track_child_runs\\\":true,\\\"allowed_private_models\\\":[],\\\"label_column_name\\\":\\\"target\\\",\\\"weight_column_name\\\":null,\\\"cv_split_column_names\\\":null,\\\"enable_local_managed\\\":false,\\\"_local_managed_run_id\\\":null,\\\"cost_mode\\\":1,\\\"lag_length\\\":0,\\\"metric_operation\\\":\\\"maximize\\\",\\\"preprocess\\\":true}\", \"DataPrepJsonString\": \"{\\\\\\\"training_data\\\\\\\": \\\\\\\"{\\\\\\\\\\\\\\\"blocks\\\\\\\\\\\\\\\": [{\\\\\\\\\\\\\\\"id\\\\\\\\\\\\\\\": \\\\\\\\\\\\\\\"69260551-a922-400e-ac69-47f4261f26a3\\\\\\\\\\\\\\\", \\\\\\\\\\\\\\\"type\\\\\\\\\\\\\\\": \\\\\\\\\\\\\\\"Microsoft.DPrep.GetDatastoreFilesBlock\\\\\\\\\\\\\\\", \\\\\\\\\\\\\\\"arguments\\\\\\\\\\\\\\\": {\\\\\\\\\\\\\\\"datastores\\\\\\\\\\\\\\\": [{\\\\\\\\\\\\\\\"datastoreName\\\\\\\\\\\\\\\": \\\\\\\\\\\\\\\"workspaceblobstore\\\\\\\\\\\\\\\", \\\\\\\\\\\\\\\"path\\\\\\\\\\\\\\\": \\\\\\\\\\\\\\\"UI/02-07-2021_055345_UTC/aug_train.csv\\\\\\\\\\\\\\\", \\\\\\\\\\\\\\\"resourceGroup\\\\\\\\\\\\\\\": \\\\\\\\\\\\\\\"aml-quickstarts-137947\\\\\\\\\\\\\\\", \\\\\\\\\\\\\\\"subscription\\\\\\\\\\\\\\\": \\\\\\\\\\\\\\\"d7f39349-a66b-446e-aba6-0053c2cf1c11\\\\\\\\\\\\\\\", \\\\\\\\\\\\\\\"workspaceName\\\\\\\\\\\\\\\": \\\\\\\\\\\\\\\"quick-starts-ws-137947\\\\\\\\\\\\\\\"}]}, \\\\\\\\\\\\\\\"localData\\\\\\\\\\\\\\\": {}, \\\\\\\\\\\\\\\"isEnabled\\\\\\\\\\\\\\\": true, \\\\\\\\\\\\\\\"name\\\\\\\\\\\\\\\": null, \\\\\\\\\\\\\\\"annotation\\\\\\\\\\\\\\\": null}, {\\\\\\\\\\\\\\\"id\\\\\\\\\\\\\\\": \\\\\\\\\\\\\\\"8e867438-c36f-4767-9e1c-5c3244a2cc9d\\\\\\\\\\\\\\\", \\\\\\\\\\\\\\\"type\\\\\\\\\\\\\\\": \\\\\\\\\\\\\\\"Microsoft.DPrep.ParseDelimitedBlock\\\\\\\\\\\\\\\", \\\\\\\\\\\\\\\"arguments\\\\\\\\\\\\\\\": {\\\\\\\\\\\\\\\"columnHeadersMode\\\\\\\\\\\\\\\": 1, \\\\\\\\\\\\\\\"fileEncoding\\\\\\\\\\\\\\\": 0, \\\\\\\\\\\\\\\"handleQuotedLineBreaks\\\\\\\\\\\\\\\": false, \\\\\\\\\\\\\\\"preview\\\\\\\\\\\\\\\": false, \\\\\\\\\\\\\\\"separator\\\\\\\\\\\\\\\": \\\\\\\\\\\\\\\",\\\\\\\\\\\\\\\", \\\\\\\\\\\\\\\"skipRows\\\\\\\\\\\\\\\": 0, \\\\\\\\\\\\\\\"skipRowsMode\\\\\\\\\\\\\\\": 0}, \\\\\\\\\\\\\\\"localData\\\\\\\\\\\\\\\": {}, \\\\\\\\\\\\\\\"isEnabled\\\\\\\\\\\\\\\": true, \\\\\\\\\\\\\\\"name\\\\\\\\\\\\\\\": null, \\\\\\\\\\\\\\\"annotation\\\\\\\\\\\\\\\": null}, {\\\\\\\\\\\\\\\"id\\\\\\\\\\\\\\\": \\\\\\\\\\\\\\\"0553c534-b4f1-460e-a994-f788450f149c\\\\\\\\\\\\\\\", \\\\\\\\\\\\\\\"type\\\\\\\\\\\\\\\": \\\\\\\\\\\\\\\"Microsoft.DPrep.DropColumnsBlock\\\\\\\\\\\\\\\", \\\\\\\\\\\\\\\"arguments\\\\\\\\\\\\\\\": {\\\\\\\\\\\\\\\"columns\\\\\\\\\\\\\\\": {\\\\\\\\\\\\\\\"type\\\\\\\\\\\\\\\": 0, \\\\\\\\\\\\\\\"details\\\\\\\\\\\\\\\": {\\\\\\\\\\\\\\\"selectedColumns\\\\\\\\\\\\\\\": [\\\\\\\\\\\\\\\"Path\\\\\\\\\\\\\\\", \\\\\\\\\\\\\\\"enrollee_id\\\\\\\\\\\\\\\", \\\\\\\\\\\\\\\"city\\\\\\\\\\\\\\\"]}}}, \\\\\\\\\\\\\\\"localData\\\\\\\\\\\\\\\": {}, \\\\\\\\\\\\\\\"isEnabled\\\\\\\\\\\\\\\": true, \\\\\\\\\\\\\\\"name\\\\\\\\\\\\\\\": null, \\\\\\\\\\\\\\\"annotation\\\\\\\\\\\\\\\": null}, {\\\\\\\\\\\\\\\"id\\\\\\\\\\\\\\\": \\\\\\\\\\\\\\\"29b91275-d738-40cf-9032-0342795f2a62\\\\\\\\\\\\\\\", \\\\\\\\\\\\\\\"type\\\\\\\\\\\\\\\": \\\\\\\\\\\\\\\"Microsoft.DPrep.SetColumnTypesBlock\\\\\\\\\\\\\\\", \\\\\\\\\\\\\\\"arguments\\\\\\\\\\\\\\\": {\\\\\\\\\\\\\\\"columnConversion\\\\\\\\\\\\\\\": [{\\\\\\\\\\\\\\\"column\\\\\\\\\\\\\\\": {\\\\\\\\\\\\\\\"type\\\\\\\\\\\\\\\": 2, \\\\\\\\\\\\\\\"details\\\\\\\\\\\\\\\": {\\\\\\\\\\\\\\\"selectedColumn\\\\\\\\\\\\\\\": \\\\\\\\\\\\\\\"Path\\\\\\\\\\\\\\\"}}, \\\\\\\\\\\\\\\"typeProperty\\\\\\\\\\\\\\\": 0}, {\\\\\\\\\\\\\\\"column\\\\\\\\\\\\\\\": {\\\\\\\\\\\\\\\"type\\\\\\\\\\\\\\\": 2, \\\\\\\\\\\\\\\"details\\\\\\\\\\\\\\\": {\\\\\\\\\\\\\\\"selectedColumn\\\\\\\\\\\\\\\": \\\\\\\\\\\\\\\"enrollee_id\\\\\\\\\\\\\\\"}}, \\\\\\\\\\\\\\\"typeProperty\\\\\\\\\\\\\\\": 2}, {\\\\\\\\\\\\\\\"column\\\\\\\\\\\\\\\": {\\\\\\\\\\\\\\\"type\\\\\\\\\\\\\\\": 2, \\\\\\\\\\\\\\\"details\\\\\\\\\\\\\\\": {\\\\\\\\\\\\\\\"selectedColumn\\\\\\\\\\\\\\\": \\\\\\\\\\\\\\\"city\\\\\\\\\\\\\\\"}}, \\\\\\\\\\\\\\\"typeProperty\\\\\\\\\\\\\\\": 0}, {\\\\\\\\\\\\\\\"column\\\\\\\\\\\\\\\": {\\\\\\\\\\\\\\\"type\\\\\\\\\\\\\\\": 2, \\\\\\\\\\\\\\\"details\\\\\\\\\\\\\\\": {\\\\\\\\\\\\\\\"selectedColumn\\\\\\\\\\\\\\\": \\\\\\\\\\\\\\\"city_development_index\\\\\\\\\\\\\\\"}}, \\\\\\\\\\\\\\\"typeProperty\\\\\\\\\\\\\\\": 3}, {\\\\\\\\\\\\\\\"column\\\\\\\\\\\\\\\": {\\\\\\\\\\\\\\\"type\\\\\\\\\\\\\\\": 2, \\\\\\\\\\\\\\\"details\\\\\\\\\\\\\\\": {\\\\\\\\\\\\\\\"selectedColumn\\\\\\\\\\\\\\\": \\\\\\\\\\\\\\\"gender\\\\\\\\\\\\\\\"}}, \\\\\\\\\\\\\\\"typeProperty\\\\\\\\\\\\\\\": 0}, {\\\\\\\\\\\\\\\"column\\\\\\\\\\\\\\\": {\\\\\\\\\\\\\\\"type\\\\\\\\\\\\\\\": 2, \\\\\\\\\\\\\\\"details\\\\\\\\\\\\\\\": {\\\\\\\\\\\\\\\"selectedColumn\\\\\\\\\\\\\\\": \\\\\\\\\\\\\\\"relevent_experience\\\\\\\\\\\\\\\"}}, \\\\\\\\\\\\\\\"typeProperty\\\\\\\\\\\\\\\": 0}, {\\\\\\\\\\\\\\\"column\\\\\\\\\\\\\\\": {\\\\\\\\\\\\\\\"type\\\\\\\\\\\\\\\": 2, \\\\\\\\\\\\\\\"details\\\\\\\\\\\\\\\": {\\\\\\\\\\\\\\\"selectedColumn\\\\\\\\\\\\\\\": \\\\\\\\\\\\\\\"enrolled_university\\\\\\\\\\\\\\\"}}, \\\\\\\\\\\\\\\"typeProperty\\\\\\\\\\\\\\\": 0}, {\\\\\\\\\\\\\\\"column\\\\\\\\\\\\\\\": {\\\\\\\\\\\\\\\"type\\\\\\\\\\\\\\\": 2, \\\\\\\\\\\\\\\"details\\\\\\\\\\\\\\\": {\\\\\\\\\\\\\\\"selectedColumn\\\\\\\\\\\\\\\": \\\\\\\\\\\\\\\"education_level\\\\\\\\\\\\\\\"}}, \\\\\\\\\\\\\\\"typeProperty\\\\\\\\\\\\\\\": 0}, {\\\\\\\\\\\\\\\"column\\\\\\\\\\\\\\\": {\\\\\\\\\\\\\\\"type\\\\\\\\\\\\\\\": 2, \\\\\\\\\\\\\\\"details\\\\\\\\\\\\\\\": {\\\\\\\\\\\\\\\"selectedColumn\\\\\\\\\\\\\\\": \\\\\\\\\\\\\\\"major_discipline\\\\\\\\\\\\\\\"}}, \\\\\\\\\\\\\\\"typeProperty\\\\\\\\\\\\\\\": 0}, {\\\\\\\\\\\\\\\"column\\\\\\\\\\\\\\\": {\\\\\\\\\\\\\\\"type\\\\\\\\\\\\\\\": 2, \\\\\\\\\\\\\\\"details\\\\\\\\\\\\\\\": {\\\\\\\\\\\\\\\"selectedColumn\\\\\\\\\\\\\\\": \\\\\\\\\\\\\\\"experience\\\\\\\\\\\\\\\"}}, \\\\\\\\\\\\\\\"typeProperty\\\\\\\\\\\\\\\": 0}, {\\\\\\\\\\\\\\\"column\\\\\\\\\\\\\\\": {\\\\\\\\\\\\\\\"type\\\\\\\\\\\\\\\": 2, \\\\\\\\\\\\\\\"details\\\\\\\\\\\\\\\": {\\\\\\\\\\\\\\\"selectedColumn\\\\\\\\\\\\\\\": \\\\\\\\\\\\\\\"company_size\\\\\\\\\\\\\\\"}}, \\\\\\\\\\\\\\\"typeProperty\\\\\\\\\\\\\\\": 0}, {\\\\\\\\\\\\\\\"column\\\\\\\\\\\\\\\": {\\\\\\\\\\\\\\\"type\\\\\\\\\\\\\\\": 2, \\\\\\\\\\\\\\\"details\\\\\\\\\\\\\\\": {\\\\\\\\\\\\\\\"selectedColumn\\\\\\\\\\\\\\\": \\\\\\\\\\\\\\\"company_type\\\\\\\\\\\\\\\"}}, \\\\\\\\\\\\\\\"typeProperty\\\\\\\\\\\\\\\": 0}, {\\\\\\\\\\\\\\\"column\\\\\\\\\\\\\\\": {\\\\\\\\\\\\\\\"type\\\\\\\\\\\\\\\": 2, \\\\\\\\\\\\\\\"details\\\\\\\\\\\\\\\": {\\\\\\\\\\\\\\\"selectedColumn\\\\\\\\\\\\\\\": \\\\\\\\\\\\\\\"last_new_job\\\\\\\\\\\\\\\"}}, \\\\\\\\\\\\\\\"typeProperty\\\\\\\\\\\\\\\": 0}, {\\\\\\\\\\\\\\\"column\\\\\\\\\\\\\\\": {\\\\\\\\\\\\\\\"type\\\\\\\\\\\\\\\": 2, \\\\\\\\\\\\\\\"details\\\\\\\\\\\\\\\": {\\\\\\\\\\\\\\\"selectedColumn\\\\\\\\\\\\\\\": \\\\\\\\\\\\\\\"training_hours\\\\\\\\\\\\\\\"}}, \\\\\\\\\\\\\\\"typeProperty\\\\\\\\\\\\\\\": 2}, {\\\\\\\\\\\\\\\"column\\\\\\\\\\\\\\\": {\\\\\\\\\\\\\\\"type\\\\\\\\\\\\\\\": 2, \\\\\\\\\\\\\\\"details\\\\\\\\\\\\\\\": {\\\\\\\\\\\\\\\"selectedColumn\\\\\\\\\\\\\\\": \\\\\\\\\\\\\\\"target\\\\\\\\\\\\\\\"}}, \\\\\\\\\\\\\\\"typeProperty\\\\\\\\\\\\\\\": 3}]}, \\\\\\\\\\\\\\\"localData\\\\\\\\\\\\\\\": {}, \\\\\\\\\\\\\\\"isEnabled\\\\\\\\\\\\\\\": true, \\\\\\\\\\\\\\\"name\\\\\\\\\\\\\\\": null, \\\\\\\\\\\\\\\"annotation\\\\\\\\\\\\\\\": null}], \\\\\\\\\\\\\\\"inspectors\\\\\\\\\\\\\\\": [], \\\\\\\\\\\\\\\"meta\\\\\\\\\\\\\\\": {\\\\\\\\\\\\\\\"savedDatasetId\\\\\\\\\\\\\\\": \\\\\\\\\\\\\\\"2116a5e3-6534-4f0f-8308-12c22102d1cd\\\\\\\\\\\\\\\", \\\\\\\\\\\\\\\"datasetType\\\\\\\\\\\\\\\": \\\\\\\\\\\\\\\"tabular\\\\\\\\\\\\\\\", \\\\\\\\\\\\\\\"subscriptionId\\\\\\\\\\\\\\\": \\\\\\\\\\\\\\\"d7f39349-a66b-446e-aba6-0053c2cf1c11\\\\\\\\\\\\\\\", \\\\\\\\\\\\\\\"workspaceId\\\\\\\\\\\\\\\": \\\\\\\\\\\\\\\"4c3d9f7f-befa-45c3-96b9-2cce5a1b0206\\\\\\\\\\\\\\\", \\\\\\\\\\\\\\\"workspaceLocation\\\\\\\\\\\\\\\": \\\\\\\\\\\\\\\"southcentralus\\\\\\\\\\\\\\\"}}\\\\\\\", \\\\\\\"activities\\\\\\\": 0}\", \"EnableSubsampling\": null, \"runTemplate\": \"AutoML\", \"azureml.runsource\": \"automl\", \"display_task_type\": \"classification\", \"dependencies_versions\": \"{\\\"azureml-widgets\\\": \\\"1.20.0\\\", \\\"azureml-train\\\": \\\"1.20.0\\\", \\\"azureml-train-restclients-hyperdrive\\\": \\\"1.20.0\\\", \\\"azureml-train-core\\\": \\\"1.20.0\\\", \\\"azureml-train-automl\\\": \\\"1.20.0\\\", \\\"azureml-train-automl-runtime\\\": \\\"1.20.0\\\", \\\"azureml-train-automl-client\\\": \\\"1.20.0\\\", \\\"azureml-tensorboard\\\": \\\"1.20.0\\\", \\\"azureml-telemetry\\\": \\\"1.20.0\\\", \\\"azureml-sdk\\\": \\\"1.20.0\\\", \\\"azureml-samples\\\": \\\"0+unknown\\\", \\\"azureml-pipeline\\\": \\\"1.20.0\\\", \\\"azureml-pipeline-steps\\\": \\\"1.20.0\\\", \\\"azureml-pipeline-core\\\": \\\"1.20.0\\\", \\\"azureml-opendatasets\\\": \\\"1.20.0\\\", \\\"azureml-model-management-sdk\\\": \\\"1.0.1b6.post1\\\", \\\"azureml-mlflow\\\": \\\"1.20.0.post1\\\", \\\"azureml-interpret\\\": \\\"1.20.0\\\", \\\"azureml-explain-model\\\": \\\"1.20.0\\\", \\\"azureml-defaults\\\": \\\"1.20.0\\\", \\\"azureml-dataset-runtime\\\": \\\"1.20.0\\\", \\\"azureml-dataprep\\\": \\\"2.7.3\\\", \\\"azureml-dataprep-rslex\\\": \\\"1.5.0\\\", \\\"azureml-dataprep-native\\\": \\\"27.0.0\\\", \\\"azureml-datadrift\\\": \\\"1.20.0\\\", \\\"azureml-core\\\": \\\"1.20.0\\\", \\\"azureml-contrib-services\\\": \\\"1.20.0\\\", \\\"azureml-contrib-server\\\": \\\"1.20.0\\\", \\\"azureml-contrib-reinforcementlearning\\\": \\\"1.20.0\\\", \\\"azureml-contrib-pipeline-steps\\\": \\\"1.20.0\\\", \\\"azureml-contrib-notebook\\\": \\\"1.20.0\\\", \\\"azureml-contrib-interpret\\\": \\\"1.20.0\\\", \\\"azureml-contrib-gbdt\\\": \\\"1.20.0\\\", \\\"azureml-contrib-fairness\\\": \\\"1.20.0\\\", \\\"azureml-contrib-dataset\\\": \\\"1.20.0\\\", \\\"azureml-cli-common\\\": \\\"1.20.0\\\", \\\"azureml-automl-runtime\\\": \\\"1.20.0\\\", \\\"azureml-automl-core\\\": \\\"1.20.0\\\", \\\"azureml-accel-models\\\": \\\"1.20.0\\\"}\", \"_aml_system_scenario_identification\": \"Remote.Parent\", \"ClientType\": \"SDK\", \"environment_cpu_name\": \"AzureML-AutoML\", \"environment_cpu_label\": \"prod\", \"environment_gpu_name\": \"AzureML-AutoML-GPU\", \"environment_gpu_label\": \"prod\", \"root_attribution\": \"automl\", \"attribution\": \"AutoML\", \"Orchestrator\": \"AutoML\", \"CancelUri\": \"https://southcentralus.experiments.azureml.net/jasmine/v1.0/subscriptions/d7f39349-a66b-446e-aba6-0053c2cf1c11/resourceGroups/aml-quickstarts-137947/providers/Microsoft.MachineLearningServices/workspaces/quick-starts-ws-137947/experimentids/14742df6-fcf1-461d-99d0-79af54e4ac97/cancel/AutoML_fce72d34-aac2-4bcd-b750-d3c4e785655d\", \"ClientSdkVersion\": \"1.21.0\", \"snapshotId\": \"00000000-0000-0000-0000-000000000000\", \"SetupRunId\": \"AutoML_fce72d34-aac2-4bcd-b750-d3c4e785655d_setup\", \"SetupRunContainerId\": \"dcid.AutoML_fce72d34-aac2-4bcd-b750-d3c4e785655d_setup\", \"FeaturizationRunJsonPath\": \"featurizer_container.json\", \"FeaturizationRunId\": \"AutoML_fce72d34-aac2-4bcd-b750-d3c4e785655d_featurize\", \"ProblemInfoJsonString\": \"{\\\"dataset_num_categorical\\\": 0, \\\"is_sparse\\\": true, \\\"subsampling\\\": false, \\\"dataset_classes\\\": 2, \\\"dataset_features\\\": 78, \\\"dataset_samples\\\": 19158, \\\"single_frequency_class_detected\\\": false}\", \"ModelExplainRunId\": \"AutoML_fce72d34-aac2-4bcd-b750-d3c4e785655d_ModelExplain\"}, \"tags\": {\"model_explain_run\": \"best_run\", \"_aml_system_azureml.automlComponent\": \"AutoML\", \"pipeline_id\": \"\", \"score\": \"\", \"predicted_cost\": \"\", \"fit_time\": \"\", \"training_percent\": \"\", \"iteration\": \"\", \"run_preprocessor\": \"\", \"run_algorithm\": \"\", \"automl_best_child_run_id\": \"AutoML_fce72d34-aac2-4bcd-b750-d3c4e785655d_22\"}, \"end_time_utc\": \"2021-02-07T18:49:44.326657Z\", \"status\": \"Completed\", \"log_files\": {}, \"log_groups\": [], \"run_duration\": \"0:41:50\"}, \"child_runs\": [{\"run_id\": \"AutoML_fce72d34-aac2-4bcd-b750-d3c4e785655d_0\", \"run_number\": 5, \"metric\": null, \"status\": \"Completed\", \"run_type\": \"azureml.scriptrun\", \"training_percent\": \"100\", \"start_time\": \"2021-02-07T18:15:48.607606Z\", \"end_time\": \"2021-02-07T18:16:59.845592Z\", \"created_time\": \"2021-02-07T18:15:05.627596Z\", \"created_time_dt\": \"2021-02-07T18:15:05.627596Z\", \"duration\": \"0:01:54\", \"iteration\": \"0\", \"goal\": \"accuracy_max\", \"run_name\": \"MaxAbsScaler, LightGBM\", \"run_properties\": \"copy=True\", \"primary_metric\": 0.79486362, \"best_metric\": 0.79486362}, {\"run_id\": \"AutoML_fce72d34-aac2-4bcd-b750-d3c4e785655d_1\", \"run_number\": 6, \"metric\": null, \"status\": \"Completed\", \"run_type\": \"azureml.scriptrun\", \"training_percent\": \"100\", \"start_time\": \"2021-02-07T18:17:20.518988Z\", \"end_time\": \"2021-02-07T18:18:36.684464Z\", \"created_time\": \"2021-02-07T18:17:02.105642Z\", \"created_time_dt\": \"2021-02-07T18:17:02.105642Z\", \"duration\": \"0:01:34\", \"iteration\": \"1\", \"goal\": \"accuracy_max\", \"run_name\": \"MaxAbsScaler, XGBoostClassifier\", \"run_properties\": \"copy=True\", \"primary_metric\": 0.79256706, \"best_metric\": 0.79486362}, {\"run_id\": \"AutoML_fce72d34-aac2-4bcd-b750-d3c4e785655d_2\", \"run_number\": 7, \"metric\": null, \"status\": \"Completed\", \"run_type\": \"azureml.scriptrun\", \"training_percent\": \"100\", \"start_time\": \"2021-02-07T18:19:15.748072Z\", \"end_time\": \"2021-02-07T18:20:23.787754Z\", \"created_time\": \"2021-02-07T18:18:39.432997Z\", \"created_time_dt\": \"2021-02-07T18:18:39.432997Z\", \"duration\": \"0:01:44\", \"iteration\": \"2\", \"goal\": \"accuracy_max\", \"run_name\": \"MaxAbsScaler, RandomForest\", \"run_properties\": \"copy=True\", \"primary_metric\": 0.77549828, \"best_metric\": 0.79486362}, {\"run_id\": \"AutoML_fce72d34-aac2-4bcd-b750-d3c4e785655d_3\", \"run_number\": 8, \"metric\": null, \"status\": \"Completed\", \"run_type\": \"azureml.scriptrun\", \"training_percent\": \"100\", \"start_time\": \"2021-02-07T18:20:41.363025Z\", \"end_time\": \"2021-02-07T18:21:37.379376Z\", \"created_time\": \"2021-02-07T18:20:26.495044Z\", \"created_time_dt\": \"2021-02-07T18:20:26.495044Z\", \"duration\": \"0:01:10\", \"iteration\": \"3\", \"goal\": \"accuracy_max\", \"run_name\": \"MaxAbsScaler, RandomForest\", \"run_properties\": \"copy=True\", \"primary_metric\": 0.76646786, \"best_metric\": 0.79486362}, {\"run_id\": \"AutoML_fce72d34-aac2-4bcd-b750-d3c4e785655d_4\", \"run_number\": 9, \"metric\": null, \"status\": \"Completed\", \"run_type\": \"azureml.scriptrun\", \"training_percent\": \"100\", \"start_time\": \"2021-02-07T18:21:59.129431Z\", \"end_time\": \"2021-02-07T18:22:57.968601Z\", \"created_time\": \"2021-02-07T18:21:42.201437Z\", \"created_time_dt\": \"2021-02-07T18:21:42.201437Z\", \"duration\": \"0:01:15\", \"iteration\": \"4\", \"goal\": \"accuracy_max\", \"run_name\": \"MaxAbsScaler, RandomForest\", \"run_properties\": \"copy=True\", \"primary_metric\": 0.75420263, \"best_metric\": 0.79486362}, {\"run_id\": \"AutoML_fce72d34-aac2-4bcd-b750-d3c4e785655d_5\", \"run_number\": 10, \"metric\": null, \"status\": \"Completed\", \"run_type\": \"azureml.scriptrun\", \"training_percent\": \"100\", \"start_time\": \"2021-02-07T18:23:13.171303Z\", \"end_time\": \"2021-02-07T18:24:08.104582Z\", \"created_time\": \"2021-02-07T18:23:00.069507Z\", \"created_time_dt\": \"2021-02-07T18:23:00.069507Z\", \"duration\": \"0:01:08\", \"iteration\": \"5\", \"goal\": \"accuracy_max\", \"run_name\": \"MaxAbsScaler, RandomForest\", \"run_properties\": \"copy=True\", \"primary_metric\": 0.69819354, \"best_metric\": 0.79486362}, {\"run_id\": \"AutoML_fce72d34-aac2-4bcd-b750-d3c4e785655d_6\", \"run_number\": 11, \"metric\": null, \"status\": \"Completed\", \"run_type\": \"azureml.scriptrun\", \"training_percent\": \"100\", \"start_time\": \"2021-02-07T18:24:32.114924Z\", \"end_time\": \"2021-02-07T18:25:40.15552Z\", \"created_time\": \"2021-02-07T18:24:12.303806Z\", \"created_time_dt\": \"2021-02-07T18:24:12.303806Z\", \"duration\": \"0:01:27\", \"iteration\": \"6\", \"goal\": \"accuracy_max\", \"run_name\": \"SparseNormalizer, XGBoostClassifier\", \"run_properties\": \"<azureml.automl.runtime.shared.model_wrappers.SparseNormalizer object at 0x7f837cec6198\", \"primary_metric\": 0.77763858, \"best_metric\": 0.79486362}, {\"run_id\": \"AutoML_fce72d34-aac2-4bcd-b750-d3c4e785655d_7\", \"run_number\": 12, \"metric\": null, \"status\": \"Completed\", \"run_type\": \"azureml.scriptrun\", \"training_percent\": \"100\", \"start_time\": \"2021-02-07T18:25:56.501761Z\", \"end_time\": \"2021-02-07T18:27:22.542125Z\", \"created_time\": \"2021-02-07T18:25:43.732436Z\", \"created_time_dt\": \"2021-02-07T18:25:43.732436Z\", \"duration\": \"0:01:38\", \"iteration\": \"7\", \"goal\": \"accuracy_max\", \"run_name\": \"MaxAbsScaler, RandomForest\", \"run_properties\": \"copy=True\", \"primary_metric\": 0.75775062, \"best_metric\": 0.79486362}, {\"run_id\": \"AutoML_fce72d34-aac2-4bcd-b750-d3c4e785655d_8\", \"run_number\": 13, \"metric\": null, \"status\": \"Completed\", \"run_type\": \"azureml.scriptrun\", \"training_percent\": \"100\", \"start_time\": \"2021-02-07T18:27:40.80617Z\", \"end_time\": \"2021-02-07T18:28:34.638903Z\", \"created_time\": \"2021-02-07T18:27:26.465647Z\", \"created_time_dt\": \"2021-02-07T18:27:26.465647Z\", \"duration\": \"0:01:08\", \"iteration\": \"8\", \"goal\": \"accuracy_max\", \"run_name\": \"SparseNormalizer, LightGBM\", \"run_properties\": \"<azureml.automl.runtime.shared.model_wrappers.SparseNormalizer object at 0x7fcdb3d8c0b8\", \"primary_metric\": 0.76829484, \"best_metric\": 0.79486362}, {\"run_id\": \"AutoML_fce72d34-aac2-4bcd-b750-d3c4e785655d_9\", \"run_number\": 14, \"metric\": null, \"status\": \"Completed\", \"run_type\": \"azureml.scriptrun\", \"training_percent\": \"100\", \"start_time\": \"2021-02-07T18:28:51.464596Z\", \"end_time\": \"2021-02-07T18:29:50.491464Z\", \"created_time\": \"2021-02-07T18:28:36.914323Z\", \"created_time_dt\": \"2021-02-07T18:28:36.914323Z\", \"duration\": \"0:01:13\", \"iteration\": \"9\", \"goal\": \"accuracy_max\", \"run_name\": \"MaxAbsScaler, LogisticRegression\", \"run_properties\": \"copy=True\", \"primary_metric\": 0.77189676, \"best_metric\": 0.79486362}, {\"run_id\": \"AutoML_fce72d34-aac2-4bcd-b750-d3c4e785655d_10\", \"run_number\": 15, \"metric\": null, \"status\": \"Completed\", \"run_type\": \"azureml.scriptrun\", \"training_percent\": \"100\", \"start_time\": \"2021-02-07T18:30:12.270927Z\", \"end_time\": \"2021-02-07T18:32:00.215066Z\", \"created_time\": \"2021-02-07T18:29:53.787756Z\", \"created_time_dt\": \"2021-02-07T18:29:53.787756Z\", \"duration\": \"0:02:06\", \"iteration\": \"10\", \"goal\": \"accuracy_max\", \"run_name\": \"SparseNormalizer, XGBoostClassifier\", \"run_properties\": \"<azureml.automl.runtime.shared.model_wrappers.SparseNormalizer object at 0x7fb17fb3b0f0\", \"primary_metric\": 0.78040529, \"best_metric\": 0.79486362}, {\"run_id\": \"AutoML_fce72d34-aac2-4bcd-b750-d3c4e785655d_11\", \"run_number\": 16, \"metric\": null, \"status\": \"Completed\", \"run_type\": \"azureml.scriptrun\", \"training_percent\": \"100\", \"start_time\": \"2021-02-07T18:32:18.156815Z\", \"end_time\": \"2021-02-07T18:33:10.993226Z\", \"created_time\": \"2021-02-07T18:32:01.922318Z\", \"created_time_dt\": \"2021-02-07T18:32:01.922318Z\", \"duration\": \"0:01:09\", \"iteration\": \"11\", \"goal\": \"accuracy_max\", \"run_name\": \"MaxAbsScaler, LightGBM\", \"run_properties\": \"copy=True\", \"primary_metric\": 0.7703829, \"best_metric\": 0.79486362}, {\"run_id\": \"AutoML_fce72d34-aac2-4bcd-b750-d3c4e785655d_12\", \"run_number\": 17, \"metric\": null, \"status\": \"Completed\", \"run_type\": \"azureml.scriptrun\", \"training_percent\": \"100\", \"start_time\": \"2021-02-07T18:33:30.697Z\", \"end_time\": \"2021-02-07T18:35:13.945375Z\", \"created_time\": \"2021-02-07T18:33:13.048224Z\", \"created_time_dt\": \"2021-02-07T18:33:13.048224Z\", \"duration\": \"0:02:00\", \"iteration\": \"12\", \"goal\": \"accuracy_max\", \"run_name\": \"MaxAbsScaler, ExtremeRandomTrees\", \"run_properties\": \"copy=True\", \"primary_metric\": 0.75519324, \"best_metric\": 0.79486362}, {\"run_id\": \"AutoML_fce72d34-aac2-4bcd-b750-d3c4e785655d_13\", \"run_number\": 18, \"metric\": null, \"status\": \"Completed\", \"run_type\": \"azureml.scriptrun\", \"training_percent\": \"100\", \"start_time\": \"2021-02-07T18:35:29.84516Z\", \"end_time\": \"2021-02-07T18:36:26.11715Z\", \"created_time\": \"2021-02-07T18:35:16.536818Z\", \"created_time_dt\": \"2021-02-07T18:35:16.536818Z\", \"duration\": \"0:01:09\", \"iteration\": \"13\", \"goal\": \"accuracy_max\", \"run_name\": \"StandardScalerWrapper, LightGBM\", \"run_properties\": \"<azureml.automl.runtime.shared.model_wrappers.StandardScalerWrapper object at 0x7fc068643908\", \"primary_metric\": 0.75065216, \"best_metric\": 0.79486362}, {\"run_id\": \"AutoML_fce72d34-aac2-4bcd-b750-d3c4e785655d_14\", \"run_number\": 19, \"metric\": null, \"status\": \"Completed\", \"run_type\": \"azureml.scriptrun\", \"training_percent\": \"100\", \"start_time\": \"2021-02-07T18:36:41.599759Z\", \"end_time\": \"2021-02-07T18:37:35.18859Z\", \"created_time\": \"2021-02-07T18:36:30.551686Z\", \"created_time_dt\": \"2021-02-07T18:36:30.551686Z\", \"duration\": \"0:01:04\", \"iteration\": \"14\", \"goal\": \"accuracy_max\", \"run_name\": \"StandardScalerWrapper, RandomForest\", \"run_properties\": \"<azureml.automl.runtime.shared.model_wrappers.StandardScalerWrapper object at 0x7efc30a656d8\", \"primary_metric\": 0.77789949, \"best_metric\": 0.79486362}, {\"run_id\": \"AutoML_fce72d34-aac2-4bcd-b750-d3c4e785655d_15\", \"run_number\": 20, \"metric\": null, \"status\": \"Completed\", \"run_type\": \"azureml.scriptrun\", \"training_percent\": \"100\", \"start_time\": \"2021-02-07T18:37:52.867349Z\", \"end_time\": \"2021-02-07T18:38:54.856158Z\", \"created_time\": \"2021-02-07T18:37:37.372523Z\", \"created_time_dt\": \"2021-02-07T18:37:37.372523Z\", \"duration\": \"0:01:17\", \"iteration\": \"15\", \"goal\": \"accuracy_max\", \"run_name\": \"SparseNormalizer, XGBoostClassifier\", \"run_properties\": \"<azureml.automl.runtime.shared.model_wrappers.SparseNormalizer object at 0x7f65418a7438\", \"primary_metric\": 0.77586356, \"best_metric\": 0.79486362}, {\"run_id\": \"AutoML_fce72d34-aac2-4bcd-b750-d3c4e785655d_16\", \"run_number\": 21, \"metric\": null, \"status\": \"Completed\", \"run_type\": \"azureml.scriptrun\", \"training_percent\": \"100\", \"start_time\": \"2021-02-07T18:39:10.575926Z\", \"end_time\": \"2021-02-07T18:39:57.500619Z\", \"created_time\": \"2021-02-07T18:38:56.850138Z\", \"created_time_dt\": \"2021-02-07T18:38:56.850138Z\", \"duration\": \"0:01:00\", \"iteration\": \"16\", \"goal\": \"accuracy_max\", \"run_name\": \"StandardScalerWrapper, RandomForest\", \"run_properties\": \"<azureml.automl.runtime.shared.model_wrappers.StandardScalerWrapper object at 0x7f46d850a0b8\", \"primary_metric\": 0.75143504, \"best_metric\": 0.79486362}, {\"run_id\": \"AutoML_fce72d34-aac2-4bcd-b750-d3c4e785655d_17\", \"run_number\": 22, \"metric\": null, \"status\": \"Completed\", \"run_type\": \"azureml.scriptrun\", \"training_percent\": \"100\", \"start_time\": \"2021-02-07T18:40:11.129201Z\", \"end_time\": \"2021-02-07T18:41:05.490924Z\", \"created_time\": \"2021-02-07T18:39:59.406272Z\", \"created_time_dt\": \"2021-02-07T18:39:59.406272Z\", \"duration\": \"0:01:06\", \"iteration\": \"17\", \"goal\": \"accuracy_max\", \"run_name\": \"StandardScalerWrapper, LightGBM\", \"run_properties\": \"<azureml.automl.runtime.shared.model_wrappers.StandardScalerWrapper object at 0x7f53b0dbd748\", \"primary_metric\": 0.75065216, \"best_metric\": 0.79486362}, {\"run_id\": \"AutoML_fce72d34-aac2-4bcd-b750-d3c4e785655d_18\", \"run_number\": 23, \"metric\": null, \"status\": \"Completed\", \"run_type\": \"azureml.scriptrun\", \"training_percent\": \"100\", \"start_time\": \"2021-02-07T18:41:25.329352Z\", \"end_time\": \"2021-02-07T18:42:21.554078Z\", \"created_time\": \"2021-02-07T18:41:08.189607Z\", \"created_time_dt\": \"2021-02-07T18:41:08.189607Z\", \"duration\": \"0:01:13\", \"iteration\": \"18\", \"goal\": \"accuracy_max\", \"run_name\": \"MaxAbsScaler, LogisticRegression\", \"run_properties\": \"copy=True\", \"primary_metric\": 0.771166, \"best_metric\": 0.79486362}, {\"run_id\": \"AutoML_fce72d34-aac2-4bcd-b750-d3c4e785655d_19\", \"run_number\": 24, \"metric\": null, \"status\": \"Completed\", \"run_type\": \"azureml.scriptrun\", \"training_percent\": \"100\", \"start_time\": \"2021-02-07T18:42:41.775444Z\", \"end_time\": \"2021-02-07T18:43:29.440282Z\", \"created_time\": \"2021-02-07T18:42:23.696793Z\", \"created_time_dt\": \"2021-02-07T18:42:23.696793Z\", \"duration\": \"0:01:05\", \"iteration\": \"19\", \"goal\": \"accuracy_max\", \"run_name\": \"StandardScalerWrapper, LightGBM\", \"run_properties\": \"<azureml.automl.runtime.shared.model_wrappers.StandardScalerWrapper object at 0x7f6ec50ad630\", \"primary_metric\": 0.79658651, \"best_metric\": 0.79658651}, {\"run_id\": \"AutoML_fce72d34-aac2-4bcd-b750-d3c4e785655d_20\", \"run_number\": 25, \"metric\": null, \"status\": \"Completed\", \"run_type\": \"azureml.scriptrun\", \"training_percent\": \"100\", \"start_time\": \"2021-02-07T18:43:51.353803Z\", \"end_time\": \"2021-02-07T18:44:49.347332Z\", \"created_time\": \"2021-02-07T18:43:32.112635Z\", \"created_time_dt\": \"2021-02-07T18:43:32.112635Z\", \"duration\": \"0:01:17\", \"iteration\": \"20\", \"goal\": \"accuracy_max\", \"run_name\": \"StandardScalerWrapper, XGBoostClassifier\", \"run_properties\": \"<azureml.automl.runtime.shared.model_wrappers.StandardScalerWrapper object at 0x7f5d0421c6d8\", \"primary_metric\": 0.77910011, \"best_metric\": 0.79658651}, {\"run_id\": \"AutoML_fce72d34-aac2-4bcd-b750-d3c4e785655d_21\", \"run_number\": 26, \"metric\": null, \"status\": \"Completed\", \"run_type\": \"azureml.scriptrun\", \"training_percent\": \"100\", \"start_time\": \"2021-02-07T18:45:04.450098Z\", \"end_time\": \"2021-02-07T18:45:57.111859Z\", \"created_time\": \"2021-02-07T18:44:51.615201Z\", \"created_time_dt\": \"2021-02-07T18:44:51.615201Z\", \"duration\": \"0:01:05\", \"iteration\": \"21\", \"goal\": \"accuracy_max\", \"run_name\": \"StandardScalerWrapper, ExtremeRandomTrees\", \"run_properties\": \"<azureml.automl.runtime.shared.model_wrappers.StandardScalerWrapper object at 0x7efbf513d828\", \"primary_metric\": 0.76046524, \"best_metric\": 0.79658651}, {\"run_id\": \"AutoML_fce72d34-aac2-4bcd-b750-d3c4e785655d_22\", \"run_number\": 27, \"metric\": null, \"status\": \"Completed\", \"run_type\": \"azureml.scriptrun\", \"training_percent\": \"100\", \"start_time\": \"2021-02-07T18:46:15.290975Z\", \"end_time\": \"2021-02-07T18:47:41.654261Z\", \"created_time\": \"2021-02-07T18:45:58.575986Z\", \"created_time_dt\": \"2021-02-07T18:45:58.575986Z\", \"duration\": \"0:01:43\", \"iteration\": \"22\", \"goal\": \"accuracy_max\", \"run_name\": \"VotingEnsemble\", \"run_properties\": \"classification_labels=None,\\n                              estimators=[('19',\\n                                           Pipeline(memory=None,\\n                                                    steps=[('standardscalerwrapper',\\n                                                            <azureml.automl.runtime.shared.model_wrappers.StandardScalerWrapper object at 0x7f7e3c507d68>\", \"primary_metric\": 0.80018817, \"best_metric\": 0.80018817}, {\"run_id\": \"AutoML_fce72d34-aac2-4bcd-b750-d3c4e785655d_23\", \"run_number\": 28, \"metric\": null, \"status\": \"Completed\", \"run_type\": \"azureml.scriptrun\", \"training_percent\": \"100\", \"start_time\": \"2021-02-07T18:47:58.7558Z\", \"end_time\": \"2021-02-07T18:49:37.248408Z\", \"created_time\": \"2021-02-07T18:47:43.939863Z\", \"created_time_dt\": \"2021-02-07T18:47:43.939863Z\", \"duration\": \"0:01:53\", \"iteration\": \"23\", \"goal\": \"accuracy_max\", \"run_name\": \"StackEnsemble\", \"run_properties\": \"base_learners=[('19',\\n                                        Pipeline(memory=None,\\n                                                 steps=[('standardscalerwrapper',\\n                                                         <azureml.automl.runtime.shared.model_wrappers.StandardScalerWrapper object at 0x7f8b8c258438>\", \"primary_metric\": 0.7958033, \"best_metric\": 0.80018817}], \"children_metrics\": {\"categories\": [0], \"series\": {\"AUC_macro\": [{\"categories\": [\"0\", \"1\", \"2\", \"3\", \"4\", \"5\", \"6\", \"7\", \"8\", \"9\", \"10\", \"11\", \"12\", \"13\", \"14\", \"15\", \"16\", \"17\", \"18\", \"19\", \"20\", \"21\", \"22\", \"23\"], \"mode\": \"markers\", \"name\": \"AUC_macro\", \"stepped\": false, \"type\": \"scatter\", \"data\": [0.798287312950035, 0.7992396138254673, 0.7906986734358018, 0.7834336479163356, 0.7915035180537294, 0.7736673890089671, 0.785592389221945, 0.7864450346630685, 0.7732946135567299, 0.7850603762632306, 0.78390849785093, 0.7917769827398293, 0.7880505203066173, 0.7871923935493246, 0.7920133870240054, 0.7821050300201418, 0.7825326264043142, 0.7910203126010563, 0.7846907248360863, 0.8007617710805418, 0.786719653625927, 0.7876429431244338, 0.7981429708474289, 0.8011770447295771]}, {\"categories\": [\"0\", \"1\", \"2\", \"3\", \"4\", \"5\", \"6\", \"7\", \"8\", \"9\", \"10\", \"11\", \"12\", \"13\", \"14\", \"15\", \"16\", \"17\", \"18\", \"19\", \"20\", \"21\", \"22\", \"23\"], \"mode\": \"lines\", \"name\": \"AUC_macro_max\", \"stepped\": true, \"type\": \"scatter\", \"data\": [0.798287312950035, 0.7992396138254673, 0.7992396138254673, 0.7992396138254673, 0.7992396138254673, 0.7992396138254673, 0.7992396138254673, 0.7992396138254673, 0.7992396138254673, 0.7992396138254673, 0.7992396138254673, 0.7992396138254673, 0.7992396138254673, 0.7992396138254673, 0.7992396138254673, 0.7992396138254673, 0.7992396138254673, 0.7992396138254673, 0.7992396138254673, 0.8007617710805418, 0.8007617710805418, 0.8007617710805418, 0.8007617710805418, 0.8011770447295771]}], \"f1_score_weighted\": [{\"categories\": [\"0\", \"1\", \"2\", \"3\", \"4\", \"5\", \"6\", \"7\", \"8\", \"9\", \"10\", \"11\", \"12\", \"13\", \"14\", \"15\", \"16\", \"17\", \"18\", \"19\", \"20\", \"21\", \"22\", \"23\"], \"mode\": \"markers\", \"name\": \"f1_score_weighted\", \"stepped\": false, \"type\": \"scatter\", \"data\": [0.7937249669514224, 0.7891752625784688, 0.747321399858371, 0.7145102046271339, 0.7676444085823344, 0.7178974936587669, 0.769572019002285, 0.6804780811389703, 0.7314341450107649, 0.7420790346068442, 0.7713195113701264, 0.733761656804907, 0.6642054555515224, 0.6437464058813542, 0.7570337323436125, 0.7654581478855885, 0.6473641337830666, 0.6437464058813542, 0.740590729306404, 0.7952974498300531, 0.7590341512650869, 0.691312532854043, 0.8032490659608094, 0.7948742203880133]}, {\"categories\": [\"0\", \"1\", \"2\", \"3\", \"4\", \"5\", \"6\", \"7\", \"8\", \"9\", \"10\", \"11\", \"12\", \"13\", \"14\", \"15\", \"16\", \"17\", \"18\", \"19\", \"20\", \"21\", \"22\", \"23\"], \"mode\": \"lines\", \"name\": \"f1_score_weighted_max\", \"stepped\": true, \"type\": \"scatter\", \"data\": [0.7937249669514224, 0.7937249669514224, 0.7937249669514224, 0.7937249669514224, 0.7937249669514224, 0.7937249669514224, 0.7937249669514224, 0.7937249669514224, 0.7937249669514224, 0.7937249669514224, 0.7937249669514224, 0.7937249669514224, 0.7937249669514224, 0.7937249669514224, 0.7937249669514224, 0.7937249669514224, 0.7937249669514224, 0.7937249669514224, 0.7937249669514224, 0.7952974498300531, 0.7952974498300531, 0.7952974498300531, 0.8032490659608094, 0.8032490659608094]}], \"recall_score_weighted\": [{\"categories\": [\"0\", \"1\", \"2\", \"3\", \"4\", \"5\", \"6\", \"7\", \"8\", \"9\", \"10\", \"11\", \"12\", \"13\", \"14\", \"15\", \"16\", \"17\", \"18\", \"19\", \"20\", \"21\", \"22\", \"23\"], \"mode\": \"markers\", \"name\": \"recall_score_weighted\", \"stepped\": false, \"type\": \"scatter\", \"data\": [0.79486362489503, 0.7925670649666576, 0.7754982836970565, 0.7664678572615772, 0.7542026261969027, 0.6981935359764235, 0.7776385807681431, 0.7577506240977762, 0.7682948384484556, 0.771896758615165, 0.7804052916298148, 0.770382902581893, 0.7551932400715187, 0.750652162421821, 0.7778994866077145, 0.7758635600466255, 0.7514350434239087, 0.750652162421821, 0.7711660015618111, 0.7965865080441994, 0.7791001084984652, 0.760465238257943, 0.800188169362235, 0.7958033000753658]}, {\"categories\": [\"0\", \"1\", \"2\", \"3\", \"4\", \"5\", \"6\", \"7\", \"8\", \"9\", \"10\", \"11\", \"12\", \"13\", \"14\", \"15\", \"16\", \"17\", \"18\", \"19\", \"20\", \"21\", \"22\", \"23\"], \"mode\": \"lines\", \"name\": \"recall_score_weighted_max\", \"stepped\": true, \"type\": \"scatter\", \"data\": [0.79486362489503, 0.79486362489503, 0.79486362489503, 0.79486362489503, 0.79486362489503, 0.79486362489503, 0.79486362489503, 0.79486362489503, 0.79486362489503, 0.79486362489503, 0.79486362489503, 0.79486362489503, 0.79486362489503, 0.79486362489503, 0.79486362489503, 0.79486362489503, 0.79486362489503, 0.79486362489503, 0.79486362489503, 0.7965865080441994, 0.7965865080441994, 0.7965865080441994, 0.800188169362235, 0.800188169362235]}], \"precision_score_macro\": [{\"categories\": [\"0\", \"1\", \"2\", \"3\", \"4\", \"5\", \"6\", \"7\", \"8\", \"9\", \"10\", \"11\", \"12\", \"13\", \"14\", \"15\", \"16\", \"17\", \"18\", \"19\", \"20\", \"21\", \"22\", \"23\"], \"mode\": \"markers\", \"name\": \"precision_score_macro\", \"stepped\": false, \"type\": \"scatter\", \"data\": [0.7256822724079728, 0.7219959233021708, 0.7004124324626025, 0.684334317103586, 0.7040195736709112, 0.6703830920692877, 0.6991711646716169, 0.6825139022214388, 0.6872330192992331, 0.6920008499661157, 0.7032236834906617, 0.6930664746186229, 0.6993862188543877, 0.3753260812109105, 0.7010851129210548, 0.6958808873826345, 0.4395398809054285, 0.3753260812109105, 0.690618171135227, 0.7281099548123742, 0.7036151451675627, 0.6955593966894306, 0.735019599997677, 0.7272314197623374]}, {\"categories\": [\"0\", \"1\", \"2\", \"3\", \"4\", \"5\", \"6\", \"7\", \"8\", \"9\", \"10\", \"11\", \"12\", \"13\", \"14\", \"15\", \"16\", \"17\", \"18\", \"19\", \"20\", \"21\", \"22\", \"23\"], \"mode\": \"lines\", \"name\": \"precision_score_macro_max\", \"stepped\": true, \"type\": \"scatter\", \"data\": [0.7256822724079728, 0.7256822724079728, 0.7256822724079728, 0.7256822724079728, 0.7256822724079728, 0.7256822724079728, 0.7256822724079728, 0.7256822724079728, 0.7256822724079728, 0.7256822724079728, 0.7256822724079728, 0.7256822724079728, 0.7256822724079728, 0.7256822724079728, 0.7256822724079728, 0.7256822724079728, 0.7256822724079728, 0.7256822724079728, 0.7256822724079728, 0.7281099548123742, 0.7281099548123742, 0.7281099548123742, 0.735019599997677, 0.735019599997677]}], \"recall_score_micro\": [{\"categories\": [\"0\", \"1\", \"2\", \"3\", \"4\", \"5\", \"6\", \"7\", \"8\", \"9\", \"10\", \"11\", \"12\", \"13\", \"14\", \"15\", \"16\", \"17\", \"18\", \"19\", \"20\", \"21\", \"22\", \"23\"], \"mode\": \"markers\", \"name\": \"recall_score_micro\", \"stepped\": false, \"type\": \"scatter\", \"data\": [0.79486362489503, 0.7925670649666576, 0.7754982836970565, 0.7664678572615772, 0.7542026261969027, 0.6981935359764235, 0.7776385807681431, 0.7577506240977762, 0.7682948384484556, 0.771896758615165, 0.7804052916298148, 0.770382902581893, 0.7551932400715187, 0.750652162421821, 0.7778994866077145, 0.7758635600466255, 0.7514350434239087, 0.750652162421821, 0.7711660015618111, 0.7965865080441994, 0.7791001084984652, 0.760465238257943, 0.800188169362235, 0.7958033000753658]}, {\"categories\": [\"0\", \"1\", \"2\", \"3\", \"4\", \"5\", \"6\", \"7\", \"8\", \"9\", \"10\", \"11\", \"12\", \"13\", \"14\", \"15\", \"16\", \"17\", \"18\", \"19\", \"20\", \"21\", \"22\", \"23\"], \"mode\": \"lines\", \"name\": \"recall_score_micro_max\", \"stepped\": true, \"type\": \"scatter\", \"data\": [0.79486362489503, 0.79486362489503, 0.79486362489503, 0.79486362489503, 0.79486362489503, 0.79486362489503, 0.79486362489503, 0.79486362489503, 0.79486362489503, 0.79486362489503, 0.79486362489503, 0.79486362489503, 0.79486362489503, 0.79486362489503, 0.79486362489503, 0.79486362489503, 0.79486362489503, 0.79486362489503, 0.79486362489503, 0.7965865080441994, 0.7965865080441994, 0.7965865080441994, 0.800188169362235, 0.800188169362235]}], \"f1_score_macro\": [{\"categories\": [\"0\", \"1\", \"2\", \"3\", \"4\", \"5\", \"6\", \"7\", \"8\", \"9\", \"10\", \"11\", \"12\", \"13\", \"14\", \"15\", \"16\", \"17\", \"18\", \"19\", \"20\", \"21\", \"22\", \"23\"], \"mode\": \"markers\", \"name\": \"f1_score_macro\", \"stepped\": false, \"type\": \"scatter\", \"data\": [0.7230206154017388, 0.7141321136485834, 0.6325994692227479, 0.5674130260579041, 0.71348602756092, 0.6656781877287505, 0.6823767187579567, 0.5011004389171885, 0.6032435248735954, 0.6236755578773586, 0.6835602455335892, 0.6064533686932476, 0.46861195530622535, 0.42877895948114375, 0.652234289271551, 0.6743466117317896, 0.43607801960549225, 0.42877895948114375, 0.6209659256997533, 0.7248481166124805, 0.6558284000887229, 0.5221695073010909, 0.7414534645471089, 0.7248684317727422]}, {\"categories\": [\"0\", \"1\", \"2\", \"3\", \"4\", \"5\", \"6\", \"7\", \"8\", \"9\", \"10\", \"11\", \"12\", \"13\", \"14\", \"15\", \"16\", \"17\", \"18\", \"19\", \"20\", \"21\", \"22\", \"23\"], \"mode\": \"lines\", \"name\": \"f1_score_macro_max\", \"stepped\": true, \"type\": \"scatter\", \"data\": [0.7230206154017388, 0.7230206154017388, 0.7230206154017388, 0.7230206154017388, 0.7230206154017388, 0.7230206154017388, 0.7230206154017388, 0.7230206154017388, 0.7230206154017388, 0.7230206154017388, 0.7230206154017388, 0.7230206154017388, 0.7230206154017388, 0.7230206154017388, 0.7230206154017388, 0.7230206154017388, 0.7230206154017388, 0.7230206154017388, 0.7230206154017388, 0.7248481166124805, 0.7248481166124805, 0.7248481166124805, 0.7414534645471089, 0.7414534645471089]}], \"recall_score_macro\": [{\"categories\": [\"0\", \"1\", \"2\", \"3\", \"4\", \"5\", \"6\", \"7\", \"8\", \"9\", \"10\", \"11\", \"12\", \"13\", \"14\", \"15\", \"16\", \"17\", \"18\", \"19\", \"20\", \"21\", \"22\", \"23\"], \"mode\": \"markers\", \"name\": \"recall_score_macro\", \"stepped\": false, \"type\": \"scatter\", \"data\": [0.7208282971168896, 0.7080920887009382, 0.6192459468414006, 0.5762155346976712, 0.755045321464627, 0.7241326645337033, 0.6720302578149973, 0.5328019867096234, 0.5946826823529779, 0.6108914389781102, 0.6719784326196481, 0.5970125703031226, 0.5169914590786815, 0.5, 0.6366529001041129, 0.6625651193122426, 0.503121910074795, 0.5, 0.6086381652851462, 0.722113864555624, 0.6401967938986899, 0.5437882147225486, 0.74974881116578, 0.7231899688951146]}, {\"categories\": [\"0\", \"1\", \"2\", \"3\", \"4\", \"5\", \"6\", \"7\", \"8\", \"9\", \"10\", \"11\", \"12\", \"13\", \"14\", \"15\", \"16\", \"17\", \"18\", \"19\", \"20\", \"21\", \"22\", \"23\"], \"mode\": \"lines\", \"name\": \"recall_score_macro_max\", \"stepped\": true, \"type\": \"scatter\", \"data\": [0.7208282971168896, 0.7208282971168896, 0.7208282971168896, 0.7208282971168896, 0.755045321464627, 0.755045321464627, 0.755045321464627, 0.755045321464627, 0.755045321464627, 0.755045321464627, 0.755045321464627, 0.755045321464627, 0.755045321464627, 0.755045321464627, 0.755045321464627, 0.755045321464627, 0.755045321464627, 0.755045321464627, 0.755045321464627, 0.755045321464627, 0.755045321464627, 0.755045321464627, 0.755045321464627, 0.755045321464627]}], \"accuracy\": [{\"categories\": [\"0\", \"1\", \"2\", \"3\", \"4\", \"5\", \"6\", \"7\", \"8\", \"9\", \"10\", \"11\", \"12\", \"13\", \"14\", \"15\", \"16\", \"17\", \"18\", \"19\", \"20\", \"21\", \"22\", \"23\"], \"mode\": \"markers\", \"name\": \"accuracy\", \"stepped\": false, \"type\": \"scatter\", \"data\": [0.79486362489503, 0.7925670649666576, 0.7754982836970565, 0.7664678572615772, 0.7542026261969027, 0.6981935359764235, 0.7776385807681431, 0.7577506240977762, 0.7682948384484556, 0.771896758615165, 0.7804052916298148, 0.770382902581893, 0.7551932400715187, 0.750652162421821, 0.7778994866077145, 0.7758635600466255, 0.7514350434239087, 0.750652162421821, 0.7711660015618111, 0.7965865080441994, 0.7791001084984652, 0.760465238257943, 0.800188169362235, 0.7958033000753658]}, {\"categories\": [\"0\", \"1\", \"2\", \"3\", \"4\", \"5\", \"6\", \"7\", \"8\", \"9\", \"10\", \"11\", \"12\", \"13\", \"14\", \"15\", \"16\", \"17\", \"18\", \"19\", \"20\", \"21\", \"22\", \"23\"], \"mode\": \"lines\", \"name\": \"accuracy_max\", \"stepped\": true, \"type\": \"scatter\", \"data\": [0.79486362489503, 0.79486362489503, 0.79486362489503, 0.79486362489503, 0.79486362489503, 0.79486362489503, 0.79486362489503, 0.79486362489503, 0.79486362489503, 0.79486362489503, 0.79486362489503, 0.79486362489503, 0.79486362489503, 0.79486362489503, 0.79486362489503, 0.79486362489503, 0.79486362489503, 0.79486362489503, 0.79486362489503, 0.7965865080441994, 0.7965865080441994, 0.7965865080441994, 0.800188169362235, 0.800188169362235]}], \"AUC_weighted\": [{\"categories\": [\"0\", \"1\", \"2\", \"3\", \"4\", \"5\", \"6\", \"7\", \"8\", \"9\", \"10\", \"11\", \"12\", \"13\", \"14\", \"15\", \"16\", \"17\", \"18\", \"19\", \"20\", \"21\", \"22\", \"23\"], \"mode\": \"markers\", \"name\": \"AUC_weighted\", \"stepped\": false, \"type\": \"scatter\", \"data\": [0.798287312950035, 0.7992396138254672, 0.7906986734358016, 0.7834336479163355, 0.7915035180537294, 0.7736673890089671, 0.7855923711851698, 0.7864450346630686, 0.7732946135567299, 0.7850603762632306, 0.7839085068807998, 0.7917769827398293, 0.7880505203066173, 0.7871923935493246, 0.7920133870240054, 0.7821050397389645, 0.7825326264043142, 0.7910203126010563, 0.7846907248360863, 0.8007617710805419, 0.7867196536259271, 0.7876429431244338, 0.7981429708474288, 0.8011770447295771]}, {\"categories\": [\"0\", \"1\", \"2\", \"3\", \"4\", \"5\", \"6\", \"7\", \"8\", \"9\", \"10\", \"11\", \"12\", \"13\", \"14\", \"15\", \"16\", \"17\", \"18\", \"19\", \"20\", \"21\", \"22\", \"23\"], \"mode\": \"lines\", \"name\": \"AUC_weighted_max\", \"stepped\": true, \"type\": \"scatter\", \"data\": [0.798287312950035, 0.7992396138254672, 0.7992396138254672, 0.7992396138254672, 0.7992396138254672, 0.7992396138254672, 0.7992396138254672, 0.7992396138254672, 0.7992396138254672, 0.7992396138254672, 0.7992396138254672, 0.7992396138254672, 0.7992396138254672, 0.7992396138254672, 0.7992396138254672, 0.7992396138254672, 0.7992396138254672, 0.7992396138254672, 0.7992396138254672, 0.8007617710805419, 0.8007617710805419, 0.8007617710805419, 0.8007617710805419, 0.8011770447295771]}], \"matthews_correlation\": [{\"categories\": [\"0\", \"1\", \"2\", \"3\", \"4\", \"5\", \"6\", \"7\", \"8\", \"9\", \"10\", \"11\", \"12\", \"13\", \"14\", \"15\", \"16\", \"17\", \"18\", \"19\", \"20\", \"21\", \"22\", \"23\"], \"mode\": \"markers\", \"name\": \"matthews_correlation\", \"stepped\": false, \"type\": \"scatter\", \"data\": [0.4464392428151588, 0.4298016976545571, 0.30838915378528914, 0.22500733520551766, 0.45619531783107686, 0.39081800102473535, 0.37016496574497304, 0.15042966001634714, 0.26598430505967474, 0.2917633810455494, 0.37387564955994385, 0.2734820673669008, 0.1162328524413448, 0.0, 0.33144211018410435, 0.3568523628679932, 0.022414215636638386, 0.0, 0.28773305080393896, 0.45014190733154785, 0.33769269558359954, 0.18094912010894756, 0.48451091896969334, 0.45031654209782535]}, {\"categories\": [\"0\", \"1\", \"2\", \"3\", \"4\", \"5\", \"6\", \"7\", \"8\", \"9\", \"10\", \"11\", \"12\", \"13\", \"14\", \"15\", \"16\", \"17\", \"18\", \"19\", \"20\", \"21\", \"22\", \"23\"], \"mode\": \"lines\", \"name\": \"matthews_correlation_max\", \"stepped\": true, \"type\": \"scatter\", \"data\": [0.4464392428151588, 0.4464392428151588, 0.4464392428151588, 0.4464392428151588, 0.45619531783107686, 0.45619531783107686, 0.45619531783107686, 0.45619531783107686, 0.45619531783107686, 0.45619531783107686, 0.45619531783107686, 0.45619531783107686, 0.45619531783107686, 0.45619531783107686, 0.45619531783107686, 0.45619531783107686, 0.45619531783107686, 0.45619531783107686, 0.45619531783107686, 0.45619531783107686, 0.45619531783107686, 0.45619531783107686, 0.48451091896969334, 0.48451091896969334]}], \"f1_score_micro\": [{\"categories\": [\"0\", \"1\", \"2\", \"3\", \"4\", \"5\", \"6\", \"7\", \"8\", \"9\", \"10\", \"11\", \"12\", \"13\", \"14\", \"15\", \"16\", \"17\", \"18\", \"19\", \"20\", \"21\", \"22\", \"23\"], \"mode\": \"markers\", \"name\": \"f1_score_micro\", \"stepped\": false, \"type\": \"scatter\", \"data\": [0.79486362489503, 0.7925670649666575, 0.7754982836970565, 0.7664678572615772, 0.7542026261969027, 0.6981935359764235, 0.7776385807681431, 0.7577506240977763, 0.7682948384484556, 0.771896758615165, 0.7804052916298148, 0.770382902581893, 0.7551932400715187, 0.750652162421821, 0.7778994866077145, 0.7758635600466255, 0.7514350434239085, 0.750652162421821, 0.7711660015618111, 0.7965865080441994, 0.7791001084984652, 0.760465238257943, 0.800188169362235, 0.7958033000753658]}, {\"categories\": [\"0\", \"1\", \"2\", \"3\", \"4\", \"5\", \"6\", \"7\", \"8\", \"9\", \"10\", \"11\", \"12\", \"13\", \"14\", \"15\", \"16\", \"17\", \"18\", \"19\", \"20\", \"21\", \"22\", \"23\"], \"mode\": \"lines\", \"name\": \"f1_score_micro_max\", \"stepped\": true, \"type\": \"scatter\", \"data\": [0.79486362489503, 0.79486362489503, 0.79486362489503, 0.79486362489503, 0.79486362489503, 0.79486362489503, 0.79486362489503, 0.79486362489503, 0.79486362489503, 0.79486362489503, 0.79486362489503, 0.79486362489503, 0.79486362489503, 0.79486362489503, 0.79486362489503, 0.79486362489503, 0.79486362489503, 0.79486362489503, 0.79486362489503, 0.7965865080441994, 0.7965865080441994, 0.7965865080441994, 0.800188169362235, 0.800188169362235]}], \"log_loss\": [{\"categories\": [\"0\", \"1\", \"2\", \"3\", \"4\", \"5\", \"6\", \"7\", \"8\", \"9\", \"10\", \"11\", \"12\", \"13\", \"14\", \"15\", \"16\", \"17\", \"18\", \"19\", \"20\", \"21\", \"22\", \"23\"], \"mode\": \"markers\", \"name\": \"log_loss\", \"stepped\": false, \"type\": \"scatter\", \"data\": [0.43998561301201444, 0.4388759069413627, 0.4594133511513337, 0.47220086869490563, 0.5565580283075768, 0.5878408330010303, 0.45625650814283547, 0.47413206481464576, 0.4689849063275334, 0.4648221325541321, 0.46020119019117545, 0.46167605308049386, 0.4664204035927593, 0.4792222843856366, 0.4536412749539525, 0.45875029616835317, 0.4793546506142148, 0.4858457921712388, 0.4651565300261815, 0.43609501097198844, 0.4647237750741418, 0.4617826959985539, 0.4698048194117444, 0.4362221657455091]}, {\"categories\": [\"0\", \"1\", \"2\", \"3\", \"4\", \"5\", \"6\", \"7\", \"8\", \"9\", \"10\", \"11\", \"12\", \"13\", \"14\", \"15\", \"16\", \"17\", \"18\", \"19\", \"20\", \"21\", \"22\", \"23\"], \"mode\": \"lines\", \"name\": \"log_loss_min\", \"stepped\": true, \"type\": \"scatter\", \"data\": [0.43998561301201444, 0.4388759069413627, 0.4388759069413627, 0.4388759069413627, 0.4388759069413627, 0.4388759069413627, 0.4388759069413627, 0.4388759069413627, 0.4388759069413627, 0.4388759069413627, 0.4388759069413627, 0.4388759069413627, 0.4388759069413627, 0.4388759069413627, 0.4388759069413627, 0.4388759069413627, 0.4388759069413627, 0.4388759069413627, 0.4388759069413627, 0.43609501097198844, 0.43609501097198844, 0.43609501097198844, 0.43609501097198844, 0.43609501097198844]}], \"average_precision_score_micro\": [{\"categories\": [\"0\", \"1\", \"2\", \"3\", \"4\", \"5\", \"6\", \"7\", \"8\", \"9\", \"10\", \"11\", \"12\", \"13\", \"14\", \"15\", \"16\", \"17\", \"18\", \"19\", \"20\", \"21\", \"22\", \"23\"], \"mode\": \"markers\", \"name\": \"average_precision_score_micro\", \"stepped\": false, \"type\": \"scatter\", \"data\": [0.8623005833152007, 0.8613124961430298, 0.8524127924603404, 0.8477208164088488, 0.7646381237426962, 0.7699432593944135, 0.8518573486937713, 0.8479265938704256, 0.8458849886844242, 0.8481087562869775, 0.8512025146944012, 0.8523033731191948, 0.8492037356111688, 0.8457855955687377, 0.8560125126302266, 0.8502794543179488, 0.8462930802896504, 0.84920968339349, 0.8482111039408442, 0.8642929286671353, 0.8499083520369842, 0.8499508570615285, 0.8603215148995916, 0.8647004003812973]}, {\"categories\": [\"0\", \"1\", \"2\", \"3\", \"4\", \"5\", \"6\", \"7\", \"8\", \"9\", \"10\", \"11\", \"12\", \"13\", \"14\", \"15\", \"16\", \"17\", \"18\", \"19\", \"20\", \"21\", \"22\", \"23\"], \"mode\": \"lines\", \"name\": \"average_precision_score_micro_max\", \"stepped\": true, \"type\": \"scatter\", \"data\": [0.8623005833152007, 0.8623005833152007, 0.8623005833152007, 0.8623005833152007, 0.8623005833152007, 0.8623005833152007, 0.8623005833152007, 0.8623005833152007, 0.8623005833152007, 0.8623005833152007, 0.8623005833152007, 0.8623005833152007, 0.8623005833152007, 0.8623005833152007, 0.8623005833152007, 0.8623005833152007, 0.8623005833152007, 0.8623005833152007, 0.8623005833152007, 0.8642929286671353, 0.8642929286671353, 0.8642929286671353, 0.8642929286671353, 0.8647004003812973]}], \"balanced_accuracy\": [{\"categories\": [\"0\", \"1\", \"2\", \"3\", \"4\", \"5\", \"6\", \"7\", \"8\", \"9\", \"10\", \"11\", \"12\", \"13\", \"14\", \"15\", \"16\", \"17\", \"18\", \"19\", \"20\", \"21\", \"22\", \"23\"], \"mode\": \"markers\", \"name\": \"balanced_accuracy\", \"stepped\": false, \"type\": \"scatter\", \"data\": [0.7208282971168896, 0.7080920887009382, 0.6192459468414006, 0.5762155346976712, 0.755045321464627, 0.7241326645337033, 0.6720302578149973, 0.5328019867096234, 0.5946826823529779, 0.6108914389781102, 0.6719784326196481, 0.5970125703031226, 0.5169914590786815, 0.5, 0.6366529001041129, 0.6625651193122426, 0.503121910074795, 0.5, 0.6086381652851462, 0.722113864555624, 0.6401967938986899, 0.5437882147225486, 0.74974881116578, 0.7231899688951146]}, {\"categories\": [\"0\", \"1\", \"2\", \"3\", \"4\", \"5\", \"6\", \"7\", \"8\", \"9\", \"10\", \"11\", \"12\", \"13\", \"14\", \"15\", \"16\", \"17\", \"18\", \"19\", \"20\", \"21\", \"22\", \"23\"], \"mode\": \"lines\", \"name\": \"balanced_accuracy_max\", \"stepped\": true, \"type\": \"scatter\", \"data\": [0.7208282971168896, 0.7208282971168896, 0.7208282971168896, 0.7208282971168896, 0.755045321464627, 0.755045321464627, 0.755045321464627, 0.755045321464627, 0.755045321464627, 0.755045321464627, 0.755045321464627, 0.755045321464627, 0.755045321464627, 0.755045321464627, 0.755045321464627, 0.755045321464627, 0.755045321464627, 0.755045321464627, 0.755045321464627, 0.755045321464627, 0.755045321464627, 0.755045321464627, 0.755045321464627, 0.755045321464627]}], \"norm_macro_recall\": [{\"categories\": [\"0\", \"1\", \"2\", \"3\", \"4\", \"5\", \"6\", \"7\", \"8\", \"9\", \"10\", \"11\", \"12\", \"13\", \"14\", \"15\", \"16\", \"17\", \"18\", \"19\", \"20\", \"21\", \"22\", \"23\"], \"mode\": \"markers\", \"name\": \"norm_macro_recall\", \"stepped\": false, \"type\": \"scatter\", \"data\": [0.44165659423377923, 0.41618417740187647, 0.23849189368280124, 0.1524310693953422, 0.5100906429292542, 0.4482653290674065, 0.34406051562999457, 0.0656039734192467, 0.18936536470595602, 0.22178287795622045, 0.34395686523929614, 0.19402514060624512, 0.033982918157362894, 0.0, 0.27330580020822576, 0.3251302386244851, 0.006243820149590196, 0.0, 0.21727633057029241, 0.4442277291112481, 0.28039358779737983, 0.08757642944509691, 0.49949762233156003, 0.44637993779022916]}, {\"categories\": [\"0\", \"1\", \"2\", \"3\", \"4\", \"5\", \"6\", \"7\", \"8\", \"9\", \"10\", \"11\", \"12\", \"13\", \"14\", \"15\", \"16\", \"17\", \"18\", \"19\", \"20\", \"21\", \"22\", \"23\"], \"mode\": \"lines\", \"name\": \"norm_macro_recall_max\", \"stepped\": true, \"type\": \"scatter\", \"data\": [0.44165659423377923, 0.44165659423377923, 0.44165659423377923, 0.44165659423377923, 0.5100906429292542, 0.5100906429292542, 0.5100906429292542, 0.5100906429292542, 0.5100906429292542, 0.5100906429292542, 0.5100906429292542, 0.5100906429292542, 0.5100906429292542, 0.5100906429292542, 0.5100906429292542, 0.5100906429292542, 0.5100906429292542, 0.5100906429292542, 0.5100906429292542, 0.5100906429292542, 0.5100906429292542, 0.5100906429292542, 0.5100906429292542, 0.5100906429292542]}], \"precision_score_micro\": [{\"categories\": [\"0\", \"1\", \"2\", \"3\", \"4\", \"5\", \"6\", \"7\", \"8\", \"9\", \"10\", \"11\", \"12\", \"13\", \"14\", \"15\", \"16\", \"17\", \"18\", \"19\", \"20\", \"21\", \"22\", \"23\"], \"mode\": \"markers\", \"name\": \"precision_score_micro\", \"stepped\": false, \"type\": \"scatter\", \"data\": [0.79486362489503, 0.7925670649666576, 0.7754982836970565, 0.7664678572615772, 0.7542026261969027, 0.6981935359764235, 0.7776385807681431, 0.7577506240977762, 0.7682948384484556, 0.771896758615165, 0.7804052916298148, 0.770382902581893, 0.7551932400715187, 0.750652162421821, 0.7778994866077145, 0.7758635600466255, 0.7514350434239087, 0.750652162421821, 0.7711660015618111, 0.7965865080441994, 0.7791001084984652, 0.760465238257943, 0.800188169362235, 0.7958033000753658]}, {\"categories\": [\"0\", \"1\", \"2\", \"3\", \"4\", \"5\", \"6\", \"7\", \"8\", \"9\", \"10\", \"11\", \"12\", \"13\", \"14\", \"15\", \"16\", \"17\", \"18\", \"19\", \"20\", \"21\", \"22\", \"23\"], \"mode\": \"lines\", \"name\": \"precision_score_micro_max\", \"stepped\": true, \"type\": \"scatter\", \"data\": [0.79486362489503, 0.79486362489503, 0.79486362489503, 0.79486362489503, 0.79486362489503, 0.79486362489503, 0.79486362489503, 0.79486362489503, 0.79486362489503, 0.79486362489503, 0.79486362489503, 0.79486362489503, 0.79486362489503, 0.79486362489503, 0.79486362489503, 0.79486362489503, 0.79486362489503, 0.79486362489503, 0.79486362489503, 0.7965865080441994, 0.7965865080441994, 0.7965865080441994, 0.800188169362235, 0.800188169362235]}], \"precision_score_weighted\": [{\"categories\": [\"0\", \"1\", \"2\", \"3\", \"4\", \"5\", \"6\", \"7\", \"8\", \"9\", \"10\", \"11\", \"12\", \"13\", \"14\", \"15\", \"16\", \"17\", \"18\", \"19\", \"20\", \"21\", \"22\", \"23\"], \"mode\": \"markers\", \"name\": \"precision_score_weighted\", \"stepped\": false, \"type\": \"scatter\", \"data\": [0.792885877784264, 0.786938787953472, 0.7513753986653243, 0.7338992244921843, 0.8038789735530724, 0.7857503913223112, 0.7655333278424941, 0.7230485858013246, 0.7389731179281952, 0.7451934295918219, 0.767257326757923, 0.7423497353855606, 0.7281201795053931, 0.5635073887631035, 0.7561617074733776, 0.7611165941674539, 0.5949081661217789, 0.5635073887631035, 0.7439696197542712, 0.794342585804485, 0.7583113174005671, 0.7318557055764598, 0.8075097207138446, 0.7943796971159949]}, {\"categories\": [\"0\", \"1\", \"2\", \"3\", \"4\", \"5\", \"6\", \"7\", \"8\", \"9\", \"10\", \"11\", \"12\", \"13\", \"14\", \"15\", \"16\", \"17\", \"18\", \"19\", \"20\", \"21\", \"22\", \"23\"], \"mode\": \"lines\", \"name\": \"precision_score_weighted_max\", \"stepped\": true, \"type\": \"scatter\", \"data\": [0.792885877784264, 0.792885877784264, 0.792885877784264, 0.792885877784264, 0.8038789735530724, 0.8038789735530724, 0.8038789735530724, 0.8038789735530724, 0.8038789735530724, 0.8038789735530724, 0.8038789735530724, 0.8038789735530724, 0.8038789735530724, 0.8038789735530724, 0.8038789735530724, 0.8038789735530724, 0.8038789735530724, 0.8038789735530724, 0.8038789735530724, 0.8038789735530724, 0.8038789735530724, 0.8038789735530724, 0.8075097207138446, 0.8075097207138446]}], \"weighted_accuracy\": [{\"categories\": [\"0\", \"1\", \"2\", \"3\", \"4\", \"5\", \"6\", \"7\", \"8\", \"9\", \"10\", \"11\", \"12\", \"13\", \"14\", \"15\", \"16\", \"17\", \"18\", \"19\", \"20\", \"21\", \"22\", \"23\"], \"mode\": \"markers\", \"name\": \"weighted_accuracy\", \"stepped\": false, \"type\": \"scatter\", \"data\": [0.8391854481563662, 0.8431508541714962, 0.8690153861164924, 0.8798991077070205, 0.7537597875291144, 0.6827755576550476, 0.8408163240737492, 0.8922330118990297, 0.8722055851940699, 0.8681757403383976, 0.845265577737442, 0.8740832495043792, 0.8976567383172378, 0.9005442636628962, 0.8623754956824939, 0.8436736863963817, 0.899984893107502, 0.9005442636628962, 0.868347827586029, 0.8411537737138731, 0.8622350361965505, 0.8900116693428426, 0.8303833703817606, 0.8392994910863596]}, {\"categories\": [\"0\", \"1\", \"2\", \"3\", \"4\", \"5\", \"6\", \"7\", \"8\", \"9\", \"10\", \"11\", \"12\", \"13\", \"14\", \"15\", \"16\", \"17\", \"18\", \"19\", \"20\", \"21\", \"22\", \"23\"], \"mode\": \"lines\", \"name\": \"weighted_accuracy_max\", \"stepped\": true, \"type\": \"scatter\", \"data\": [0.8391854481563662, 0.8431508541714962, 0.8690153861164924, 0.8798991077070205, 0.8798991077070205, 0.8798991077070205, 0.8798991077070205, 0.8922330118990297, 0.8922330118990297, 0.8922330118990297, 0.8922330118990297, 0.8922330118990297, 0.8976567383172378, 0.9005442636628962, 0.9005442636628962, 0.9005442636628962, 0.9005442636628962, 0.9005442636628962, 0.9005442636628962, 0.9005442636628962, 0.9005442636628962, 0.9005442636628962, 0.9005442636628962, 0.9005442636628962]}], \"average_precision_score_weighted\": [{\"categories\": [\"0\", \"1\", \"2\", \"3\", \"4\", \"5\", \"6\", \"7\", \"8\", \"9\", \"10\", \"11\", \"12\", \"13\", \"14\", \"15\", \"16\", \"17\", \"18\", \"19\", \"20\", \"21\", \"22\", \"23\"], \"mode\": \"markers\", \"name\": \"average_precision_score_weighted\", \"stepped\": false, \"type\": \"scatter\", \"data\": [0.8132167132027867, 0.8126028006443814, 0.8076718002133424, 0.8039970983469725, 0.8098074225589309, 0.7975086004791807, 0.8028353069797103, 0.8062956318711061, 0.7985417636656864, 0.803363250804761, 0.8033113530557572, 0.8090295168853163, 0.8078707883493887, 0.8042482204078223, 0.8101305258395607, 0.8010654189954629, 0.8039377613382668, 0.8080419988614345, 0.8032639935839967, 0.8151369448546761, 0.8047661919537932, 0.8073935729775747, 0.8143495840120604, 0.815802592605482]}, {\"categories\": [\"0\", \"1\", \"2\", \"3\", \"4\", \"5\", \"6\", \"7\", \"8\", \"9\", \"10\", \"11\", \"12\", \"13\", \"14\", \"15\", \"16\", \"17\", \"18\", \"19\", \"20\", \"21\", \"22\", \"23\"], \"mode\": \"lines\", \"name\": \"average_precision_score_weighted_max\", \"stepped\": true, \"type\": \"scatter\", \"data\": [0.8132167132027867, 0.8132167132027867, 0.8132167132027867, 0.8132167132027867, 0.8132167132027867, 0.8132167132027867, 0.8132167132027867, 0.8132167132027867, 0.8132167132027867, 0.8132167132027867, 0.8132167132027867, 0.8132167132027867, 0.8132167132027867, 0.8132167132027867, 0.8132167132027867, 0.8132167132027867, 0.8132167132027867, 0.8132167132027867, 0.8132167132027867, 0.8151369448546761, 0.8151369448546761, 0.8151369448546761, 0.8151369448546761, 0.815802592605482]}], \"AUC_micro\": [{\"categories\": [\"0\", \"1\", \"2\", \"3\", \"4\", \"5\", \"6\", \"7\", \"8\", \"9\", \"10\", \"11\", \"12\", \"13\", \"14\", \"15\", \"16\", \"17\", \"18\", \"19\", \"20\", \"21\", \"22\", \"23\"], \"mode\": \"markers\", \"name\": \"AUC_micro\", \"stepped\": false, \"type\": \"scatter\", \"data\": [0.8752653624154678, 0.875150669033095, 0.864170630253948, 0.8591638971065045, 0.7946958503409539, 0.7744257182570298, 0.8645104354269957, 0.8586363652034039, 0.8564157627059489, 0.8611524450907853, 0.8640076965562269, 0.8632361038311034, 0.8585838885287413, 0.8581425692873209, 0.8668692149680692, 0.8628477924208833, 0.8564118511942045, 0.8595800878774069, 0.8610316836938103, 0.8768013861395527, 0.863856094857969, 0.8597269278671433, 0.8722643494535012, 0.8770606244187936]}, {\"categories\": [\"0\", \"1\", \"2\", \"3\", \"4\", \"5\", \"6\", \"7\", \"8\", \"9\", \"10\", \"11\", \"12\", \"13\", \"14\", \"15\", \"16\", \"17\", \"18\", \"19\", \"20\", \"21\", \"22\", \"23\"], \"mode\": \"lines\", \"name\": \"AUC_micro_max\", \"stepped\": true, \"type\": \"scatter\", \"data\": [0.8752653624154678, 0.8752653624154678, 0.8752653624154678, 0.8752653624154678, 0.8752653624154678, 0.8752653624154678, 0.8752653624154678, 0.8752653624154678, 0.8752653624154678, 0.8752653624154678, 0.8752653624154678, 0.8752653624154678, 0.8752653624154678, 0.8752653624154678, 0.8752653624154678, 0.8752653624154678, 0.8752653624154678, 0.8752653624154678, 0.8752653624154678, 0.8768013861395527, 0.8768013861395527, 0.8768013861395527, 0.8768013861395527, 0.8770606244187936]}], \"average_precision_score_macro\": [{\"categories\": [\"0\", \"1\", \"2\", \"3\", \"4\", \"5\", \"6\", \"7\", \"8\", \"9\", \"10\", \"11\", \"12\", \"13\", \"14\", \"15\", \"16\", \"17\", \"18\", \"19\", \"20\", \"21\", \"22\", \"23\"], \"mode\": \"markers\", \"name\": \"average_precision_score_macro\", \"stepped\": false, \"type\": \"scatter\", \"data\": [0.7225614220838033, 0.722374037501532, 0.714880708633588, 0.7104374051803836, 0.7176498179455533, 0.7000842423544953, 0.707501500834433, 0.7135196137740003, 0.701726941325102, 0.7095039389249244, 0.7093521836142822, 0.716501431245117, 0.7143860796309294, 0.7108012175442753, 0.7174960845194424, 0.7053812434429447, 0.709738195974753, 0.7149749749895948, 0.7092385467234382, 0.72478652070274, 0.7122087743849947, 0.7136991824526213, 0.7239235110259739, 0.7257716323022725]}, {\"categories\": [\"0\", \"1\", \"2\", \"3\", \"4\", \"5\", \"6\", \"7\", \"8\", \"9\", \"10\", \"11\", \"12\", \"13\", \"14\", \"15\", \"16\", \"17\", \"18\", \"19\", \"20\", \"21\", \"22\", \"23\"], \"mode\": \"lines\", \"name\": \"average_precision_score_macro_max\", \"stepped\": true, \"type\": \"scatter\", \"data\": [0.7225614220838033, 0.7225614220838033, 0.7225614220838033, 0.7225614220838033, 0.7225614220838033, 0.7225614220838033, 0.7225614220838033, 0.7225614220838033, 0.7225614220838033, 0.7225614220838033, 0.7225614220838033, 0.7225614220838033, 0.7225614220838033, 0.7225614220838033, 0.7225614220838033, 0.7225614220838033, 0.7225614220838033, 0.7225614220838033, 0.7225614220838033, 0.72478652070274, 0.72478652070274, 0.72478652070274, 0.72478652070274, 0.7257716323022725]}]}, \"metricName\": null, \"primaryMetricName\": \"accuracy\", \"showLegend\": false}, \"run_metrics\": [{\"name\": \"experiment_status\", \"run_id\": \"AutoML_fce72d34-aac2-4bcd-b750-d3c4e785655d\", \"categories\": [0, 1, 2, 3, 4, 5], \"series\": [{\"data\": [\"DatasetEvaluation\", \"FeaturesGeneration\", \"DatasetFeaturization\", \"DatasetFeaturizationCompleted\", \"DatasetCrossValidationSplit\", \"ModelSelection\"]}]}, {\"name\": \"experiment_status_description\", \"run_id\": \"AutoML_fce72d34-aac2-4bcd-b750-d3c4e785655d\", \"categories\": [0, 1, 2, 3, 4, 5], \"series\": [{\"data\": [\"Gathering dataset statistics.\", \"Generating features for the dataset.\", \"Beginning to fit featurizers and featurize the dataset.\", \"Completed fit featurizers and featurizing the dataset.\", \"Generating individually featurized CV splits.\", \"Beginning model selection.\"]}]}, {\"name\": \"recall_score_weighted\", \"run_id\": \"AutoML_fce72d34-aac2-4bcd-b750-d3c4e785655d\", \"categories\": [0], \"series\": [{\"data\": [0.800188169362235]}]}, {\"name\": \"f1_score_micro\", \"run_id\": \"AutoML_fce72d34-aac2-4bcd-b750-d3c4e785655d\", \"categories\": [0], \"series\": [{\"data\": [0.800188169362235]}]}, {\"name\": \"AUC_micro\", \"run_id\": \"AutoML_fce72d34-aac2-4bcd-b750-d3c4e785655d\", \"categories\": [0], \"series\": [{\"data\": [0.8722643494535012]}]}, {\"name\": \"accuracy\", \"run_id\": \"AutoML_fce72d34-aac2-4bcd-b750-d3c4e785655d\", \"categories\": [0], \"series\": [{\"data\": [0.800188169362235]}]}, {\"name\": \"f1_score_macro\", \"run_id\": \"AutoML_fce72d34-aac2-4bcd-b750-d3c4e785655d\", \"categories\": [0], \"series\": [{\"data\": [0.7414534645471089]}]}, {\"name\": \"log_loss\", \"run_id\": \"AutoML_fce72d34-aac2-4bcd-b750-d3c4e785655d\", \"categories\": [0], \"series\": [{\"data\": [0.4698048194117444]}]}, {\"name\": \"recall_score_macro\", \"run_id\": \"AutoML_fce72d34-aac2-4bcd-b750-d3c4e785655d\", \"categories\": [0], \"series\": [{\"data\": [0.74974881116578]}]}, {\"name\": \"AUC_weighted\", \"run_id\": \"AutoML_fce72d34-aac2-4bcd-b750-d3c4e785655d\", \"categories\": [0], \"series\": [{\"data\": [0.7981429708474288]}]}, {\"name\": \"average_precision_score_weighted\", \"run_id\": \"AutoML_fce72d34-aac2-4bcd-b750-d3c4e785655d\", \"categories\": [0], \"series\": [{\"data\": [0.8143495840120604]}]}, {\"name\": \"weighted_accuracy\", \"run_id\": \"AutoML_fce72d34-aac2-4bcd-b750-d3c4e785655d\", \"categories\": [0], \"series\": [{\"data\": [0.8303833703817606]}]}, {\"name\": \"AUC_macro\", \"run_id\": \"AutoML_fce72d34-aac2-4bcd-b750-d3c4e785655d\", \"categories\": [0], \"series\": [{\"data\": [0.7981429708474289]}]}, {\"name\": \"average_precision_score_micro\", \"run_id\": \"AutoML_fce72d34-aac2-4bcd-b750-d3c4e785655d\", \"categories\": [0], \"series\": [{\"data\": [0.8603215148995916]}]}, {\"name\": \"recall_score_micro\", \"run_id\": \"AutoML_fce72d34-aac2-4bcd-b750-d3c4e785655d\", \"categories\": [0], \"series\": [{\"data\": [0.800188169362235]}]}, {\"name\": \"norm_macro_recall\", \"run_id\": \"AutoML_fce72d34-aac2-4bcd-b750-d3c4e785655d\", \"categories\": [0], \"series\": [{\"data\": [0.49949762233156003]}]}, {\"name\": \"precision_score_macro\", \"run_id\": \"AutoML_fce72d34-aac2-4bcd-b750-d3c4e785655d\", \"categories\": [0], \"series\": [{\"data\": [0.735019599997677]}]}, {\"name\": \"matthews_correlation\", \"run_id\": \"AutoML_fce72d34-aac2-4bcd-b750-d3c4e785655d\", \"categories\": [0], \"series\": [{\"data\": [0.48451091896969334]}]}, {\"name\": \"average_precision_score_macro\", \"run_id\": \"AutoML_fce72d34-aac2-4bcd-b750-d3c4e785655d\", \"categories\": [0], \"series\": [{\"data\": [0.7239235110259739]}]}, {\"name\": \"balanced_accuracy\", \"run_id\": \"AutoML_fce72d34-aac2-4bcd-b750-d3c4e785655d\", \"categories\": [0], \"series\": [{\"data\": [0.74974881116578]}]}, {\"name\": \"f1_score_weighted\", \"run_id\": \"AutoML_fce72d34-aac2-4bcd-b750-d3c4e785655d\", \"categories\": [0], \"series\": [{\"data\": [0.8032490659608094]}]}, {\"name\": \"precision_score_micro\", \"run_id\": \"AutoML_fce72d34-aac2-4bcd-b750-d3c4e785655d\", \"categories\": [0], \"series\": [{\"data\": [0.800188169362235]}]}, {\"name\": \"precision_score_weighted\", \"run_id\": \"AutoML_fce72d34-aac2-4bcd-b750-d3c4e785655d\", \"categories\": [0], \"series\": [{\"data\": [0.8075097207138446]}]}], \"run_logs\": \"\\nRun is completed.\", \"graph\": {}, \"widget_settings\": {\"childWidgetDisplay\": \"popup\", \"send_telemetry\": false, \"log_level\": \"INFO\", \"sdk_version\": \"1.20.0\"}, \"loading\": false}"
     },
     "metadata": {},
     "output_type": "display_data"
    }
   ],
   "source": [
    "RunDetails(remote_run).show()"
   ]
  },
  {
   "cell_type": "markdown",
   "metadata": {},
   "source": [
    "## Best Model\n",
    "\n",
    "TODO: In the cell below, get the best model from the automl experiments and display all the properties of the model.\n",
    "\n"
   ]
  },
  {
   "cell_type": "code",
   "execution_count": 9,
   "metadata": {
    "gather": {
     "logged": 1598431425670
    },
    "jupyter": {
     "outputs_hidden": false,
     "source_hidden": false
    },
    "nteract": {
     "transient": {
      "deleting": false
     }
    }
   },
   "outputs": [
    {
     "name": "stderr",
     "output_type": "stream",
     "text": [
      "WARNING:root:The version of the SDK does not match the version the model was trained on.\n",
      "WARNING:root:The consistency in the result may not be guaranteed.\n",
      "WARNING:root:Package:azureml-automl-core, training version:1.21.0, current version:1.20.0\n",
      "Package:azureml-automl-runtime, training version:1.21.0, current version:1.20.0\n",
      "Package:azureml-core, training version:1.21.0.post1, current version:1.20.0\n",
      "Package:azureml-dataprep, training version:2.8.2, current version:2.7.3\n",
      "Package:azureml-dataprep-native, training version:28.0.0, current version:27.0.0\n",
      "Package:azureml-dataprep-rslex, training version:1.6.0, current version:1.5.0\n",
      "Package:azureml-dataset-runtime, training version:1.21.0, current version:1.20.0\n",
      "Package:azureml-defaults, training version:1.21.0, current version:1.20.0\n",
      "Package:azureml-interpret, training version:1.21.0, current version:1.20.0\n",
      "Package:azureml-pipeline-core, training version:1.21.0, current version:1.20.0\n",
      "Package:azureml-telemetry, training version:1.21.0, current version:1.20.0\n",
      "Package:azureml-train-automl-client, training version:1.21.0, current version:1.20.0\n",
      "Package:azureml-train-automl-runtime, training version:1.21.0, current version:1.20.0\n",
      "WARNING:root:Please ensure the version of your local conda dependencies match the version on which your model was trained in order to properly retrieve your model.\n"
     ]
    },
    {
     "name": "stdout",
     "output_type": "stream",
     "text": [
      "Run(Experiment: auto_ml_hr_analytics,\n",
      "Id: AutoML_fce72d34-aac2-4bcd-b750-d3c4e785655d_22,\n",
      "Type: azureml.scriptrun,\n",
      "Status: Completed)\n"
     ]
    }
   ],
   "source": [
    "best_auto_run, best_auto_model = remote_run.get_output()\n",
    "print(best_auto_run)"
   ]
  },
  {
   "cell_type": "code",
   "execution_count": 10,
   "metadata": {},
   "outputs": [
    {
     "name": "stdout",
     "output_type": "stream",
     "text": [
      "Run(Experiment: auto_ml_hr_analytics,\n",
      "Id: AutoML_fce72d34-aac2-4bcd-b750-d3c4e785655d_22,\n",
      "Type: azureml.scriptrun,\n",
      "Status: Completed)\n"
     ]
    }
   ],
   "source": [
    "print(best_auto_run)"
   ]
  },
  {
   "cell_type": "code",
   "execution_count": 13,
   "metadata": {},
   "outputs": [
    {
     "data": {
      "text/plain": [
       "PreFittedSoftVotingClassifier(classification_labels=None,\n",
       "                              estimators=[('19',\n",
       "                                           Pipeline(memory=None,\n",
       "                                                    steps=[('standardscalerwrapper',\n",
       "                                                            <azureml.automl.runtime.shared.model_wrappers.StandardScalerWrapper object at 0x7facc37f9da0>),\n",
       "                                                           ('lightgbmclassifier',\n",
       "                                                            LightGBMClassifier(boosting_type='gbdt',\n",
       "                                                                               class_weight=None,\n",
       "                                                                               colsample_bytree=0.6933333333333332,\n",
       "                                                                               importance_typ...\n",
       "                                                                                   min_samples_leaf=0.01,\n",
       "                                                                                   min_samples_split=0.2442105263157895,\n",
       "                                                                                   min_weight_fraction_leaf=0.0,\n",
       "                                                                                   n_estimators=10,\n",
       "                                                                                   n_jobs=1,\n",
       "                                                                                   oob_score=False,\n",
       "                                                                                   random_state=None,\n",
       "                                                                                   verbose=0,\n",
       "                                                                                   warm_start=False))],\n",
       "                                                    verbose=False))],\n",
       "                              flatten_transform=None,\n",
       "                              weights=[0.21428571428571427, 0.14285714285714285,\n",
       "                                       0.07142857142857142, 0.07142857142857142,\n",
       "                                       0.07142857142857142, 0.14285714285714285,\n",
       "                                       0.2857142857142857])"
      ]
     },
     "execution_count": 13,
     "metadata": {},
     "output_type": "execute_result"
    }
   ],
   "source": [
    "best_auto_model._final_estimator"
   ]
  },
  {
   "cell_type": "code",
   "execution_count": 11,
   "metadata": {
    "gather": {
     "logged": 1598431426111
    },
    "jupyter": {
     "outputs_hidden": false,
     "source_hidden": false
    },
    "nteract": {
     "transient": {
      "deleting": false
     }
    }
   },
   "outputs": [
    {
     "data": {
      "text/plain": [
       "['./automl_best_model.joblib']"
      ]
     },
     "execution_count": 11,
     "metadata": {},
     "output_type": "execute_result"
    }
   ],
   "source": [
    "\n",
    "joblib.dump(best_auto_model, filename=\"./automl_best_model.joblib\")"
   ]
  },
  {
   "cell_type": "markdown",
   "metadata": {},
   "source": [
    "## Model Deployment\n",
    "\n",
    "Remember you have to deploy only one of the two models you trained.. Perform the steps in the rest of this notebook only if you wish to deploy this model.\n",
    "\n",
    "TODO: In the cell below, register the model, create an inference config and deploy the model as a web service."
   ]
  },
  {
   "cell_type": "code",
   "execution_count": 12,
   "metadata": {},
   "outputs": [],
   "source": [
    "model = best_auto_run.register_model(\"best_model\", model_path=\"outputs/model.pkl\")"
   ]
  },
  {
   "cell_type": "code",
   "execution_count": 13,
   "metadata": {
    "gather": {
     "logged": 1598431435189
    },
    "jupyter": {
     "outputs_hidden": false,
     "source_hidden": false
    },
    "nteract": {
     "transient": {
      "deleting": false
     }
    }
   },
   "outputs": [],
   "source": [
    "best_auto_run.download_file('outputs/scoring_file_v_1_0_0.py', 'automl_inf/score.py')\n",
    "best_auto_run.download_file('outputs/model.pkl', 'automl_inf/model.pkl')"
   ]
  },
  {
   "cell_type": "markdown",
   "metadata": {
    "collapsed": true,
    "gather": {
     "logged": 1598431657736
    },
    "jupyter": {
     "outputs_hidden": false,
     "source_hidden": false
    },
    "nteract": {
     "transient": {
      "deleting": false
     }
    }
   },
   "source": [
    "TODO: In the cell below, send a request to the web service you deployed to test it."
   ]
  },
  {
   "cell_type": "code",
   "execution_count": 14,
   "metadata": {
    "gather": {
     "logged": 1598432707604
    },
    "jupyter": {
     "outputs_hidden": false,
     "source_hidden": false
    },
    "nteract": {
     "transient": {
      "deleting": false
     }
    }
   },
   "outputs": [],
   "source": [
    "inference_config = InferenceConfig(entry_script='automl_inf/score.py')"
   ]
  },
  {
   "cell_type": "markdown",
   "metadata": {
    "collapsed": true,
    "gather": {
     "logged": 1598432765711
    },
    "jupyter": {
     "outputs_hidden": false,
     "source_hidden": false
    },
    "nteract": {
     "transient": {
      "deleting": false
     }
    }
   },
   "source": [
    "TODO: In the cell below, print the logs of the web service and delete the service"
   ]
  },
  {
   "cell_type": "code",
   "execution_count": 15,
   "metadata": {
    "jupyter": {
     "outputs_hidden": false,
     "source_hidden": false
    },
    "nteract": {
     "transient": {
      "deleting": false
     }
    }
   },
   "outputs": [
    {
     "name": "stdout",
     "output_type": "stream",
     "text": [
      "Tips: You can try get_logs(): https://aka.ms/debugimage#dockerlog or local deployment: https://aka.ms/debugimage#debug-locally to debug if deployment takes longer than 10 minutes.\n",
      "Running.....................................................\n",
      "Succeeded\n",
      "ACI service creation operation finished, operation \"Succeeded\"\n",
      "Healthy\n"
     ]
    }
   ],
   "source": [
    "service = Model.deploy(ws, \"best-model-service\", [model], inference_config, overwrite=True)\n",
    "service.wait_for_deployment(show_output = True)\n",
    "print(service.state)"
   ]
  },
  {
   "cell_type": "code",
   "execution_count": 20,
   "metadata": {},
   "outputs": [],
   "source": [
    "import json\n",
    "data = {\"data\":\n",
    "        [\n",
    "          {\n",
    "            \"city_development_index\": 0.94,\n",
    "            \"gender\": \"Male\",\n",
    "            \"relevent_experience\": \"Has relevent experience\",\n",
    "            \"enrolled_university\": \"Full time course\",\n",
    "            \"education_level\": \"Graduate\",\n",
    "            \"major_discipline\": \"STEM\",\n",
    "            \"experience\": \">20\",\n",
    "            \"company_size\": \"<10\",\n",
    "            \"company_type\": \"Pvt Ltd\",\n",
    "            \"last_new_job\": 4,\n",
    "            \"training_hours\": 30\n",
    "          },\n",
    "          {\n",
    "            \"city_development_index\": 0.559,\n",
    "            \"gender\": \"Female\",\n",
    "            \"relevent_experience\": \"No relevent experience\",\n",
    "            \"enrolled_university\": \"no_enrollment\",\n",
    "            \"education_level\": \"Masters\",\n",
    "            \"major_discipline\": \"No Major\",\n",
    "            \"experience\": 1,\n",
    "            \"company_size\": \"100-500\",\n",
    "            \"company_type\": \"Pvt Ltd\",\n",
    "            \"last_new_job\": \"never\",\n",
    "            \"training_hours\": 7\n",
    "          },\n",
    "      ]\n",
    "    }\n",
    "input_data = json.dumps(data)"
   ]
  },
  {
   "cell_type": "code",
   "execution_count": 21,
   "metadata": {},
   "outputs": [
    {
     "data": {
      "text/plain": [
       "'{\"result\": [0.0, 1.0]}'"
      ]
     },
     "execution_count": 21,
     "metadata": {},
     "output_type": "execute_result"
    }
   ],
   "source": [
    "output = service.run(input_data)\n",
    "output"
   ]
  },
  {
   "cell_type": "code",
   "execution_count": 25,
   "metadata": {},
   "outputs": [],
   "source": [
    "service.delete()"
   ]
  }
 ],
 "metadata": {
  "kernel_info": {
   "name": "python3-azureml"
  },
  "kernelspec": {
   "display_name": "Python 3",
   "language": "python",
   "name": "python3"
  },
  "language_info": {
   "codemirror_mode": {
    "name": "ipython",
    "version": 3
   },
   "file_extension": ".py",
   "mimetype": "text/x-python",
   "name": "python",
   "nbconvert_exporter": "python",
   "pygments_lexer": "ipython3",
   "version": "3.6.9"
  },
  "nteract": {
   "version": "nteract-front-end@1.0.0"
  }
 },
 "nbformat": 4,
 "nbformat_minor": 2
}
